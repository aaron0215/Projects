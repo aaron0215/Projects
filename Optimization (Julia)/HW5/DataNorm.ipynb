{
 "cells": [
  {
   "cell_type": "markdown",
   "metadata": {},
   "source": [
    "# Norms of 1D data sets"
   ]
  },
  {
   "cell_type": "code",
   "execution_count": 13,
   "metadata": {},
   "outputs": [
    {
     "data": {
      "text/plain": [
       "9-element Array{Float64,1}:\n",
       " 0.42301665932029664\n",
       " 0.6826925550564478 \n",
       " 1.6456579813368521 \n",
       " 1.7732884646626457 \n",
       " 2.0347655804192266 \n",
       " 2.78880109331201   \n",
       " 3.6182839077621742 \n",
       " 8.236475079774124  \n",
       " 9.103565379264364  "
      ]
     },
     "execution_count": 13,
     "metadata": {},
     "output_type": "execute_result"
    }
   ],
   "source": [
    "# randomly generate a sorted list of numbers\n",
    "\n",
    "using Random, Statistics\n",
    "\n",
    "Random.seed!(0)\n",
    "\n",
    "N = 9\n",
    "y = sort(10*rand(N))"
   ]
  },
  {
   "cell_type": "code",
   "execution_count": 14,
   "metadata": {},
   "outputs": [
    {
     "name": "stdout",
     "output_type": "stream",
     "text": [
      "Academic license - for non-commercial use only\n",
      "The mean of y is: 3.3673940778786826\n"
     ]
    }
   ],
   "source": [
    "# minimize the 2-norm\n",
    "using JuMP, Gurobi\n",
    "m = Model(solver=GurobiSolver(OutputFlag=0))\n",
    "@variable(m, x)\n",
    "@objective(m, Min, sum( (y-x).^2 ) )\n",
    "\n",
    "solve(m)\n",
    "\n",
    "println(\"The mean of y is: \", getvalue(x))"
   ]
  },
  {
   "cell_type": "code",
   "execution_count": 16,
   "metadata": {},
   "outputs": [
    {
     "data": {
      "text/plain": [
       "3.367394077878682"
      ]
     },
     "execution_count": 16,
     "metadata": {},
     "output_type": "execute_result"
    }
   ],
   "source": [
    "Statistics.mean(y)\n",
    "\n",
    "# You can also write this directly as mean(y), \n",
    "# but I wanted to make explicit that this is a function in the statistics package."
   ]
  },
  {
   "cell_type": "code",
   "execution_count": 17,
   "metadata": {},
   "outputs": [
    {
     "name": "stdout",
     "output_type": "stream",
     "text": [
      "The median of y is: 2.0347655804192266\n"
     ]
    }
   ],
   "source": [
    "# minimize the 1-norm\n",
    "using JuMP,Clp\n",
    "m = Model(solver=ClpSolver())\n",
    "@variable(m, x)\n",
    "@variable(m, t[1:N])\n",
    "@constraint(m, y-x .<= t )\n",
    "@constraint(m, -t .<= y-x )\n",
    "@objective(m, Min, sum(t) )\n",
    "\n",
    "solve(m)\n",
    "\n",
    "println(\"The median of y is: \", getvalue(x))"
   ]
  },
  {
   "cell_type": "code",
   "execution_count": 18,
   "metadata": {},
   "outputs": [
    {
     "data": {
      "text/plain": [
       "2.0347655804192266"
      ]
     },
     "execution_count": 18,
     "metadata": {},
     "output_type": "execute_result"
    }
   ],
   "source": [
    "y[5]"
   ]
  },
  {
   "cell_type": "code",
   "execution_count": 19,
   "metadata": {},
   "outputs": [
    {
     "name": "stdout",
     "output_type": "stream",
     "text": [
      "The mid-range of y is: 4.76329101929233\n"
     ]
    }
   ],
   "source": [
    "# minimize the infinity-norm\n",
    "using JuMP, Clp\n",
    "m = Model(solver=ClpSolver())\n",
    "@variable(m, x)\n",
    "@variable(m, r)\n",
    "@constraint(m, y-x .<= r )\n",
    "@constraint(m, -r .<= y-x )\n",
    "@objective(m, Min, r )\n",
    "\n",
    "solve(m)\n",
    "\n",
    "println(\"The mid-range of y is: \", getvalue(x))"
   ]
  },
  {
   "cell_type": "code",
   "execution_count": 20,
   "metadata": {},
   "outputs": [
    {
     "data": {
      "text/plain": [
       "4.76329101929233"
      ]
     },
     "execution_count": 20,
     "metadata": {},
     "output_type": "execute_result"
    }
   ],
   "source": [
    "(y[1] + y[N])/2"
   ]
  },
  {
   "cell_type": "code",
   "execution_count": null,
   "metadata": {
    "collapsed": true
   },
   "outputs": [],
   "source": []
  }
 ],
 "metadata": {
  "kernelspec": {
   "display_name": "Julia 1.0.3",
   "language": "julia",
   "name": "julia-1.0"
  },
  "language_info": {
   "file_extension": ".jl",
   "mimetype": "application/julia",
   "name": "julia",
   "version": "1.0.3"
  }
 },
 "nbformat": 4,
 "nbformat_minor": 1
}
