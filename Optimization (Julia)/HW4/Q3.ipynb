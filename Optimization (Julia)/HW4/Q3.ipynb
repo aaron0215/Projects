{
 "cells": [
  {
   "cell_type": "code",
   "execution_count": 97,
   "metadata": {},
   "outputs": [
    {
     "name": "stdout",
     "output_type": "stream",
     "text": [
      "The nutrient (Calories (1000)) in food (Wheat Flour (Enriched)) is 44.7\n"
     ]
    },
    {
     "name": "stderr",
     "output_type": "stream",
     "text": [
      "┌ Warning: `convert(::Type{Array}, dfr::DataFrameRow)` is deprecated, use `permutedims(Vector(dfr))` instead.\n",
      "│   caller = top-level scope at In[97]:26\n",
      "└ @ Core In[97]:26\n",
      "┌ Warning: `convert(::Type{Array}, df::AbstractDataFrame)` is deprecated, use `convert(Matrix, df)` instead.\n",
      "│   caller = top-level scope at In[97]:27\n",
      "└ @ Core In[97]:27\n"
     ]
    },
    {
     "data": {
      "text/plain": [
       "77×9 Array{Union{Missing, Float64},2}:\n",
       " 44.7  1411.0   2.0  365.0   0.0  55.4  33.3  441.0    0.0\n",
       " 11.6   418.0   0.7   54.0   0.0   3.2   1.9   68.0    0.0\n",
       " 11.8   377.0  14.4  175.0   0.0  14.4   8.8  114.0    0.0\n",
       " 11.4   252.0   0.1   56.0   0.0  13.5   2.3   68.0    0.0\n",
       " 36.0   897.0   1.7   99.0  30.9  17.4   7.9  106.0    0.0\n",
       " 28.6   680.0   0.8   80.0   0.0  10.6   1.6  110.0    0.0\n",
       " 21.2   460.0   0.6   41.0   0.0   2.0   4.8   60.0    0.0\n",
       " 25.3   907.0   5.1  341.0   0.0  37.1   8.9   64.0    0.0\n",
       " 15.0   488.0   2.5  115.0   0.0  13.8   8.5  126.0    0.0\n",
       " 12.2   484.0   2.7  125.0   0.0  13.9   6.4  160.0    0.0\n",
       " 12.4   439.0   1.1   82.0   0.0   9.9   3.0   66.0    0.0\n",
       "  8.0   130.0   0.4   31.0  18.9   2.8   3.0   17.0    0.0\n",
       " 12.5   288.0   0.5   50.0   0.0   0.0   0.0    0.0    0.0\n",
       "  ⋮                                ⋮                      \n",
       " 13.5   104.0   2.5  136.0   4.5   6.3   1.4   24.0  136.0\n",
       " 20.0  1367.0   4.2  345.0   2.9  28.7  18.4  162.0    0.0\n",
       " 17.4  1055.0   3.7  459.0   5.1  26.9  38.2   93.0    0.0\n",
       " 26.9  1691.0  11.4  792.0   0.0  38.4  24.6  217.0    0.0\n",
       "  0.0     0.0   0.0    0.0   0.0   4.0   5.1   50.0    0.0\n",
       "  0.0     0.0   0.0    0.0   0.0   0.0   2.3   42.0    0.0\n",
       "  8.7   237.0   3.0   72.0   0.0   2.0  11.9   40.0    0.0\n",
       "  8.0    77.0   1.3   39.0   0.0   0.9   3.4   14.0    0.0\n",
       " 34.9     0.0   0.0    0.0   0.0   0.0   0.0    0.0    0.0\n",
       " 14.7     0.0   0.5   74.0   0.0   0.0   0.0    5.0    0.0\n",
       "  9.0     0.0  10.3  244.0   0.0   1.9   7.5  146.0    0.0\n",
       "  6.4    11.0   0.4    7.0   0.2   0.2   0.4    3.0    0.0"
      ]
     },
     "execution_count": 97,
     "metadata": {},
     "output_type": "execute_result"
    }
   ],
   "source": [
    "# Get data\n",
    "using CSV\n",
    "\n",
    "# import Stigler's data set\n",
    "raw = CSV.read(\"stigler.csv\")\n",
    "\n",
    "# list of food\n",
    "foods = raw[2:end,1]\n",
    "\n",
    "# list of nutrients\n",
    "nutrients = [string(names(raw)[i]) for i=2:length(names(raw))]\n",
    "\n",
    "# minimum required amount of each nutrient\n",
    "lower_bound = raw[1,2:end]\n",
    "\n",
    "# data[f,i] is the amount of nutrient i contained in food f \n",
    "data = raw[2:end,2:end]\n",
    "\n",
    "# Note: data is not a matrix, but a dataframe. \n",
    "# You can access individual elements as if it was a matrix:\n",
    "a = data[1,1]   # get the first element \n",
    "println(\"The nutrient ($(nutrients[1])) in food ($(foods[1])) is $a\")\n",
    "typeof(a)       # will tell you that a is a floating point number\n",
    "\n",
    "lower_bound = raw[1,2:end]\n",
    "min_require = convert(Array, lower_bound)\n",
    "nut_data = convert(Array, data)"
   ]
  },
  {
   "cell_type": "code",
   "execution_count": 139,
   "metadata": {},
   "outputs": [
    {
     "name": "stdout",
     "output_type": "stream",
     "text": [
      "Normal diet formulation\n",
      "Optimal\n",
      "\n",
      "objective = 39.661731545466246\n",
      "\n",
      "Wheat Flour (Enriched) makes up the optimal diet\n",
      "Liver (Beef) makes up the optimal diet\n",
      "Cabbage makes up the optimal diet\n",
      "Spinach makes up the optimal diet\n",
      "Navy Beans, Dried makes up the optimal diet\n",
      "[1.3195, 41.6514, 0.0590381, 10.7745, -0.0, 1.63536, 0.982985, 13.0179, -0.0]\n",
      "[0.0, -0.0, 0.0, 0.0, -0.0, 0.0, 0.0, 0.0, -0.0]\n",
      "[0.0, -0.0, 0.0, 0.0, -0.0, 0.0, 0.0, 0.0, -0.0]\n",
      "[0.0, -0.0, 0.0, 0.0, -0.0, 0.0, 0.0, 0.0, -0.0]\n",
      "[0.0, -0.0, 0.0, 0.0, 0.0, 0.0, 0.0, 0.0, -0.0]\n",
      "[0.0, -0.0, 0.0, 0.0, -0.0, 0.0, 0.0, 0.0, -0.0]\n",
      "[0.0, -0.0, 0.0, 0.0, -0.0, 0.0, 0.0, 0.0, -0.0]\n",
      "[0.0, -0.0, 0.0, 0.0, -0.0, 0.0, 0.0, 0.0, -0.0]\n",
      "[0.0, -0.0, 0.0, 0.0, -0.0, 0.0, 0.0, 0.0, -0.0]\n",
      "[0.0, -0.0, 0.0, 0.0, -0.0, 0.0, 0.0, 0.0, -0.0]\n",
      "[0.0, -0.0, 0.0, 0.0, -0.0, 0.0, 0.0, 0.0, -0.0]\n",
      "[0.0, -0.0, 0.0, 0.0, 0.0, 0.0, 0.0, 0.0, -0.0]\n",
      "[0.0, -0.0, 0.0, 0.0, -0.0, -0.0, -0.0, -0.0, -0.0]\n",
      "[0.0, -0.0, 0.0, 0.0, 0.0, 0.0, 0.0, 0.0, 0.0]\n",
      "[0.0, -0.0, 0.0, 0.0, 0.0, 0.0, 0.0, 0.0, 0.0]\n",
      "[0.0, 0.0, 0.0, 0.0, -0.0, -0.0, 0.0, 0.0, -0.0]\n",
      "[0.0, 0.0, 0.0, 0.0, -0.0, 0.0, -0.0, -0.0, -0.0]\n",
      "[0.0, -0.0, 0.0, 0.0, 0.0, 0.0, 0.0, 0.0, -0.0]\n",
      "[0.0, -0.0, 0.0, 0.0, 0.0, 0.0, 0.0, 0.0, -0.0]\n",
      "[0.0, -0.0, 0.0, 0.0, 0.0, 0.0, 0.0, -0.0, 0.0]\n",
      "[0.0, -0.0, 0.0, 0.0, -0.0, 0.0, 0.0, 0.0, -0.0]\n",
      "[0.0, -0.0, 0.0, 0.0, 0.0, 0.0, 0.0, -0.0, -0.0]\n",
      "[-0.0, -0.0, -0.0, -0.0, -0.0, -0.0, -0.0, -0.0, -0.0]\n",
      "[-0.0, -0.0, -0.0, -0.0, 0.0, -0.0, 0.0, 0.0, -0.0]\n",
      "[0.0, -0.0, 0.0, 0.0, 0.0, 0.0, 0.0, 0.0, -0.0]\n",
      "[0.0, -0.0, 0.0, 0.0, 0.0, 0.0, 0.0, 0.0, -0.0]\n",
      "[0.0, -0.0, 0.0, 0.0, -0.0, -0.0, 0.0, -0.0, -0.0]\n",
      "[0.0, -0.0, 0.0, 0.0, 0.0, 0.0, 0.0, 0.0, -0.0]\n",
      "[0.0, -0.0, 0.0, 0.0, -0.0, 0.0, -0.0, -0.0, -0.0]\n",
      "[0.00416363, 0.630222, 0.000378511, 0.263065, 0.320221, 0.0121124, 0.0961419, 0.598048, 0.993593]\n",
      "[0.0, -0.0, 0.0, 0.0, -0.0, 0.0, 0.0, 0.0, -0.0]\n",
      "[0.0, -0.0, 0.0, 0.0, -0.0, 0.0, 0.0, 0.0, -0.0]\n",
      "[0.0, -0.0, 0.0, 0.0, -0.0, 0.0, 0.0, 0.0, -0.0]\n",
      "[0.0, -0.0, 0.0, 0.0, -0.0, 0.0, 0.0, 0.0, -0.0]\n",
      "[0.0, -0.0, 0.0, 0.0, -0.0, 0.0, 0.0, 0.0, -0.0]\n",
      "[0.0, -0.0, 0.0, 0.0, -0.0, 0.0, 0.0, 0.0, -0.0]\n",
      "[0.0, -0.0, 0.0, 0.0, -0.0, 0.0, 0.0, -0.0, -0.0]\n",
      "[0.0, -0.0, 0.0, 0.0, 0.0, 0.0, 0.0, 0.0, 0.0]\n",
      "[0.0, -0.0, 0.0, 0.0, -0.0, 0.0, 0.0, 0.0, -0.0]\n",
      "[0.0, -0.0, 0.0, 0.0, 0.0, 0.0, 0.0, 0.0, -0.0]\n",
      "[0.0, 0.0, 0.0, 0.0, 0.0, 0.0, 0.0, 0.0, -0.0]\n",
      "[0.0, 0.0, 0.0, 0.0, 0.0, 0.0, 0.0, 0.0, -0.0]\n",
      "[0.0, 0.0, 0.0, 0.0, -0.0, 0.0, -0.0, 0.0, -0.0]\n",
      "[0.0, 0.0, 0.0, 0.0, 0.0, 0.0, 0.0, 0.0, -0.0]\n",
      "[0.0, 0.0, 0.0, 0.0, 0.0, 0.0, 0.0, 0.0, -0.0]\n",
      "[0.0291575, 1.4018, 0.0448577, 0.40372, 0.0807439, 0.10093, 0.050465, 0.291575, 60.2103]\n",
      "[0.0, 0.0, 0.0, 0.0, 0.0, 0.0, 0.0, 0.0, -0.0]\n",
      "[0.0, 0.0, 0.0, 0.0, 0.0, 0.0, 0.0, 0.0, -0.0]\n",
      "[0.0, 0.0, 0.0, 0.0, 0.0, 0.0, 0.0, 0.0, -0.0]\n",
      "[0.0, 0.0, 0.0, 0.0, 0.0, 0.0, 0.0, 0.0, -0.0]\n",
      "[0.0, 0.0, 0.0, 0.0, 0.0, 0.0, 0.0, 0.0, -0.0]\n",
      "[0.00550843, 0.530812, -0.0, 0.691057, 4.59904, 0.0285437, 0.0691057, 0.165253, 13.7961]\n",
      "[0.0, 0.0, 0.0, 0.0, 0.0, 0.0, 0.0, 0.0, -0.0]\n",
      "[0.0, 0.0, 0.0, 0.0, 0.0, 0.0, 0.0, 0.0, -0.0]\n",
      "[0.0, 0.0, 0.0, 0.0, 0.0, 0.0, 0.0, 0.0, -0.0]\n",
      "[0.0, 0.0, 0.0, 0.0, 0.0, 0.0, 0.0, 0.0, -0.0]\n",
      "[0.0, 0.0, 0.0, 0.0, 0.0, 0.0, 0.0, 0.0, -0.0]\n",
      "[0.0, 0.0, 0.0, 0.0, 0.0, 0.0, 0.0, 0.0, -0.0]\n",
      "[0.0, -0.0, 0.0, 0.0, 0.0, 0.0, 0.0, 0.0, -0.0]\n",
      "[0.0, 0.0, 0.0, 0.0, 0.0, 0.0, 0.0, 0.0, -0.0]\n",
      "[0.0, 0.0, 0.0, 0.0, 0.0, 0.0, 0.0, 0.0, -0.0]\n",
      "[0.0, 0.0, 0.0, 0.0, 0.0, 0.0, 0.0, 0.0, -0.0]\n",
      "[0.0, 0.0, 0.0, 0.0, 0.0, 0.0, 0.0, 0.0, -0.0]\n",
      "[0.0, 0.0, 0.0, -0.0, 0.0, 0.0, 0.0, 0.0, 0.0]\n",
      "[0.0, 0.0, 0.0, 0.0, 0.0, 0.0, 0.0, 0.0, -0.0]\n",
      "[0.0, 0.0, 0.0, -0.0, 0.0, 0.0, 0.0, 0.0, 0.0]\n",
      "[0.0, -0.0, 0.0, 0.0, 0.0, 0.0, 0.0, 0.0, -0.0]\n",
      "[0.0, -0.0, 0.0, 0.0, 0.0, 0.0, 0.0, 0.0, -0.0]\n",
      "[1.64167, 103.199, 0.695726, 48.3346, -0.0, 2.3435, 1.5013, 13.2432, -0.0]\n",
      "[-0.0, -0.0, -0.0, -0.0, -0.0, 0.0, 0.0, -0.0, -0.0]\n",
      "[-0.0, -0.0, -0.0, -0.0, -0.0, -0.0, 0.0, -0.0, -0.0]\n",
      "[0.0, -0.0, 0.0, 0.0, -0.0, 0.0, 0.0, 0.0, -0.0]\n",
      "[0.0, -0.0, 0.0, 0.0, -0.0, 0.0, 0.0, 0.0, -0.0]\n",
      "[-0.0, -0.0, -0.0, -0.0, -0.0, -0.0, -0.0, -0.0, -0.0]\n",
      "[0.0, -0.0, 0.0, -0.0, -0.0, -0.0, -0.0, 0.0, -0.0]\n",
      "[0.0, -0.0, 0.0, -0.0, -0.0, 0.0, 0.0, 0.0, -0.0]\n",
      "[0.0, -0.0, 0.0, 0.0, 0.0, 0.0, 0.0, 0.0, -0.0]\n"
     ]
    }
   ],
   "source": [
    "using JuMP, Clp\n",
    "\n",
    "original = Model(solver=ClpSolver())\n",
    "a = @variable(original, money_spent[1:size(foods,1)] >= 0) # Money spent on each food\n",
    "b = @variable(original, food_cost[1:size(foods,1), 1:size(nutrients,1)]) # Nutrition cost\n",
    "\n",
    "# Get the nutrition cost\n",
    "for i in 1:size(foods,1)\n",
    "    @constraint(original, food_cost[i,:] .== nut_data[i,:]*money_spent[i])\n",
    "end\n",
    "\n",
    "# Nutient needs to be >= zeor\n",
    "for j in 1:size(nutrients,1)\n",
    "    @constraint(original, sum(food_cost[:,j]) >= min_require[j])\n",
    "end\n",
    "    \n",
    "@objective(original, Min, sum(money_spent))     # minimize the price\n",
    "\n",
    "println(\"Normal diet formulation\")\n",
    "\n",
    "status = solve(original)\n",
    "\n",
    "println(status)\n",
    "println()\n",
    "println(\"objective = \", getobjectivevalue(original) * 365 )\n",
    "println()\n",
    "\n",
    "for i in 1:size(foods,1)\n",
    "    if(getvalue(money_spent[i]) > 0)\n",
    "        println(foods[i],\" makes up the optimal diet\")\n",
    "    end\n",
    "end\n",
    "\n",
    "for i in 1:size(foods,1)\n",
    "    println(getvalue(food_cost[i,:]))\n",
    "end"
   ]
  },
  {
   "cell_type": "code",
   "execution_count": 144,
   "metadata": {},
   "outputs": [
    {
     "name": "stdout",
     "output_type": "stream",
     "text": [
      "[0.0, 0.845028, 0.295598, 0.85928, 0.488905, 0.697754, 0.716618, 0.470793, 0.650135, 0.702682, 0.807327, 0.860545, 0.874567, 0.319325, 0.0436664, 0.878027, 0.778062, 0.829072, 0.234905, 0.865259, 0.698149, 0.909013, 0.823821, 0.626234, 0.923889, 0.938124, 0.934309, 0.896506, 0.919149, 6.93889e-17, 0.905858, 0.923735, 0.918808, 0.893023, 0.87305, 0.880944, 0.802597, 0.944935, 0.942666, 0.651791, 0.807805, 0.808368, 0.838166, 0.63215, 0.614812, 0.0, 0.654062, 0.828528, 0.79627, 0.554767, 0.335243, -3.33067e-16, 0.349929, 0.901664, 0.939103, 0.894879, 0.906897, 0.773733, 0.679953, 0.867687, 0.852611, 0.723622, 0.780271, 0.758248, 0.666784, 0.758024, 0.38925, 0.103139, 0.0, 0.916574, 0.962377, 0.633869, 0.833002, 0.694096, 0.855283, 0.47153, 0.924585]"
     ]
    }
   ],
   "source": [
    "print(getdual(money_spent))"
   ]
  },
  {
   "cell_type": "markdown",
   "metadata": {},
   "source": [
    "# don't touch it!!!"
   ]
  },
  {
   "cell_type": "code",
   "execution_count": 145,
   "metadata": {},
   "outputs": [
    {
     "name": "stdout",
     "output_type": "stream",
     "text": [
      "Optimal\n",
      "39.66173154546625\n",
      "Wheat Flour (Enriched) makes up the optimal diet cost 11.0 per year\n",
      "Liver (Beef) makes up the optimal diet cost 1.0 per year\n",
      "Cabbage makes up the optimal diet cost 4.0 per year\n",
      "Spinach makes up the optimal diet cost 2.0 per year\n",
      "Navy Beans, Dried makes up the optimal diet cost 22.0 per year\n"
     ]
    }
   ],
   "source": [
    "using JuMP, Clp\n",
    "\n",
    "dualModel = Model(solver=ClpSolver())\n",
    "@variable(dualModel, λ[1:size(foods,1)] >= 0) # money spent on each food\n",
    "for i in 1:size(nutrients,1)\n",
    "    @constraint(dualModel, sum(λ'*nut_data[:,i]) >= min_require[i])\n",
    "end\n",
    "@objective(dualModel, Min, sum(λ))\n",
    "status = solve(dualModel)\n",
    "println(status)\n",
    "println(getobjectivevalue(dualModel) * 365)\n",
    "for i in 1:size(foods,1)\n",
    "    if(getvalue(λ[i]) > 0)\n",
    "        println(foods[i],\" makes up the optimal diet cost \", round(getvalue(λ[i])*365),\" per year\")\n",
    "    end\n",
    "end"
   ]
  },
  {
   "cell_type": "code",
   "execution_count": 138,
   "metadata": {},
   "outputs": [
    {
     "name": "stdout",
     "output_type": "stream",
     "text": [
      "Optimal\n",
      "39.66173154546625\n",
      "0.02951906167648827 dollars spent on Calories (1000)\n",
      "0.0 dollars spent on Protein (g)\n",
      "0.0 dollars spent on Calcium (g)\n",
      "0.0 dollars spent on Iron (mg)\n",
      "0.0 dollars spent on Vitamin A (1000 IU)\n",
      "0.0 dollars spent on Thiamine (mg)\n",
      "0.0 dollars spent on Riboflavin (mg)\n",
      "0.0 dollars spent on Niacin (mg)\n",
      "0.0 dollars spent on Ascorbic Acid (mg)\n"
     ]
    }
   ],
   "source": [
    "using JuMP, Clp\n",
    "\n",
    "dualModel = Model(solver=ClpSolver())\n",
    "@variable(dualModel, λ[1:size(foods,1), 1:size(nutrients,1)] >= 0) # money spent on each nutrient\n",
    "for i in 1:size(nutrients,1)\n",
    "    #@constraint(dualModel, sum(λ'*nut_data[i,:]) >= min_require[i]) # ?\n",
    "    @constraint(dualModel, sum(λ'*nut_data[:,i]) >= min_require[i])\n",
    "end\n",
    "@objective(dualModel, Min, sum(λ))\n",
    "status = solve(dualModel)\n",
    "println(status)\n",
    "println(getobjectivevalue(dualModel)*365)\n",
    "for i in 1:size(nutrients,1)\n",
    "    println(getvalue(λ[i]),\" dollars spent on \",nutrients[i])\n",
    "end"
   ]
  },
  {
   "cell_type": "code",
   "execution_count": 101,
   "metadata": {
    "scrolled": true
   },
   "outputs": [
    {
     "name": "stdout",
     "output_type": "stream",
     "text": [
      "Optimal\n",
      "11.796000686327215\n",
      "[0.00404476] dollars spent on Calories (1000)\n",
      "[0.0034344] dollars spent on Protein (g)\n",
      "[0.00485437] dollars spent on Calcium (g)\n",
      "[0.00201613] dollars spent on Iron (mg)\n",
      "[0.00198389] dollars spent on Vitamin A (1000 IU)\n",
      "[0.00353635] dollars spent on Thiamine (mg)\n",
      "[0.00590551] dollars spent on Riboflavin (mg)\n",
      "[0.00358066] dollars spent on Niacin (mg)\n",
      "[0.00296173] dollars spent on Ascorbic Acid (mg)\n"
     ]
    }
   ],
   "source": [
    "using JuMP, Clp\n",
    "\n",
    "dualModel = Model(solver=ClpSolver())\n",
    "@variable(dualModel, λ[1:size(nutrients,1)] >= 0) # money spent on each nutrient per day\n",
    "for i in 1:size(nutrients,1)\n",
    "    @constraint(dualModel, sum(λ[i]*nut_data[:,i]) >= min_require[i])\n",
    "end\n",
    "@objective(dualModel, Min, sum(λ))\n",
    "status = solve(dualModel)\n",
    "println(status)\n",
    "println(getobjectivevalue(dualModel)*365)\n",
    "for i in 1:size(nutrients,1)\n",
    "    if(getvalue(λ[i]) > 0)\n",
    "        println(getvalue(λ[i,:]),\" dollars spent on \",nutrients[i])\n",
    "    end\n",
    "end"
   ]
  },
  {
   "cell_type": "code",
   "execution_count": 94,
   "metadata": {},
   "outputs": [
    {
     "data": {
      "text/plain": [
       "0.03231781009952662"
      ]
     },
     "execution_count": 94,
     "metadata": {},
     "output_type": "execute_result"
    }
   ],
   "source": [
    "getvalue(sum(λ))"
   ]
  },
  {
   "cell_type": "code",
   "execution_count": 89,
   "metadata": {},
   "outputs": [
    {
     "data": {
      "text/plain": [
       "()"
      ]
     },
     "execution_count": 89,
     "metadata": {},
     "output_type": "execute_result"
    }
   ],
   "source": [
    "size(min_require[1])"
   ]
  },
  {
   "cell_type": "markdown",
   "metadata": {},
   "source": [
    "# Qustion b"
   ]
  },
  {
   "cell_type": "code",
   "execution_count": 39,
   "metadata": {},
   "outputs": [
    {
     "name": "stdout",
     "output_type": "stream",
     "text": [
      "The nutrient (Calories (1000)) in food (Wheat Flour (Enriched)) is 44.7\n",
      "Optimal\n",
      "36.9982473745081\n",
      "Wheat Flour (Enriched) makes up the optimal diet cost 24.0 per year\n",
      "Liver (Beef) makes up the optimal diet cost 3.0 per year\n",
      "Cabbage makes up the optimal diet cost 4.0 per year\n",
      "Spinach makes up the optimal diet cost 1.0 per year\n",
      "Calcium Supplements makes up the optimal diet cost 5.0 per year\n"
     ]
    },
    {
     "name": "stderr",
     "output_type": "stream",
     "text": [
      "┌ Warning: `convert(::Type{Array}, dfr::DataFrameRow)` is deprecated, use `permutedims(Vector(dfr))` instead.\n",
      "│   caller = top-level scope at In[39]:26\n",
      "└ @ Core In[39]:26\n",
      "┌ Warning: `convert(::Type{Array}, df::AbstractDataFrame)` is deprecated, use `convert(Matrix, df)` instead.\n",
      "│   caller = top-level scope at In[39]:27\n",
      "└ @ Core In[39]:27\n"
     ]
    }
   ],
   "source": [
    "# Get data\n",
    "using CSV\n",
    "\n",
    "# import Stigler's data set\n",
    "raw = CSV.read(\"stiglerNew.csv\")\n",
    "\n",
    "# list of food\n",
    "foods = raw[2:end,1]\n",
    "\n",
    "# list of nutrients\n",
    "nutrients = [string(names(raw)[i]) for i=2:length(names(raw))]\n",
    "\n",
    "# minimum required amount of each nutrient\n",
    "lower_bound = raw[1,2:end]\n",
    "\n",
    "# data[f,i] is the amount of nutrient i contained in food f \n",
    "data = raw[2:end,2:end]\n",
    "\n",
    "# Note: data is not a matrix, but a dataframe. \n",
    "# You can access individual elements as if it was a matrix:\n",
    "a = data[1,1]   # get the first element \n",
    "println(\"The nutrient ($(nutrients[1])) in food ($(foods[1])) is $a\")\n",
    "typeof(a)       # will tell you that a is a floating point number\n",
    "\n",
    "lower_bound = raw[1,2:end]\n",
    "min_require = convert(Array, lower_bound)\n",
    "nut_data = convert(Array, data)\n",
    "\n",
    "using JuMP, Clp\n",
    "\n",
    "dualModel = Model(solver=ClpSolver())\n",
    "@variable(dualModel, λ[1:size(foods,1)] >= 0) # money spent on each food\n",
    "for i in 1:size(nutrients,1)\n",
    "    @constraint(dualModel, sum(λ'*nut_data[:,i]) >= min_require[i])\n",
    "end\n",
    "@objective(dualModel, Min, sum(λ))\n",
    "status = solve(dualModel)\n",
    "println(status)\n",
    "println(getobjectivevalue(dualModel) * 365)\n",
    "for i in 1:size(foods,1)\n",
    "    if(getvalue(λ[i]) > 0)\n",
    "        println(foods[i],\" makes up the optimal diet cost \", round(getvalue(λ[i])*365),\" per year\")\n",
    "    end\n",
    "end"
   ]
  }
 ],
 "metadata": {
  "kernelspec": {
   "display_name": "Julia 1.0.3",
   "language": "julia",
   "name": "julia-1.0"
  },
  "language_info": {
   "file_extension": ".jl",
   "mimetype": "application/julia",
   "name": "julia",
   "version": "1.0.3"
  }
 },
 "nbformat": 4,
 "nbformat_minor": 2
}
