{
 "cells": [
  {
   "cell_type": "markdown",
   "metadata": {},
   "source": [
    "# Question 1"
   ]
  },
  {
   "cell_type": "markdown",
   "metadata": {},
   "source": [
    "# a)\n",
    "\n",
    "A key note is that the flow of the fluid depends on the flow velocity and the area of the cross section, so it can be expressed as follows:\n",
    "    \n",
    "\n",
    "$\\alpha_4 T r^2 * \\pi r^2 = \\alpha_4 \\pi T r^4$\n",
    "\n",
    "Here we have taken into consideration the area of a circle as well, to represent the area of a cross section.\n",
    "\n",
    "Writing our problem set geometrically would look like:\n",
    "\n",
    "\n",
    "$\\max_{T,r,w} \\alpha_4 \\pi T r^4 \\\\\\ T_{min} \\leq T \\leq T_{max} \\\\  r_{min} \\leq r \\leq r_{max} \\\\  w_{min} \\leq w \\leq w_{max} \\\\  w \\leq 0.1r \\\\  \\alpha_1 \\frac{Tr}{w} + \\alpha_2 r + \\alpha_3 rw \\leq C_{max} $\n",
    "\n",
    "We want to begin by taking the log of both sides of each equation in our system. \n",
    "\n",
    "\n",
    "$ -\\alpha_4 \\pi\\ \\min_{x,y,z} -(x + 4y) \\\\ \\log{T_{min}} - x \\leq 0 \\quad x - \\log{T_{max}} \\leq 0 \\\\ \\log{r_{min}} - y \\leq 0 \\quad y - \\log{r_{max}} \\leq 0 \\\\ \\log{w_{min}} - z \\leq 0 \\quad z - \\log{w_{max}} \\leq 0 \\\\  \\log10 +z - y \\leq 0 \\\\  \\log{(e^{\\log{\\frac{\\alpha_1}{C_{max}}} +x +y -z} + e^{\\log{\\frac{\\alpha_2}{C_{max}}} + y} + e^{\\log{\\frac{\\alpha_3}{C_{max}}} +y +z})} \\leq 0 $\n",
    "\n",
    "At this point we have converted it to a convex problem. "
   ]
  },
  {
   "cell_type": "markdown",
   "metadata": {},
   "source": [
    "# b)"
   ]
  },
  {
   "cell_type": "code",
   "execution_count": 10,
   "metadata": {},
   "outputs": [
    {
     "name": "stdout",
     "output_type": "stream",
     "text": [
      "Optimal\n",
      "\n",
      "a:-1.3862943630419209\n",
      "b:5.521460927716191\n",
      "c:-0.6931471818412247\n",
      "\n",
      "T:0.24999999951949242\n",
      "r:250.00000246348623\n",
      "w:0.4999999993593603\n",
      "heat:65.02955216373964\n"
     ]
    }
   ],
   "source": [
    "# Assume Cmax = 500 and a1=a2=a3=a4=1\n",
    "\n",
    "using JuMP,Ipopt\n",
    "\n",
    "m = Model(solver = IpoptSolver(print_level=0))\n",
    "\n",
    "# DEFINE OUR 3 ALPHA VARIABLES\n",
    "@variable(m, a)\n",
    "@variable(m, b)\n",
    "@variable(m, c)\n",
    "\n",
    "@constraint(m, log(10) + c - b <= 0)\n",
    "\n",
    "# we set our Cmax to 500, as well as our alphas\n",
    "@NLconstraint(m, exp(-log(500) + a + b -c) + exp(-log(500) + b) + exp(-log(500) + b + c) <= 1)\n",
    "\n",
    "@objective(m, Min, -(a + 4b))\n",
    "\n",
    "solve(m)\n",
    "\n",
    "status = solve(m)\n",
    "println(status)\n",
    "println()\n",
    "\n",
    "a = getvalue(a)\n",
    "b = getvalue(b)\n",
    "c = getvalue(c)\n",
    "\n",
    "println(\"a:\", a)\n",
    "println(\"b:\", b)\n",
    "println(\"c:\", c)\n",
    "\n",
    "println()\n",
    "\n",
    "T = exp(a)\n",
    "r = exp(b)\n",
    "w = exp(c)\n",
    "\n",
    "println(\"T:\", T)\n",
    "println(\"r:\", r)\n",
    "println(\"w:\", w)\n",
    "\n",
    "# we can disregard a4 because it is set to 1\n",
    "println(\"heat:\", -pi*getobjectivevalue(m))\n"
   ]
  },
  {
   "cell_type": "code",
   "execution_count": 5,
   "metadata": {},
   "outputs": [
    {
     "data": {
      "text/plain": [
       "500.0000046867198"
      ]
     },
     "execution_count": 5,
     "metadata": {},
     "output_type": "execute_result"
    }
   ],
   "source": [
    "T*r/w + r + r*w"
   ]
  }
 ],
 "metadata": {
  "kernelspec": {
   "display_name": "Julia 1.0.3",
   "language": "julia",
   "name": "julia-1.0"
  },
  "language_info": {
   "file_extension": ".jl",
   "mimetype": "application/julia",
   "name": "julia",
   "version": "1.0.3"
  }
 },
 "nbformat": 4,
 "nbformat_minor": 2
}
