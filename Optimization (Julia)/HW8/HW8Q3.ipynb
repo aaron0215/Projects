{
 "cells": [
  {
   "cell_type": "markdown",
   "metadata": {},
   "source": [
    "# Question 3 "
   ]
  },
  {
   "cell_type": "code",
   "execution_count": 2,
   "metadata": {},
   "outputs": [
    {
     "name": "stdout",
     "output_type": "stream",
     "text": [
      "Optimal\n",
      "x = [1.0, 1.0, 0.0, 1.0]\n",
      "y = [10000.0, 8000.0, 0.0, 2000.0]\n",
      "2.56e7\n"
     ]
    }
   ],
   "source": [
    "using JuMP, Cbc\n",
    "\n",
    "m = Model(solver=CbcSolver())\n",
    "\n",
    "max_sale = 20000\n",
    "unit_price = 3500\n",
    "\n",
    "product_cap = [10000 8000 9000 6000]\n",
    "plant_cost = [9000000 5000000 3000000 1000000]\n",
    "price = [1000 1700 2300 2900]\n",
    "\n",
    "n = length(product_cap)\n",
    "\n",
    "@variable(m, x[1:4], Bin) # binary value determines if this plant will produce\n",
    "@variable(m, y[1:4] >= 0, Int) # number of production\n",
    "\n",
    "@constraint(m, y .<= max_sale*x) # limit of production number\n",
    "\n",
    "for i=1:n\n",
    "    @constraint(m, y[i]<= product_cap[i]) # limit of production capacity\n",
    "end\n",
    "\n",
    "@constraint(m, sum{y[i], i=1:n} <= max_sale) # Won't go over maximum sale amount\n",
    "\n",
    "@objective(m, Max, sum{y[i] * (unit_price - price[i]) - x[i] * plant_cost[i], i= 1:n}) # max profit\n",
    "\n",
    "status = solve(m)\n",
    "\n",
    "println(status)\n",
    "println(\"x = \", getvalue(x))\n",
    "println(\"y = \", getvalue(y))\n",
    "println(getobjectivevalue(m))\n"
   ]
  },
  {
   "cell_type": "markdown",
   "metadata": {},
   "source": [
    "Plant 1 produces 10000 units, plant 2 produces 8000 units and plant 4 produces 2000 units."
   ]
  }
 ],
 "metadata": {
  "kernelspec": {
   "display_name": "Julia 1.0.3",
   "language": "julia",
   "name": "julia-1.0"
  },
  "language_info": {
   "file_extension": ".jl",
   "mimetype": "application/julia",
   "name": "julia",
   "version": "1.0.3"
  }
 },
 "nbformat": 4,
 "nbformat_minor": 2
}
