{
 "cells": [
  {
   "cell_type": "markdown",
   "metadata": {},
   "source": [
    "# Question 4"
   ]
  },
  {
   "cell_type": "code",
   "execution_count": 1,
   "metadata": {},
   "outputs": [
    {
     "name": "stdout",
     "output_type": "stream",
     "text": [
      "Optimal\n",
      "x= [-0.0, -0.0, 1.0, 1.0, 1.0, 1.0]\n",
      "y= [0.0, 0.0, 35.0, 5.0, 22.5, 17.5]\n",
      "objective = 13.5\n"
     ]
    }
   ],
   "source": [
    "using JuMP, Gurobi\n",
    "\n",
    "minInvestment = [3 2 9 5 12 4]\n",
    "maxInvestment = [27 12 35 15 46 18]\n",
    "expectedRtn = [0.13 0.09 0.17 0.1 0.22 0.12]\n",
    "\n",
    "totalInvestment = 80\n",
    "\n",
    "n = length(expectedRtn)\n",
    "\n",
    "m = Model(solver = GurobiSolver(OutputFlag = 0))\n",
    "\n",
    "@variable(m, x[1:n], Bin)\n",
    "@variable(m, y[1:n] >= 0) # amount of investment (million dollars)\n",
    "\n",
    "@constraint(m, y .<= totalInvestment * x)\n",
    "@constraint(m, sum{y[i] , i=1:n} <= totalInvestment)\n",
    "\n",
    "for i=1:n\n",
    "    @constraint(m, minInvestment[i] * x[i] <= y[i])\n",
    "    #@constraint(m, y[i] * x[i] >= minInvestment[i])\n",
    "    @constraint(m, y[i] * x[i] <= maxInvestment[i])\n",
    "end\n",
    "\n",
    "@constraint(m, y[5] <= y[2] + y[4] + y[6])\n",
    "@constraint(m, x[3] <= x[6])\n",
    "\n",
    "@objective(m, Max, sum{y[i] * expectedRtn[i], i=1:n})\n",
    "\n",
    "status = solve(m)\n",
    "println(status)\n",
    "println(\"x= \", getvalue(x))\n",
    "println(\"y= \", getvalue(y))\n",
    "println(\"objective = \", getobjectivevalue(m))"
   ]
  },
  {
   "cell_type": "markdown",
   "metadata": {},
   "source": [
    "We should invest option3 35 million, option4 5 million, option 5 22.5 million and option6 17.5 million."
   ]
  }
 ],
 "metadata": {
  "kernelspec": {
   "display_name": "Julia 1.0.3",
   "language": "julia",
   "name": "julia-1.0"
  },
  "language_info": {
   "file_extension": ".jl",
   "mimetype": "application/julia",
   "name": "julia",
   "version": "1.0.3"
  }
 },
 "nbformat": 4,
 "nbformat_minor": 2
}
