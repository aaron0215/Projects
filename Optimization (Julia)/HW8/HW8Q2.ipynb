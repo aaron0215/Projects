{
 "cells": [
  {
   "cell_type": "markdown",
   "metadata": {},
   "source": [
    "# Question 2 \n",
    "## a)"
   ]
  },
  {
   "cell_type": "code",
   "execution_count": 20,
   "metadata": {},
   "outputs": [
    {
     "name": "stdout",
     "output_type": "stream",
     "text": [
      "Optimal\n",
      "penny = 4.0\n",
      "nickle = 0.0\n",
      "dime = 7.000000000000001\n",
      "quarter = 1.0\n",
      "halfDol = 0.0\n",
      "objective = 31.546\n"
     ]
    }
   ],
   "source": [
    "using JuMP, Cbc, Clp\n",
    "\n",
    "m= Model(solver=CbcSolver())\n",
    "\n",
    "@variable(m, penny >= 0, Int)\n",
    "@variable(m, nickle >= 0, Int)\n",
    "@variable(m, dime >= 0, Int)\n",
    "@variable(m, quarter >= 0, Int)\n",
    "@variable(m, halfDol >= 0, Int)\n",
    "\n",
    "@constraint(m, penny + 5 * nickle + 10 * dime + 25 * quarter + 50 * halfDol == 99)\n",
    "\n",
    "@objective(m, Min, 2.5*penny + 5*nickle + 2.268 * dime + 5.670 * quarter + 11.340 * halfDol)\n",
    "\n",
    "status = solve(m)\n",
    "\n",
    "println(status)\n",
    "\n",
    "println(\"penny = \", getvalue(penny))\n",
    "println(\"nickle = \", getvalue(nickle))\n",
    "println(\"dime = \", getvalue(dime))\n",
    "println(\"quarter = \", getvalue(quarter))\n",
    "println(\"halfDol = \", getvalue(halfDol))\n",
    "\n",
    "println(\"objective = \", getobjectivevalue(m))"
   ]
  },
  {
   "cell_type": "markdown",
   "metadata": {},
   "source": [
    "## b)"
   ]
  },
  {
   "cell_type": "code",
   "execution_count": 24,
   "metadata": {},
   "outputs": [
    {
     "name": "stdout",
     "output_type": "stream",
     "text": [
      "Optimal\n",
      "Weight = 31.546\n",
      "penny = 4.0\n",
      "nickle = 0.0\n",
      "dime = 2.0\n",
      "quarter = 1.0\n",
      "halfDol = 1.0\n",
      "objective = 8.0\n"
     ]
    }
   ],
   "source": [
    "using JuMP, Cbc, Clp\n",
    "\n",
    "m2 = Model(solver=CbcSolver())\n",
    "\n",
    "@variable(m2, penny >= 0, Int)\n",
    "@variable(m2, nickle >= 0, Int)\n",
    "@variable(m2, dime >= 0, Int)\n",
    "@variable(m2, quarter >= 0, Int)\n",
    "@variable(m2, halfDol >= 0, Int)\n",
    "\n",
    "totalWeight = 35\n",
    "\n",
    "@constraint(m2, penny + 5 * nickle + 10 * dime + 25 * quarter + 50 * halfDol == 99)\n",
    "@constraint(m2, 2.5*penny + 5*nickle + 2.268 * dime + 5.670 * quarter + 11.340 * halfDol <= totalWeight)\n",
    "\n",
    "# @objective(m2, Max, 2.5*penny + 5*nickle + 2.268 * dime + 5.670 * quarter + 11.340 * halfDol)\n",
    "@objective(m2, Min, penny+nickle+dime+quarter+halfDol)\n",
    "\n",
    "status = solve(m2)\n",
    "\n",
    "println(status)\n",
    "\n",
    "println(\"Weight = \", 2.5*getvalue(penny) + 5*getvalue(nickle) + 2.268 * getvalue(dime)\n",
    "    + 5.670 * getvalue(quarter) + 11.340 * getvalue(halfDol))\n",
    "\n",
    "println(\"penny = \", getvalue(penny))\n",
    "println(\"nickle = \", getvalue(nickle))\n",
    "println(\"dime = \", getvalue(dime))\n",
    "println(\"quarter = \", getvalue(quarter))\n",
    "println(\"halfDol = \", getvalue(halfDol))\n",
    "\n",
    "println(\"objective = \", getobjectivevalue(m2))"
   ]
  },
  {
   "cell_type": "markdown",
   "metadata": {},
   "source": [
    "We get same weight but different combination of different coins. And it gives us minimum number of coins to carry which is 8. It makes sense to get same weight because we get same penny and nickle comparing with part a and the rest of coins have same \"average weight\"."
   ]
  }
 ],
 "metadata": {
  "kernelspec": {
   "display_name": "Julia 1.0.3",
   "language": "julia",
   "name": "julia-1.0"
  },
  "language_info": {
   "file_extension": ".jl",
   "mimetype": "application/julia",
   "name": "julia",
   "version": "1.0.3"
  }
 },
 "nbformat": 4,
 "nbformat_minor": 2
}
