{
 "cells": [
  {
   "cell_type": "markdown",
   "metadata": {},
   "source": [
    "## a)"
   ]
  },
  {
   "cell_type": "code",
   "execution_count": 11,
   "metadata": {},
   "outputs": [
    {
     "name": "stdout",
     "output_type": "stream",
     "text": [
      "Optimal\n",
      "1.0\n",
      "-0.0\n",
      "0.5\n"
     ]
    }
   ],
   "source": [
    "using JuMP, Gurobi\n",
    "\n",
    "m = Model(solver = GurobiSolver(OutputFlag = 0))\n",
    "\n",
    "@variable(m, x[1:2])\n",
    "@constraint(m, x[1] >= 1)\n",
    "\n",
    "@objective(m, Min, sum{x[i]^2, i = 1:2}/2)\n",
    "\n",
    "status = solve(m)\n",
    "\n",
    "println(status)\n",
    "println(getvalue(x[1]))\n",
    "println(getvalue(x[2]))\n",
    "println(getobjectivevalue(m))"
   ]
  },
  {
   "cell_type": "markdown",
   "metadata": {},
   "source": [
    "## b)"
   ]
  },
  {
   "cell_type": "code",
   "execution_count": 22,
   "metadata": {},
   "outputs": [
    {
     "ename": "Gurobi.GurobiError",
     "evalue": "Gurobi.GurobiError(10020, \"Q matrix is not positive semi-definite (PSD)\")",
     "output_type": "error",
     "traceback": [
      "Gurobi.GurobiError(10020, \"Q matrix is not positive semi-definite (PSD)\")",
      "",
      "Stacktrace:",
      " [1] optimize at /Users/aaron24/.julia/packages/Gurobi/dlJep/src/grb_solve.jl:7 [inlined]",
      " [2] optimize!(::Gurobi.GurobiMathProgModel) at /Users/aaron24/.julia/packages/Gurobi/dlJep/src/MPB_wrapper.jl:428",
      " [3] #solve#120(::Bool, ::Bool, ::Bool, ::Base.Iterators.Pairs{Union{},Union{},Tuple{},NamedTuple{(),Tuple{}}}, ::Function, ::Model) at /Users/aaron24/.julia/packages/JuMP/PbnIJ/src/solvers.jl:175",
      " [4] solve(::Model) at /Users/aaron24/.julia/packages/JuMP/PbnIJ/src/solvers.jl:150",
      " [5] top-level scope at In[22]:16"
     ]
    }
   ],
   "source": [
    "using JuMP, Gurobi\n",
    "\n",
    "m = Model(solver = GurobiSolver(OutputFlag = 0))\n",
    "\n",
    "@variable(m, x[1:2])\n",
    "@variable(m, a[1:2] >= 0) #lambda\n",
    "#@variable(m, a)\n",
    "\n",
    "@expression(m, mainObj, sum{x[i]^2, i=1:2}/2 + sum{a[i]*(1-x[1]), i=1:2}) # L\n",
    "\n",
    "@constraint(m, mainObj <= 0.5)\n",
    "\n",
    "@objective(m, Max, mainObj)\n",
    "\n",
    "solve(m)"
   ]
  }
 ],
 "metadata": {
  "kernelspec": {
   "display_name": "Julia 1.0.3",
   "language": "julia",
   "name": "julia-1.0"
  },
  "language_info": {
   "file_extension": ".jl",
   "mimetype": "application/julia",
   "name": "julia",
   "version": "1.0.3"
  }
 },
 "nbformat": 4,
 "nbformat_minor": 2
}
