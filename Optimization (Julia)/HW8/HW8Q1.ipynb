{
 "cells": [
  {
   "cell_type": "markdown",
   "metadata": {},
   "source": [
    "# Question 1\n",
    "## a)"
   ]
  },
  {
   "cell_type": "code",
   "execution_count": 1,
   "metadata": {},
   "outputs": [
    {
     "name": "stdout",
     "output_type": "stream",
     "text": [
      "Optimal\n",
      "x= 1.0\n",
      "y= -0.0\n",
      "objective (p*) = 0.5\n"
     ]
    }
   ],
   "source": [
    "using JuMP, Gurobi\n",
    "\n",
    "m = Model(solver = GurobiSolver(OutputFlag = false))\n",
    "\n",
    "@variable(m, x)\n",
    "@variable(m, y)\n",
    "\n",
    "@constraint(m, 1 - x <= 0)\n",
    "\n",
    "@objective(m, Min, 0.5*((x^2) + (y^2)))\n",
    "\n",
    "status = solve(m)\n",
    "println(status)\n",
    "println(\"x= \", getvalue(x))\n",
    "println(\"y= \", getvalue(y))\n",
    "println(\"objective (p*) = \", getobjectivevalue(m))"
   ]
  },
  {
   "cell_type": "markdown",
   "metadata": {},
   "source": [
    "## b)"
   ]
  },
  {
   "cell_type": "markdown",
   "metadata": {},
   "source": [
    "We derive our L($X_1$, $X_2$, λ) function by solving for $f_0$(x) + λ$f_1$(x).\n",
    "Our solution is that L($X_1$, $X_2$, λ) = 0.5($x_1^2$ + λ(1 - $x_1$))\n",
    "\n",
    "\n",
    "We set g(λ) = 0.5($x_1^2$ + λ - λ$x_1$)\n",
    "\n",
    "g(λ) = 0.5$λ^2$  - $λ^2$ + λ\n",
    "\n",
    "g(λ) = -0.5($λ^2$) + λ"
   ]
  },
  {
   "cell_type": "markdown",
   "metadata": {},
   "source": [
    "## c)"
   ]
  },
  {
   "cell_type": "code",
   "execution_count": 2,
   "metadata": {},
   "outputs": [
    {
     "name": "stdout",
     "output_type": "stream",
     "text": [
      "Optimal\n",
      "λ= 1.0\n",
      "objective (d*) = 0.5\n"
     ]
    }
   ],
   "source": [
    "using JuMP, Gurobi\n",
    "\n",
    "m = Model(solver = GurobiSolver(OutputFlag = false))\n",
    "\n",
    "@variable(m, L>=0)\n",
    "\n",
    "@objective(m, Max, -0.5*(L^2) + L)\n",
    "\n",
    "status = solve(m)\n",
    "println(status)\n",
    "println(\"λ= \", getvalue(L))\n",
    "println(\"objective (d*) = \", getobjectivevalue(m))"
   ]
  },
  {
   "cell_type": "markdown",
   "metadata": {},
   "source": [
    "## d)\n",
    "\n",
    "Slater's condition is not satisfied as our $H_j$ value is not affine. Also, Slater's conditon requires that chosen points D and function $f_i$ is convex. Our dual fucntion g(λ) is concave because g is a pointwise minimum of functions that are affine in $\\lambda$ (we do not have a $\\nu$ value. However, strong duality does hold as out p* = d*, as can be seen above. Both values are 0.5."
   ]
  }
 ],
 "metadata": {
  "kernelspec": {
   "display_name": "Julia 1.0.3",
   "language": "julia",
   "name": "julia-1.0"
  },
  "language_info": {
   "file_extension": ".jl",
   "mimetype": "application/julia",
   "name": "julia",
   "version": "1.0.3"
  }
 },
 "nbformat": 4,
 "nbformat_minor": 2
}
