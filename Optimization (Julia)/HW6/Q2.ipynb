{
 "cells": [
  {
   "cell_type": "markdown",
   "metadata": {},
   "source": [
    "# Question 2\n",
    "\n",
    "### Part A"
   ]
  },
  {
   "cell_type": "markdown",
   "metadata": {},
   "source": [
    "\\begin{equation*}\n",
    "\\mathbf{Q} = \\begin{bmatrix}\n",
    "\\ 2 & 4 & -3\\\\\n",
    "\\ 4 & 2 & -3 \\\\\n",
    "\\ -3 & -3 & 9 \\\\\n",
    "\\end{bmatrix}\n",
    "\\end{equation*}\n",
    "\n",
    "\\begin{equation*}\n",
    "\\mathbf{v} = \n",
    "\\begin{bmatrix}\n",
    "\\mathbf{X} \\\\\n",
    "\\mathbf{Y} \\\\\n",
    "\\mathbf{Z} \\\\\n",
    "\\end{bmatrix}\n",
    "\\end{equation*}\n"
   ]
  },
  {
   "cell_type": "markdown",
   "metadata": {},
   "source": [
    "### Part B"
   ]
  },
  {
   "cell_type": "code",
   "execution_count": 75,
   "metadata": {},
   "outputs": [
    {
     "name": "stdout",
     "output_type": "stream",
     "text": [
      "The eigen values for Q are: [-2.0, 3.0, 12.0]\n",
      "The eigen vectors for Q are: [0.707107 -0.57735 -0.408248; -0.707107 -0.57735 -0.408248; 0.0 -0.57735 0.816497]\n"
     ]
    }
   ],
   "source": [
    "using JuMP, LinearAlgebra\n",
    "\n",
    "# Find eigenvectors and positive eigenvalues.\n",
    "\n",
    "# Symmetric matric Q\n",
    "Q = [2.0 4.0 -3.0; 4.0 2.0 -3.0; -3.0 -3.0 9.0]\n",
    "\n",
    "# Given orthogonal decomposition\n",
    "(L, U) = eigen(Q)\n",
    "U*Diagonal(L)*U'\n",
    "\n",
    "println(\"The eigenvalues for Q are: \", L)\n",
    "println(\"The eigenvectors for Q are: \", U)"
   ]
  },
  {
   "cell_type": "markdown",
   "metadata": {},
   "source": [
    "Since one of the eigen values is -2.0 which is less than zero, it means it's not working in a convex space so we are not working in an ellipsoid neither.\n"
   ]
  },
  {
   "cell_type": "markdown",
   "metadata": {},
   "source": [
    "### Part C"
   ]
  },
  {
   "cell_type": "code",
   "execution_count": 100,
   "metadata": {},
   "outputs": [
    {
     "name": "stdout",
     "output_type": "stream",
     "text": [
      "Our A diagonal is: [1.1547 1.1547 -0.57735; 1.1547 1.1547 -0.57735; -0.57735 -0.57735 2.88675]\n",
      "Our B diagonal is: [0.707107 -0.707107 0.0; -0.707107 0.707107 0.0; 0.0 0.0 0.0]\n",
      "Our system: 53.0\n"
     ]
    },
    {
     "data": {
      "text/plain": [
       "52.99999999999999"
      ]
     },
     "execution_count": 100,
     "metadata": {},
     "output_type": "execute_result"
    }
   ],
   "source": [
    "using JuMP, LinearAlgebra\n",
    "\n",
    "\n",
    "A = U * Diagonal([0, sqrt.(3), sqrt.(12)]) * U'\n",
    "B = U * Diagonal([sqrt(2), 0, 0]) * U'\n",
    "\n",
    "println(\"Our A diagonal is: \", A)\n",
    "println(\"Our B diagonal is: \", B)\n",
    "\n",
    "# Find a vector in space\n",
    "v = [1, 2, 3]\n",
    "println(\"Our system: \", v'*Q*v)\n",
    "\n",
    "norm(A*v)^2 - norm(B*v)^2"
   ]
  },
  {
   "cell_type": "markdown",
   "metadata": {},
   "source": [
    "### Part D"
   ]
  },
  {
   "cell_type": "code",
   "execution_count": null,
   "metadata": {},
   "outputs": [],
   "source": []
  }
 ],
 "metadata": {
  "kernelspec": {
   "display_name": "Julia 1.0.3",
   "language": "julia",
   "name": "julia-1.0"
  },
  "language_info": {
   "file_extension": ".jl",
   "mimetype": "application/julia",
   "name": "julia",
   "version": "1.0.3"
  }
 },
 "nbformat": 4,
 "nbformat_minor": 2
}
