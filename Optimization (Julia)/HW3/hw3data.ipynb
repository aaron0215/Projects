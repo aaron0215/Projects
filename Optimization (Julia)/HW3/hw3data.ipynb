{
 "cells": [
  {
   "cell_type": "markdown",
   "metadata": {
    "collapsed": true
   },
   "source": [
    "## Data for Doodle Scheduling problem"
   ]
  },
  {
   "cell_type": "code",
   "execution_count": 1,
   "metadata": {},
   "outputs": [
    {
     "data": {
      "text/plain": [
       "15×13 Named Array{Int64,2}\n",
       "NAME ╲ TIME │ 10:00  10:20  10:40  11:00  …   1:40   2:00   2:20   2:40\n",
       "────────────┼──────────────────────────────────────────────────────────\n",
       ":Manuel     │     0      0      1      1  …      0      0      0      0\n",
       ":Luca       │     0      1      1      0         1      0      0      0\n",
       ":Jule       │     0      0      0      1         1      1      1      1\n",
       ":Michael    │     0      0      0      1         1      1      1      0\n",
       ":Malte      │     0      0      0      0         0      0      0      0\n",
       ":Chris      │     0      1      1      0         1      0      0      0\n",
       ":Spyros     │     0      0      0      1         0      0      0      0\n",
       ":Mirjam     │     1      1      0      0         0      1      1      1\n",
       ":Matt       │     1      1      1      0         1      1      0      0\n",
       ":Florian    │     0      0      0      0         0      0      0      0\n",
       ":Josep      │     0      0      0      0         0      0      0      0\n",
       ":Joel       │     1      1      0      0         0      0      1      1\n",
       ":Tom        │     1      1      1      0         0      0      1      1\n",
       ":Daniel     │     0      1      1      1         0      0      0      0\n",
       ":Anne       │     1      1      0      0  …      0      0      0      0"
      ]
     },
     "execution_count": 1,
     "metadata": {},
     "output_type": "execute_result"
    }
   ],
   "source": [
    "using JuMP, NamedArrays\n",
    "\n",
    "availability =\n",
    "  [ 0 0 1 1 0 0 0 1 1 0 0 0 0\n",
    "    0 1 1 0 0 0 0 0 1 1 0 0 0\n",
    "    0 0 0 1 1 0 1 1 0 1 1 1 1\n",
    "    0 0 0 1 1 1 1 1 1 1 1 1 0\n",
    "    0 0 0 0 0 0 1 1 1 0 0 0 0\n",
    "    0 1 1 0 0 0 0 0 1 1 0 0 0\n",
    "    0 0 0 1 1 1 1 0 0 0 0 0 0\n",
    "    1 1 0 0 0 0 0 0 0 0 1 1 1\n",
    "    1 1 1 0 0 0 0 0 0 1 1 0 0\n",
    "    0 0 0 0 0 0 0 1 1 0 0 0 0\n",
    "    0 0 0 0 0 0 1 1 1 0 0 0 0\n",
    "    1 1 0 0 0 1 1 1 1 0 0 1 1\n",
    "    1 1 1 0 1 1 0 0 0 0 0 1 1\n",
    "    0 1 1 1 0 0 0 0 0 0 0 0 0\n",
    "    1 1 0 0 1 1 0 0 0 0 0 0 0 ]\n",
    "\n",
    "TIMES = [\"10:00\",\"10:20\",\"10:40\",\"11:00\",\"11:20\",\"11:40\",\"lunch\",\"1:00\",\"1:20\",\"1:40\",\"2:00\",\"2:20\",\"2:40\"]\n",
    "NAMES = [:Manuel,:Luca,:Jule,:Michael,:Malte,:Chris,:Spyros,:Mirjam,:Matt,:Florian,:Josep,:Joel,:Tom,:Daniel,:Anne ]\n",
    "times = NamedArray( availability, (NAMES,TIMES), (\"NAME\",\"TIME\"))"
   ]
  },
  {
   "cell_type": "code",
   "execution_count": 27,
   "metadata": {},
   "outputs": [
    {
     "data": {
      "text/plain": [
       "1"
      ]
     },
     "execution_count": 27,
     "metadata": {},
     "output_type": "execute_result"
    }
   ],
   "source": [
    "times[:Luca,\"10:20\"]"
   ]
  },
  {
   "cell_type": "code",
   "execution_count": 75,
   "metadata": {},
   "outputs": [
    {
     "data": {
      "text/plain": [
       "1"
      ]
     },
     "execution_count": 75,
     "metadata": {},
     "output_type": "execute_result"
    }
   ],
   "source": [
    "times[2,2]"
   ]
  },
  {
   "cell_type": "code",
   "execution_count": 72,
   "metadata": {},
   "outputs": [
    {
     "name": "stdout",
     "output_type": "stream",
     "text": [
      "000000011001101\n",
      "010001011001111\n",
      "110001001000110\n",
      "101100100000010\n",
      "001100100000101\n",
      "000100100001101\n",
      "001110100011000\n",
      "101110000111000\n",
      "110111000111000\n",
      "011101001000000\n",
      "001100011000000\n",
      "001100010001100\n",
      "001000010001100\n"
     ]
    }
   ],
   "source": [
    "for t in TIMES\n",
    "    for n in NAMES\n",
    "        print(times[n, t])\n",
    "    end\n",
    "    println()\n",
    "end"
   ]
  },
  {
   "cell_type": "code",
   "execution_count": 84,
   "metadata": {},
   "outputs": [
    {
     "name": "stdout",
     "output_type": "stream",
     "text": [
      "\n",
      "15.0\n"
     ]
    }
   ],
   "source": [
    "using JuMP, Clp\n",
    "m = Model(solver=ClpSolver())\n",
    "\n",
    "@variable(m, assigned[1:size(TIMES,1)])\n",
    "@variable(m, interviewer[NAMES] <= 1) # Each interviewer can only interview once\n",
    "\n",
    "for t in 1:size(TIMES,1)\n",
    "    for n in 1:size(NAMES,1)\n",
    "        if(times[n][t] != 0)\n",
    "            # Do something\n",
    "        end\n",
    "    end\n",
    "end\n",
    "\n",
    "for i in 1:size(TIMES,1)\n",
    "    if(i == 7)\n",
    "        @constraint(m, assigned[i] == 3)\n",
    "    else\n",
    "        @constraint(m, assigned[i] == 1)\n",
    "    end\n",
    "end\n",
    "\n",
    "@objective(m, Max, sum(assigned))\n",
    "\n",
    "solve(m)\n",
    "println()\n",
    "println(getobjectivevalue(m))"
   ]
  },
  {
   "cell_type": "markdown",
   "metadata": {},
   "source": [
    "## Data for stadium building problem"
   ]
  },
  {
   "cell_type": "code",
   "execution_count": 2,
   "metadata": {},
   "outputs": [],
   "source": [
    "using JuMP\n",
    "\n",
    "tasks = 1:18\n",
    "durations = [2 16 9 8 10 6 2 2 9 5 3 2 1 7 4 3 9 1]\n",
    "predecessors = ( [], [1], [2], [2], [3], [4,5], [4], [6], [4,6], [4], [6], [9], [7], [2], [4,14], [8,11,14], [12], [17] )\n",
    "pred_dict = Dict(zip(tasks,predecessors));   # dictionary mapping tasks --> predecessors.\n",
    "\n",
    "# additional columns of data (maximum reduction possible )\n",
    "max_reduction =  [0,  3,  1,  2,  2,  1, 1, 0,  2,  1,  1, 0, 0,  2,  2, 1,  3, 0]  # max reduction (in weeks)\n",
    "cost_reduction = [0, 30, 26, 12, 17, 15, 8, 0, 42, 21, 18, 0, 0, 22, 12, 6, 16, 0]  # cost of reduction ($1,000/week)\n",
    "bonus_amount = 30     # bonus for expediting the project ($1,000/week )\n",
    ";"
   ]
  },
  {
   "cell_type": "code",
   "execution_count": null,
   "metadata": {},
   "outputs": [],
   "source": []
  }
 ],
 "metadata": {
  "kernelspec": {
   "display_name": "Julia 1.0.3",
   "language": "julia",
   "name": "julia-1.0"
  },
  "language_info": {
   "file_extension": ".jl",
   "mimetype": "application/julia",
   "name": "julia",
   "version": "1.0.3"
  }
 },
 "nbformat": 4,
 "nbformat_minor": 1
}
