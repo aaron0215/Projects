{
 "cells": [
  {
   "cell_type": "markdown",
   "metadata": {},
   "source": [
    "upper-left: -x <= 0, y <= 500, 5/3x - y <= 0; x >= 0, y >= 0\n",
    "lower-right: -y <= 0, -5/3x + y <= 0, 2/3x + y <= 700, 3x - y <= 1500; x >= 0, y >= 0"
   ]
  },
  {
   "cell_type": "code",
   "execution_count": 4,
   "metadata": {},
   "outputs": [
    {
     "name": "stdout",
     "output_type": "stream",
     "text": [
      "Optimal\n",
      "The coordinates of the Chebyshev center for the first musuem are: [108.452, 391.548]\n",
      "The largest possible radius for the first museum is: 108.45240525773497\n",
      "Optimal\n",
      "The coordinates of the Chebyshev center for the second museum are: [355.092, 201.05]\n",
      "The largest possible radius for the secon museum is: 201.0495106921289\n"
     ]
    }
   ],
   "source": [
    "# Matrices A, b defining the inequalities\n",
    "A1 = [-1 0; 0 1; 5/3 -1; -1 0; 0 -1]\n",
    "B1 = [0; 500; 0; 0; 0]\n",
    "\n",
    "A2 = [0 -1; -5/3 1; -2/3 1; 3 -1; -1 0; 0 -1]\n",
    "B2 = [0;0;700;1500; 0; 0]\n",
    "\n",
    "using JuMP, Clp, LinearAlgebra\n",
    "# If you haven't yet installed the linear algebra package, do the standard thing:\n",
    "# using Pkg, Pkg.add(\"LinearAlgebra\")\n",
    "\n",
    "m1 = Model(solver=ClpSolver())\n",
    "@variable(m1, r1 >= 0)           # radius\n",
    "@variable(m1, x1[1:2])           # coordinates of center\n",
    "for i = 1:size(A1,1)\n",
    "    @constraint(m1, A1[i,:]'*x1 + r1*norm(A1[i,:]) <= B1[i])\n",
    "end\n",
    "@objective(m1, Max, r1)     # maximize radius\n",
    "\n",
    "status1 = solve(m1)\n",
    "center1 = getvalue(x1)\n",
    "radius1 = getvalue(r1)\n",
    "\n",
    "println(status1)\n",
    "println(\"The coordinates of the Chebyshev center for the first musuem are: \", center1)\n",
    "println(\"The largest possible radius for the first museum is: \", radius1)\n",
    "\n",
    "m2 = Model(solver=ClpSolver())\n",
    "@variable(m2, r2 >= 0)           # radius\n",
    "@variable(m2, x2[1:2])           # coordinates of center\n",
    "for i = 1:size(A2,1)\n",
    "    @constraint(m2, A2[i,:]'*x2 + r2*norm(A2[i,:]) <= B2[i])\n",
    "end\n",
    "@objective(m2, Max, r2)     # maximize radius\n",
    "\n",
    "status2 = solve(m2)\n",
    "center2 = getvalue(x2)\n",
    "radius2 = getvalue(r2)\n",
    "\n",
    "println(status2)\n",
    "println(\"The coordinates of the Chebyshev center for the second museum are: \", center2)\n",
    "println(\"The largest possible radius for the secon museum is: \", radius2)"
   ]
  },
  {
   "cell_type": "code",
   "execution_count": null,
   "metadata": {},
   "outputs": [],
   "source": []
  }
 ],
 "metadata": {
  "kernelspec": {
   "display_name": "Julia 1.0.3",
   "language": "julia",
   "name": "julia-1.0"
  },
  "language_info": {
   "file_extension": ".jl",
   "mimetype": "application/julia",
   "name": "julia",
   "version": "1.0.3"
  }
 },
 "nbformat": 4,
 "nbformat_minor": 2
}
