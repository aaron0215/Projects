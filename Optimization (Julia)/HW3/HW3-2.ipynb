{
 "cells": [
  {
   "cell_type": "code",
   "execution_count": 42,
   "metadata": {},
   "outputs": [
    {
     "name": "stdout",
     "output_type": "stream",
     "text": [
      "Optimal\n",
      "[8 0 0 0 0 0 0 0 0 0; 0 6 1 0 0 5 1 0 0 0; 0 0 4 0 0 0 0 0 0 0; 0 0 0 8 0 0 0 0 0 0; 0 0 0 3 9 0 0 0 0 0; 0 0 0 0 0 2 0 0 0 0; 0 0 0 0 0 0 14 0 0 0; 0 0 0 0 0 0 0 6 0 5; 2 0 3 0 0 0 0 1 9 0; 0 0 0 0 0 0 0 0 0 7]152.63901632295628"
     ]
    }
   ],
   "source": [
    "using JuMP, Clp, NamedArrays\n",
    "\n",
    "required_cars = [10, 6, 8, 11, 9, 7, 15, 7, 9, 12]\n",
    "cars_present = [8, 13, 4, 8, 12, 2, 14, 11, 15, 7]\n",
    "x_coord = [0, 20, 18, 30, 35, 33, 5, 5, 11, 2]\n",
    "y_coord = [0, 20, 10, 12, 0, 25, 27, 10, 0, 15]\n",
    "dist = zeros(10,10);\n",
    "cost_per_mile = 0.5\n",
    "agency = [:agency1, :agency2, :agency3, :agency4, :agency5, :agency6, :agency7, :agency8, :agency9, :agency10]\n",
    "\n",
    "# calculate the distance from one location to the next\n",
    "for i in 1:10\n",
    "   for j in 1:10\n",
    "      dist[i,j] = (1.3*sqrt( (x_coord[i] - x_coord[j])^2 + (y_coord[i] - y_coord[j])^2));\n",
    "   end\n",
    "end\n",
    "\n",
    "#distance = NamedArray(dist, (agency,agency), (\"agency\", \"agency\"))\n",
    "\n",
    "m = Model(solver=ClpSolver())\n",
    "\n",
    "#@variable(m, hold[1:10] >= 0) # cars present after transportation\n",
    "#@variable(m, cost[1:10] >= 0) # cost of each agency each night\n",
    "#@variable(m, car_need[1:10]) # cars that each agency needs to get, positive means need\n",
    "\n",
    "@variable(m, x[1:10,1:10] >= 0)          # x[i,j] is lumber shipped from site i to mill j.\n",
    "\n",
    "@constraint(m, sup[i in 1:10], sum(x[i,j] for j in 1:10) == cars_present[i] )   # supply constraint\n",
    "@constraint(m, dem[j in 1:10], sum(x[i,j] for i in 1:10) == required_cars[j] )   # demand constraint\n",
    "\n",
    "@objective(m, Min, cost_per_mile*sum( x[i,j]*dist[i,j] for i in 1:10, j in 1:10 ) )  \n",
    "\n",
    "status = solve(m)\n",
    "\n",
    "#@constraint(m, flow[i in 1:10], cars_present[i]+car_need[i]==required_cars[i])\n",
    "\n",
    "#@objective(m, Min, sum(cost));\n",
    "println(status)\n",
    "solution = NamedArray( Int[getvalue(x[i,j]) for i in 1:10, j in 1:10], (agency,agency), (\"agency\",\"agency\") )\n",
    "print(solution)\n",
    "print(getobjectivevalue(m))"
   ]
  },
  {
   "cell_type": "code",
   "execution_count": 39,
   "metadata": {},
   "outputs": [
    {
     "name": "stdout",
     "output_type": "stream",
     "text": [
      "(10,)(1, 10)"
     ]
    }
   ],
   "source": [
    "test = [10, 6, 8, 11, 9, 7, 15, 7, 9, 12]\n",
    "print(size(test))\n",
    "test2 = [10 6 8 11 9 7 15 7 9 12]\n",
    "print(size(test2))"
   ]
  },
  {
   "cell_type": "markdown",
   "metadata": {},
   "source": [
    "for i in 1:10\n",
    "    while(required_cars[i] > cars_present[i])\n",
    "        temp = dist[i,2]; # Find nearest agency\n",
    "        car_out_agency = 0; # index of the agency send out cars\n",
    "        for j in 2:10 # don't compare with itself\n",
    "            if(dist[i,j] < temp)\n",
    "                temp = dist[i,j];\n",
    "                car_out_agency = j;\n",
    "            end\n",
    "        end\n",
    "        if(car_need[car_out_agency] > car_need[i])\n",
    "            cost[i] = dist[i,car_out_agency] * car_need[i] * 0.5;\n",
    "            car_need[car_out_agency] = cars_present[j] + car_need[i];\n",
    "            car_need[i] = cars_present[i] + car_need[car_out_agency];\n",
    "        end\n",
    "    end\n",
    "    cost[i] = 0;\n",
    "end"
   ]
  }
 ],
 "metadata": {
  "kernelspec": {
   "display_name": "Julia 1.0.3",
   "language": "julia",
   "name": "julia-1.0"
  },
  "language_info": {
   "file_extension": ".jl",
   "mimetype": "application/julia",
   "name": "julia",
   "version": "1.0.3"
  }
 },
 "nbformat": 4,
 "nbformat_minor": 2
}
