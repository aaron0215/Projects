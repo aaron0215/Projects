{
 "cells": [
  {
   "cell_type": "markdown",
   "metadata": {},
   "source": [
    "# 1"
   ]
  },
  {
   "cell_type": "code",
   "execution_count": 34,
   "metadata": {},
   "outputs": [
    {
     "name": "stdout",
     "output_type": "stream",
     "text": [
      "start time:tstart: 1 dimensions:\n",
      "[ 1] = -0.0\n",
      "[ 2] = 2.0\n",
      "[ 3] = 18.0\n",
      "[ 4] = 18.0\n",
      "[ 5] = 27.0\n",
      "[ 6] = 37.0\n",
      "[ 7] = 26.0\n",
      "[ 8] = 43.0\n",
      "[ 9] = 43.0\n",
      "[10] = 26.0\n",
      "[11] = 43.0\n",
      "[12] = 52.0\n",
      "[13] = 28.0\n",
      "[14] = 18.0\n",
      "[15] = 26.0\n",
      "[16] = 46.0\n",
      "[17] = 54.0\n",
      "[18] = 63.0\n",
      "minimum duration: 64.0\n"
     ]
    }
   ],
   "source": [
    "# this array stores the task names (1, 2, ..., 18)\n",
    "tasks = []\n",
    "for i = 1:18\n",
    "    push!(tasks, i)\n",
    "end\n",
    "\n",
    "# this dictionary stores the project durations\n",
    "dur = [2, 16, 9, 8, 10, 6, 2, 2, 9, 5, 3, 2, 1, 7, 4, 3, 9, 1]\n",
    "duration = Dict(zip(tasks,dur))\n",
    "\n",
    "# this dictionary stores the projects that a given project depends on (ancestors)\n",
    "pre = ( [], [1], [2], [2], [3], [4,5], [4], [6], [4,6], [4], [6], [9], [7], [2], [4,14], [8,11,14], [12], [17])\n",
    "pred = Dict(zip(tasks,pre));\n",
    "\n",
    "using JuMP,Clp\n",
    "m = Model(solver=ClpSolver())\n",
    "\n",
    "@variable(m, tstart[tasks])\n",
    "\n",
    "for i in tasks\n",
    "    for j in pred[i]\n",
    "        @constraint(m, tstart[i] >= tstart[j] + duration[j])\n",
    "    end\n",
    "end\n",
    "\n",
    "@constraint(m, tstart[1] == 0)\n",
    "@objective(m, Min, tstart[18] + duration[18]) \n",
    "\n",
    "solve(m)\n",
    "println(getvalue(tstart)) # total duration is start time of last task + duration of last task.\n",
    "println(\"minimum duration: \", getobjectivevalue(m))"
   ]
  },
  {
   "cell_type": "markdown",
   "metadata": {},
   "source": [
    "# 2"
   ]
  },
  {
   "cell_type": "code",
   "execution_count": 32,
   "metadata": {},
   "outputs": [
    {
     "name": "stdout",
     "output_type": "stream",
     "text": [
      "tstart: 1 dimensions:\n",
      "[ 1] = -0.0\n",
      "[ 2] = 2.0\n",
      "[ 3] = 15.0\n",
      "[ 4] = 15.0\n",
      "[ 5] = 23.0\n",
      "[ 6] = 31.0\n",
      "[ 7] = 23.0\n",
      "[ 8] = 36.0\n",
      "[ 9] = 36.0\n",
      "[10] = 23.0\n",
      "[11] = 36.0\n",
      "[12] = 45.0\n",
      "[13] = 25.0\n",
      "[14] = 15.0\n",
      "[15] = 23.0\n",
      "[16] = 39.0\n",
      "[17] = 47.0\n",
      "[18] = 53.0\n",
      "Finish: 54.0\n",
      "Maximum profit: 147.0\n"
     ]
    }
   ],
   "source": [
    "# this array stores the task names (1, 2, ..., 18)\n",
    "tasks = []\n",
    "for i = 1:18\n",
    "    push!(tasks, i)\n",
    "end\n",
    "\n",
    "# this dictionary stores the project durations\n",
    "dur = [2, 16, 9, 8, 10, 6, 2, 2, 9, 5, 3, 2, 1, 7, 4, 3, 9, 1]\n",
    "duration = Dict(zip(tasks,dur))\n",
    "\n",
    "# this dictionary stores the projects that a given project depends on (ancestors)\n",
    "pre = ([], [1], [2], [2], [3], [4,5], [4], [6], [4,6], [4], [6], [9], [7], [2], [4,14], [8,11,14], [12], [17])\n",
    "pred = Dict(zip(tasks,pre));\n",
    "\n",
    "max_reduction =  [0,  3,  1,  2,  2,  1, 1, 0,  2,  1,  1, 0, 0,  2,  2, 1,  3, 0]  # max reduction (in weeks)\n",
    "cost_reduction = [0, 30, 26, 12, 17, 15, 8, 0, 42, 21, 18, 0, 0, 22, 12, 6, 16, 0]  # cost of reduction ($1,000/week)\n",
    "bonus_amount = 30     # bonus for expediting the project ($1,000/week )\n",
    "\n",
    "using JuMP, Clp\n",
    "m = Model(solver=ClpSolver())\n",
    "\n",
    "@variable(m, tstart[tasks])\n",
    "@variable(m, cost[tasks] >= 0)\n",
    "@variable(m, reduction_days[tasks] >= 0)\n",
    "\n",
    "for i in tasks # i is one day after j\n",
    "    for j in pred[i]\n",
    "        @constraint(m, reduction_days[j] <= max_reduction[j])\n",
    "        @constraint(m, tstart[i] >= tstart[j] + duration[j] - reduction_days[j])\n",
    "        @constraint(m, cost[j] >= reduction_days[j]*cost_reduction[j])\n",
    "    end\n",
    "end\n",
    "\n",
    "@constraint(m, tstart[1] == 0)\n",
    "\n",
    "@objective(m, Max, bonus_amount*(66-(tstart[18] + duration[18]))-sum(cost))\n",
    "\n",
    "solve(m)\n",
    "println(getvalue(tstart))\n",
    "println(\"Finish: \",getvalue(tstart[18]+1))\n",
    "println(\"Maximum profit: \", getobjectivevalue(m))"
   ]
  },
  {
   "cell_type": "code",
   "execution_count": null,
   "metadata": {},
   "outputs": [],
   "source": []
  }
 ],
 "metadata": {
  "kernelspec": {
   "display_name": "Julia 1.0.3",
   "language": "julia",
   "name": "julia-1.0"
  },
  "language_info": {
   "file_extension": ".jl",
   "mimetype": "application/julia",
   "name": "julia",
   "version": "1.0.3"
  }
 },
 "nbformat": 4,
 "nbformat_minor": 2
}
