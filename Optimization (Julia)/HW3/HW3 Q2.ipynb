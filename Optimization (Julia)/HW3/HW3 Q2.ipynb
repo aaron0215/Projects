{
 "cells": [
  {
   "cell_type": "code",
   "execution_count": 1,
   "metadata": {},
   "outputs": [
    {
     "name": "stderr",
     "output_type": "stream",
     "text": [
      "┌ Warning: Not solved to optimality, status: Infeasible\n",
      "└ @ JuMP /Users/aaron24/.julia/packages/JuMP/PbnIJ/src/solvers.jl:212\n",
      "┌ Warning: Infeasibility ray (Farkas proof) not available\n",
      "└ @ JuMP /Users/aaron24/.julia/packages/JuMP/PbnIJ/src/solvers.jl:223\n"
     ]
    },
    {
     "data": {
      "text/plain": [
       ":Infeasible"
      ]
     },
     "execution_count": 1,
     "metadata": {},
     "output_type": "execute_result"
    }
   ],
   "source": [
    "using JuMP, Clp\n",
    "\n",
    "m = Model(solver=ClpSolver())\n",
    "\n",
    "# cost of moving\n",
    "cost = 0.50; # per mile\n",
    "\n",
    "# demand and stock of cars at each location\n",
    "demand = [10   6   8  11   9   7  15   7   9  12];\n",
    "stock  = [ 8  13   4   8  12   2  14  11  15   7];\n",
    "\n",
    "# coordinate pair of where each location is at\n",
    "xcord  = [ 0  20  18  30  35  33   5   5  11   2];\n",
    "ycord  = [ 0  20  10  12   0  25  27  10   0  15];\n",
    "\n",
    "n = length(xcord);\n",
    "distance = zeros(10,10);\n",
    "\n",
    "# calculate the distance from one location to the next\n",
    "for i=1:n\n",
    "   for j=1:n\n",
    "      distance[i,j] = (1.3*sqrt( (xcord[i] - xcord[j])^2 + (ycord[i] - ycord[j])^2));\n",
    "   end\n",
    "end\n",
    "\n",
    "#print(distance)\n",
    "\n",
    "# find where we have excess\n",
    "#excess = [];\n",
    "#for i = 1:size(demand)\n",
    "    #for j = 1:size(stock)\n",
    "        #print(test)\n",
    "        # excess[i] = demand[i] - stock[j];\n",
    "    #end\n",
    "#end\n",
    "\n",
    "for d in demand\n",
    "    for s in stock\n",
    "        if(demand .< stock)\n",
    "            # Do something\n",
    "        end\n",
    "    end\n",
    "end\n",
    "\n",
    "#total vehicle constriant\n",
    "@constraint(m, demand .== stock)\n",
    "\n",
    "#objective : minimize cost of moving vehicles --> Idea here : i think we need a flow constraint (sailco)\n",
    "\n",
    "solve(m)"
   ]
  },
  {
   "cell_type": "code",
   "execution_count": null,
   "metadata": {},
   "outputs": [],
   "source": []
  }
 ],
 "metadata": {
  "kernelspec": {
   "display_name": "Julia 1.0.3",
   "language": "julia",
   "name": "julia-1.0"
  },
  "language_info": {
   "file_extension": ".jl",
   "mimetype": "application/julia",
   "name": "julia",
   "version": "1.0.3"
  }
 },
 "nbformat": 4,
 "nbformat_minor": 2
}
