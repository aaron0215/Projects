{
 "cells": [
  {
   "cell_type": "code",
   "execution_count": 2,
   "metadata": {},
   "outputs": [
    {
     "data": {
      "text/plain": [
       "15×13 Named Array{Int64,2}\n",
       "NAME ╲ TIME │ 10:00  10:20  10:40  11:00  …   1:40   2:00   2:20   2:40\n",
       "────────────┼──────────────────────────────────────────────────────────\n",
       ":Manuel     │     0      0      1      1  …      0      0      0      0\n",
       ":Luca       │     0      1      1      0         1      0      0      0\n",
       ":Jule       │     0      0      0      1         1      1      1      1\n",
       ":Michael    │     0      0      0      1         1      1      1      0\n",
       ":Malte      │     0      0      0      0         0      0      0      0\n",
       ":Chris      │     0      1      1      0         1      0      0      0\n",
       ":Spyros     │     0      0      0      1         0      0      0      0\n",
       ":Mirjam     │     1      1      0      0         0      1      1      1\n",
       ":Matt       │     1      1      1      0         1      1      0      0\n",
       ":Florian    │     0      0      0      0         0      0      0      0\n",
       ":Josep      │     0      0      0      0         0      0      0      0\n",
       ":Joel       │     1      1      0      0         0      0      1      1\n",
       ":Tom        │     1      1      1      0         0      0      1      1\n",
       ":Daniel     │     0      1      1      1         0      0      0      0\n",
       ":Anne       │     1      1      0      0  …      0      0      0      0"
      ]
     },
     "execution_count": 2,
     "metadata": {},
     "output_type": "execute_result"
    }
   ],
   "source": [
    "using JuMP, NamedArrays, Clp\n",
    "\n",
    "availability =\n",
    "  [ 0 0 1 1 0 0 0 1 1 0 0 0 0\n",
    "    0 1 1 0 0 0 0 0 1 1 0 0 0\n",
    "    0 0 0 1 1 0 1 1 0 1 1 1 1\n",
    "    0 0 0 1 1 1 1 1 1 1 1 1 0\n",
    "    0 0 0 0 0 0 1 1 1 0 0 0 0\n",
    "    0 1 1 0 0 0 0 0 1 1 0 0 0\n",
    "    0 0 0 1 1 1 1 0 0 0 0 0 0\n",
    "    1 1 0 0 0 0 0 0 0 0 1 1 1\n",
    "    1 1 1 0 0 0 0 0 0 1 1 0 0\n",
    "    0 0 0 0 0 0 0 1 1 0 0 0 0\n",
    "    0 0 0 0 0 0 1 1 1 0 0 0 0\n",
    "    1 1 0 0 0 1 1 1 1 0 0 1 1\n",
    "    1 1 1 0 1 1 0 0 0 0 0 1 1\n",
    "    0 1 1 1 0 0 0 0 0 0 0 0 0\n",
    "    1 1 0 0 1 1 0 0 0 0 0 0 0 ]\n",
    "\n",
    "TIMES = [\"10:00\",\"10:20\",\"10:40\",\"11:00\",\"11:20\",\"11:40\",\"lunch\",\"1:00\",\"1:20\",\"1:40\",\"2:00\",\"2:20\",\"2:40\"]\n",
    "NAMES = [:Manuel,:Luca,:Jule,:Michael,:Malte,:Chris,:Spyros,:Mirjam,:Matt,:Florian,:Josep,:Joel,:Tom,:Daniel,:Anne ]\n",
    "times = NamedArray( availability, (NAMES,TIMES), (\"NAME\",\"TIME\"))"
   ]
  },
  {
   "cell_type": "code",
   "execution_count": 19,
   "metadata": {},
   "outputs": [
    {
     "name": "stdout",
     "output_type": "stream",
     "text": [
      "10:00 Mirjam\n",
      "10:20 Luca\n",
      "10:40 Manuel\n",
      "11:00 Daniel\n",
      "11:20 Jule\n",
      "11:40 Anne\n",
      "lunch Malte\n",
      "lunch Spyros\n",
      "lunch Joel\n",
      "1:00 Florian\n",
      "1:20 Josep\n",
      "1:40 Chris\n",
      "2:00 Matt\n",
      "2:20 Michael\n",
      "2:40 Tom\n"
     ]
    }
   ],
   "source": [
    "m = Model(solver = ClpSolver())\n",
    "\n",
    "@variable(m, x[TIMES,NAMES] >= 0)\n",
    "#print(getvalue(x[\"10:00\",:Manuel]))\n",
    "\n",
    "# each senior employee only interviews once\n",
    "@constraint(m, a[j in NAMES], sum(x[i,j] for i in TIMES) == 1 )\n",
    "\n",
    "# each time period has one interviewer except lunch time\n",
    "# lunch time period can have three interviews\n",
    "@constraint(m, b[i in TIMES[1:6]], sum(x[i,j] for j in NAMES) == 1 )\n",
    "@constraint(m, c[\"lunch\"], sum(x[\"lunch\",j] for j in NAMES) == 3 )\n",
    "@constraint(m, d[i in TIMES[8:13]], sum(x[i,j] for j in NAMES) == 1 )\n",
    "\n",
    "# need to be fixed\n",
    "@objective(m, Max, sum( x[i,j]*times[j,i] for i in TIMES, j in NAMES ) )\n",
    "\n",
    "solve(m)\n",
    "\n",
    "assignment = NamedArray( [ (getvalue(x[i,j])) for i in TIMES, j in NAMES ], (TIMES, NAMES), (\"TIME\",\"NAME\"))\n",
    "\n",
    "for i in TIMES\n",
    "    for j in NAMES\n",
    "        if(assignment[i,j] != 0)\n",
    "            println(i,\" \",j)\n",
    "        end\n",
    "    end\n",
    "end"
   ]
  },
  {
   "cell_type": "code",
   "execution_count": null,
   "metadata": {},
   "outputs": [],
   "source": []
  }
 ],
 "metadata": {
  "kernelspec": {
   "display_name": "Julia 1.0.3",
   "language": "julia",
   "name": "julia-1.0"
  },
  "language_info": {
   "file_extension": ".jl",
   "mimetype": "application/julia",
   "name": "julia",
   "version": "1.0.3"
  }
 },
 "nbformat": 4,
 "nbformat_minor": 2
}
