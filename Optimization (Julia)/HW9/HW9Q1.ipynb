{
 "cells": [
  {
   "cell_type": "markdown",
   "metadata": {},
   "source": [
    "# Question One"
   ]
  },
  {
   "cell_type": "code",
   "execution_count": 22,
   "metadata": {},
   "outputs": [
    {
     "name": "stdout",
     "output_type": "stream",
     "text": [
      "Optimal\n",
      "District 1\n",
      "Republican Majority\n",
      "Zone Contains: \n",
      "City: 1\n",
      "City: 2\n",
      " \n",
      "District 2\n",
      "Republican Majority\n",
      "Zone Contains: \n",
      "City: 7\n",
      "City: 10\n",
      " \n",
      "District 3\n",
      "Democratic Majority\n",
      "Zone Contains: \n",
      "City: 3\n",
      "City: 4\n",
      "City: 8\n",
      " \n",
      "District 4\n",
      "Democratic Majority\n",
      "Zone Contains: \n",
      "City: 6\n",
      "City: 9\n",
      " \n",
      "District 5\n",
      "Democratic Majority\n",
      "Zone Contains: \n",
      "City: 5\n",
      " \n",
      "Minimized objective value: 3.0\n"
     ]
    }
   ],
   "source": [
    "using JuMP, Cbc\n",
    "polls = [[80 34];\n",
    "        [60 44];\n",
    "        [40 44];\n",
    "        [20 24];\n",
    "        [40 114];\n",
    "        [40 64];\n",
    "        [70 14];\n",
    "        [50 44];\n",
    "        [70 54];\n",
    "        [70 64]]\n",
    "m = Model(solver = CbcSolver())\n",
    "\n",
    "@variable(m, x[1:10, 1:5], Bin)\n",
    "@variable(m, y[1:5], Bin)\n",
    "\n",
    "for i in 1:10\n",
    "    @constraint(m, sum(x[i,:]) == 1)\n",
    "end\n",
    "\n",
    "# constraint that ea. distrcit must contain btwn 150 and 250 voters (w/ no independo's)\n",
    "for k in 1:5\n",
    "    @constraint(m, 150 <= sum{(polls[i,1] + polls[i, 2]) * x[i,k], i=1:10} <= 250)\n",
    "end\n",
    "\n",
    "# constraint for handling the all or none restrictment\n",
    "# if there is a majority (Demo) then z[i] = 1\n",
    "# else we need to find where it leans\n",
    "for k in 1:5\n",
    "    @constraint(m, sum{(polls[i,2] - polls[i, 1]) * x[i,k], i=1:10} >= -250*(1-y[k]))\n",
    "end\n",
    "\n",
    "@objective(m, Max, sum(y))\n",
    "status = solve(m)\n",
    "println(status)\n",
    "\n",
    "for j in 1:5\n",
    "    \n",
    "    println(\"District \", j)\n",
    "    if(getvalue(y[j]) == 1)\n",
    "        println(\"Democratic Majority\")\n",
    "    else\n",
    "        println(\"Republican Majority\")\n",
    "    end\n",
    "    \n",
    "    println(\"Zone Contains: \")\n",
    "    \n",
    "    for i in 1:10\n",
    "        if(getvalue(x[i,j]) >= 0.99)\n",
    "            println(\"City: \", i)\n",
    "        end      \n",
    "    end\n",
    "    println(\" \")\n",
    "end\n",
    "\n",
    "println(\"Minimized objective value: \", getobjectivevalue(m))"
   ]
  }
 ],
 "metadata": {
  "kernelspec": {
   "display_name": "Julia 1.0.3",
   "language": "julia",
   "name": "julia-1.0"
  },
  "language_info": {
   "file_extension": ".jl",
   "mimetype": "application/julia",
   "name": "julia",
   "version": "1.0.3"
  }
 },
 "nbformat": 4,
 "nbformat_minor": 2
}
