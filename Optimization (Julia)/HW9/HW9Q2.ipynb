{
 "cells": [
  {
   "cell_type": "markdown",
   "metadata": {},
   "source": [
    "# Question Two\n",
    "##### The Queen's Problem\n"
   ]
  },
  {
   "cell_type": "code",
   "execution_count": 18,
   "metadata": {},
   "outputs": [],
   "source": [
    "# Chessboard simulator\n",
    "function print_board(mat_x)\n",
    "    println(\"+---+---+---+---+---+---+---+---+\")\n",
    "    for i in 1:8\n",
    "        for j in 1:8\n",
    "            print(\"|\")\n",
    "            if (mat_x[i,j]==1.0)\n",
    "                print(\" * \")\n",
    "            else\n",
    "                print(\"   \")\n",
    "            end\n",
    "        end\n",
    "        println(\"|\")\n",
    "        println(\"+---+---+---+---+---+---+---+---+\")\n",
    "    end\n",
    "end\n",
    ";"
   ]
  },
  {
   "cell_type": "markdown",
   "metadata": {},
   "source": [
    "# a)"
   ]
  },
  {
   "cell_type": "code",
   "execution_count": 19,
   "metadata": {},
   "outputs": [
    {
     "name": "stdout",
     "output_type": "stream",
     "text": [
      "Optimal\n",
      "+---+---+---+---+---+---+---+---+\n",
      "|   |   |   | * |   |   |   |   |\n",
      "+---+---+---+---+---+---+---+---+\n",
      "|   |   |   |   |   |   |   | * |\n",
      "+---+---+---+---+---+---+---+---+\n",
      "| * |   |   |   |   |   |   |   |\n",
      "+---+---+---+---+---+---+---+---+\n",
      "|   |   |   |   | * |   |   |   |\n",
      "+---+---+---+---+---+---+---+---+\n",
      "|   |   |   |   |   |   | * |   |\n",
      "+---+---+---+---+---+---+---+---+\n",
      "|   | * |   |   |   |   |   |   |\n",
      "+---+---+---+---+---+---+---+---+\n",
      "|   |   |   |   |   | * |   |   |\n",
      "+---+---+---+---+---+---+---+---+\n",
      "|   |   | * |   |   |   |   |   |\n",
      "+---+---+---+---+---+---+---+---+\n"
     ]
    }
   ],
   "source": [
    "using Cbc, JuMP\n",
    "\n",
    "m = Model(solver=CbcSolver())\n",
    "\n",
    "@variable(m, x[1:8, 1:8], Bin)\n",
    "\n",
    "for i in 1:8\n",
    "    @constraint(m, sum{x[i,j], j = 1:8} == 1)\n",
    "    @constraint(m, sum{x[j,i], j = 1:8} == 1)\n",
    "end\n",
    "\n",
    "for diag_sum in 2:16\n",
    "    if (diag_sum <= 9)\n",
    "        @constraint(m, sum{x[i,diag_sum-i], i = 1:(diag_sum-1)} <= 1)\n",
    "    else\n",
    "        @constraint(m, sum{x[i,diag_sum-i], i = (diag_sum-8):8} <= 1)\n",
    "    end\n",
    "end\n",
    "\n",
    "for diag_diff in -7:7\n",
    "    if (diag_diff >= 0)\n",
    "        @constraint(m, sum{x[i,diag_diff+i], i = 1:(8-abs(diag_diff))} <= 1)\n",
    "    else\n",
    "        @constraint(m, sum{x[i,diag_diff+i], i = (-diag_diff+1):8} <= 1)\n",
    "    end\n",
    "end\n",
    "\n",
    "@objective(m, Min, sum(x))\n",
    "\n",
    "status = solve(m)\n",
    "mat_x = getvalue(x)\n",
    "println(status)\n",
    "print_board(mat_x)"
   ]
  },
  {
   "cell_type": "markdown",
   "metadata": {},
   "source": [
    "# b)"
   ]
  },
  {
   "cell_type": "code",
   "execution_count": 21,
   "metadata": {},
   "outputs": [
    {
     "name": "stdout",
     "output_type": "stream",
     "text": [
      "Optimal\n",
      "+---+---+---+---+---+---+---+---+\n",
      "|   |   |   |   | * |   |   |   |\n",
      "+---+---+---+---+---+---+---+---+\n",
      "|   |   | * |   |   |   |   |   |\n",
      "+---+---+---+---+---+---+---+---+\n",
      "| * |   |   |   |   |   |   |   |\n",
      "+---+---+---+---+---+---+---+---+\n",
      "|   |   |   |   |   |   | * |   |\n",
      "+---+---+---+---+---+---+---+---+\n",
      "|   | * |   |   |   |   |   |   |\n",
      "+---+---+---+---+---+---+---+---+\n",
      "|   |   |   |   |   |   |   | * |\n",
      "+---+---+---+---+---+---+---+---+\n",
      "|   |   |   |   |   | * |   |   |\n",
      "+---+---+---+---+---+---+---+---+\n",
      "|   |   |   | * |   |   |   |   |\n",
      "+---+---+---+---+---+---+---+---+\n"
     ]
    }
   ],
   "source": [
    "using Cbc, JuMP\n",
    "\n",
    "m = Model(solver=CbcSolver())\n",
    "\n",
    "@variable(m, x[1:8, 1:8], Bin)\n",
    "\n",
    "for i in 1:8\n",
    "    @constraint(m, sum{x[i,j], j = 1:8} == 1)\n",
    "    @constraint(m, sum{x[j,i], j = 1:8} == 1)\n",
    "end\n",
    "\n",
    "for diag_sum in 2:16\n",
    "    if (diag_sum <= 9)\n",
    "        @constraint(m, sum{x[i,diag_sum-i], i = 1:(diag_sum-1)} <= 1)\n",
    "    else\n",
    "        @constraint(m, sum{x[i,diag_sum-i], i = (diag_sum-8):8} <= 1)\n",
    "    end\n",
    "end\n",
    "\n",
    "for diag_diff in -7:7\n",
    "    if (diag_diff >= 0)\n",
    "        @constraint(m, sum{x[i,diag_diff+i], i = 1:(8-abs(diag_diff))} <= 1)\n",
    "    else\n",
    "        @constraint(m, sum{x[i,diag_diff+i], i = (-diag_diff+1):8} <= 1)\n",
    "    end\n",
    "end\n",
    "\n",
    "# point symmetry (rotation)\n",
    "for i in 1:8\n",
    "    for j in 1:8\n",
    "        @constraint(m, x[i,j] == x[9-i,9-j])\n",
    "    end\n",
    "end\n",
    "\n",
    "@objective(m, Min, sum(x))\n",
    "\n",
    "status = solve(m)\n",
    "mat_x = getvalue(x)\n",
    "println(status)\n",
    "print_board(mat_x)"
   ]
  },
  {
   "cell_type": "markdown",
   "metadata": {},
   "source": [
    "# c)"
   ]
  },
  {
   "cell_type": "code",
   "execution_count": 24,
   "metadata": {},
   "outputs": [
    {
     "name": "stdout",
     "output_type": "stream",
     "text": [
      "Optimal\n",
      "Minimized queens number: 5.0\n",
      "+---+---+---+---+---+---+---+---+\n",
      "|   |   |   |   | * |   |   |   |\n",
      "+---+---+---+---+---+---+---+---+\n",
      "|   |   |   |   |   |   |   |   |\n",
      "+---+---+---+---+---+---+---+---+\n",
      "|   |   |   | * |   |   |   |   |\n",
      "+---+---+---+---+---+---+---+---+\n",
      "|   |   | * |   |   |   |   |   |\n",
      "+---+---+---+---+---+---+---+---+\n",
      "|   |   |   |   |   |   | * |   |\n",
      "+---+---+---+---+---+---+---+---+\n",
      "|   |   |   |   |   |   |   |   |\n",
      "+---+---+---+---+---+---+---+---+\n",
      "|   |   |   |   |   |   |   |   |\n",
      "+---+---+---+---+---+---+---+---+\n",
      "|   | * |   |   |   |   |   |   |\n",
      "+---+---+---+---+---+---+---+---+\n"
     ]
    }
   ],
   "source": [
    "using Cbc, JuMP\n",
    "\n",
    "m = Model(solver=CbcSolver())\n",
    "\n",
    "@variable(m, x[1:8, 1:8], Bin)\n",
    "\n",
    "for i in 1:8\n",
    "    for j in 1:8\n",
    "        @constraint(m, sum{x[i,k], k=1:8} + sum{x[k,j],k=1:8} \n",
    "            +sum{x[k, (i+j)-k], k = max(1,(i+j)-8):min(8,(i+j)-1)}\n",
    "            +sum{x[k, (j-i)+k], k = max(1,-(j-i)+1):min(8,8-(j-i))} >= 1)\n",
    "    end\n",
    "end\n",
    "\n",
    "@objective(m, Min, sum(x))\n",
    "status = solve(m)\n",
    "mat_x = getvalue(x)\n",
    "println(status)\n",
    "println(\"Minimized queens number: \",getobjectivevalue(m))\n",
    "print_board(mat_x)"
   ]
  },
  {
   "cell_type": "markdown",
   "metadata": {},
   "source": [
    "# d)"
   ]
  },
  {
   "cell_type": "code",
   "execution_count": 25,
   "metadata": {},
   "outputs": [
    {
     "name": "stdout",
     "output_type": "stream",
     "text": [
      "Optimal\n",
      "Minimized queens number: 6.0\n",
      "+---+---+---+---+---+---+---+---+\n",
      "|   |   |   |   |   |   | * |   |\n",
      "+---+---+---+---+---+---+---+---+\n",
      "| * |   | * |   |   |   |   |   |\n",
      "+---+---+---+---+---+---+---+---+\n",
      "|   |   |   |   |   |   |   |   |\n",
      "+---+---+---+---+---+---+---+---+\n",
      "|   |   |   |   |   |   |   |   |\n",
      "+---+---+---+---+---+---+---+---+\n",
      "|   |   |   |   |   |   |   |   |\n",
      "+---+---+---+---+---+---+---+---+\n",
      "|   |   |   |   |   |   |   |   |\n",
      "+---+---+---+---+---+---+---+---+\n",
      "|   |   |   |   |   | * |   | * |\n",
      "+---+---+---+---+---+---+---+---+\n",
      "|   | * |   |   |   |   |   |   |\n",
      "+---+---+---+---+---+---+---+---+\n"
     ]
    }
   ],
   "source": [
    "using Cbc, JuMP\n",
    "\n",
    "m = Model(solver=CbcSolver())\n",
    "\n",
    "@variable(m, x[1:8, 1:8], Bin)\n",
    "\n",
    "for i in 1:8\n",
    "    for j in 1:8\n",
    "        @constraint(m, sum{x[i,k], k=1:8} + sum{x[k,j],k=1:8} \n",
    "            +sum{x[k, (i+j)-k], k = max(1,(i+j)-8):min(8,(i+j)-1)}\n",
    "            +sum{x[k, (j-i)+k], k = max(1,-(j-i)+1):min(8,8-(j-i))} >= 1)\n",
    "    end\n",
    "end\n",
    "\n",
    "#with point symmetry\n",
    "for i in 1:8\n",
    "    for j in 1:8\n",
    "        @constraint(m, x[i,j] == x[9-i,9-j])\n",
    "    end\n",
    "end\n",
    "\n",
    "@objective(m, Min, sum(x))\n",
    "status = solve(m)\n",
    "mat_x = getvalue(x)\n",
    "println(status)\n",
    "println(\"Minimized queens number: \",getobjectivevalue(m))\n",
    "print_board(mat_x)"
   ]
  }
 ],
 "metadata": {
  "kernelspec": {
   "display_name": "Julia 1.0.3",
   "language": "julia",
   "name": "julia-1.0"
  },
  "language_info": {
   "file_extension": ".jl",
   "mimetype": "application/julia",
   "name": "julia",
   "version": "1.0.3"
  }
 },
 "nbformat": 4,
 "nbformat_minor": 2
}
