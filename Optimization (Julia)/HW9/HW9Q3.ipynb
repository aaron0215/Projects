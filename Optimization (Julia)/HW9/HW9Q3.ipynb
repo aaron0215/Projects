{
 "cells": [
  {
   "cell_type": "markdown",
   "metadata": {},
   "source": [
    "# Question Three"
   ]
  },
  {
   "cell_type": "code",
   "execution_count": 30,
   "metadata": {},
   "outputs": [
    {
     "name": "stdout",
     "output_type": "stream",
     "text": [
      "Optimal\n",
      "5×5 Named Array{Float64,2}\n",
      "runner ╲ fraction │   1    2    3    4    5\n",
      "──────────────────┼────────────────────────\n",
      ":Alice            │ 0.0  0.0  1.0  0.0  0.0\n",
      ":Bob              │ 0.0  0.0  0.0  0.0  1.0\n",
      ":Cindy            │ 0.0  0.0  0.0  1.0  0.0\n",
      ":David            │ 0.0  1.0  0.0  0.0  0.0\n",
      ":Elisa            │ 1.0  0.0  0.0  0.0  0.0\n",
      "Time to complete race: 403.0 seconds\n"
     ]
    }
   ],
   "source": [
    "using JuMP, Cbc, NamedArrays\n",
    "\n",
    "NAMES = [1,2,3,4,5]\n",
    "FRACTION = [1,2,3,4,5]\n",
    "\n",
    "times = [82.5, 77.1, 81.3, 74.9, 80.6]\n",
    "hands_off = [0 1.1 1.3 1.9 2.1\n",
    "1.2 0 1.7 1.0 1.8\n",
    "1.7 1.4 0 0.9 1.7\n",
    "2.1 0.8 1.6 0 2.4\n",
    "1.5 1.2 1.9 2.3 0]\n",
    "\n",
    "total_time = hands_off .+ times\n",
    "\n",
    "m = Model(solver = CbcSolver())\n",
    "@variable(m, x[NAMES, FRACTION], Bin)\n",
    "\n",
    "@constraint(m, con[i in NAMES], x[i,i] == 0)\n",
    "@constraint(m, runner[i in NAMES], sum(x[i,j] for j in FRACTION) == 1)\n",
    "@constraint(m, frac[j in FRACTION], sum(x[i, j] for i in NAMES) == 1)\n",
    "\n",
    "@objective(m, Min, sum(x[i,j] * total_time[i,j] for i in NAMES, j in FRACTION))\n",
    "\n",
    "status = solve(m)\n",
    "\n",
    "println(status)\n",
    "\n",
    "result = zeros(5,5);\n",
    "\n",
    "for i in NAMES\n",
    "    for j in FRACTION\n",
    "        result[i,j] = getvalue(x[i,j])\n",
    "    end\n",
    "end\n",
    "\n",
    "# print(result)\n",
    "\n",
    "runners = [:Alice, :Bob, :Cindy, :David, :Elisa]\n",
    "solution = NamedArray(result, (runners, FRACTION), (\"runner\", \"fraction\"))\n",
    "println(solution)\n",
    "println(\"Time to complete race: \", round(getobjectivevalue(m)), \" seconds\")\n"
   ]
  }
 ],
 "metadata": {
  "kernelspec": {
   "display_name": "Julia 1.0.3",
   "language": "julia",
   "name": "julia-1.0"
  },
  "language_info": {
   "file_extension": ".jl",
   "mimetype": "application/julia",
   "name": "julia",
   "version": "1.0.3"
  }
 },
 "nbformat": 4,
 "nbformat_minor": 2
}
