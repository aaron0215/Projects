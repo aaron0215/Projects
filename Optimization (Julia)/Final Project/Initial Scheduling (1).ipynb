{
 "cells": [
  {
   "cell_type": "code",
   "execution_count": 79,
   "metadata": {},
   "outputs": [
    {
     "name": "stdout",
     "output_type": "stream",
     "text": [
      "512632.5939210211\n"
     ]
    }
   ],
   "source": [
    "cash0 = 100000\n",
    "\n",
    "using JuMP, Cbc, NamedArrays\n",
    "\n",
    "days = [1, 2, 3, 4, 5]\n",
    "stocks = [:am, :f, :m, :g, :ap]\n",
    "\n",
    "values = NamedArray([1809.07 168.26 118.76 1188.04 190.35\n",
    "1810.54 170.79 119.02 1184.24 192.54\n",
    "1823.97 173.56 119.46 1193.36 194.93\n",
    "1824.93 177.06 120.05 1206.19 195.76\n",
    "1831.13 176.45 119.99 1214.68 196.57 ], (days, stocks), (\"Days\", \"Stocks\"))\n",
    "\n",
    "#m = Model(solver=GSolver(OutputFlag=0,BarHomogeneous=1))\n",
    "m = Model(solver=CbcSolver())\n",
    "\n",
    "@variable(m, sell[days, stocks] >= 0)\n",
    "@variable(m, buy[days, stocks] >= 0)\n",
    "@variable(m, hold[days,stocks] >= 0)\n",
    "@variable(m, cash[days] >= 0)\n",
    "\n",
    "for i in days\n",
    "    for j in stocks\n",
    "        if i == 1\n",
    "            @constraint(m, cash[1] == cash0 - sum(values[1, j]*buy[1,j]))\n",
    "            @constraint(m, hold[1, j] == buy[1,j])\n",
    "            @constraint(m, sell[1,j] == 0)\n",
    "            #@constraint(m, sell[1,j] <= hold[1,j])\n",
    "        \n",
    "#         elseif i ==5\n",
    "#             @constraint(m, hold[i,j] == hold[i-1, j] + buy[i, j] - sell[i, j])\n",
    "#             @constraint(m, cash[i] == cash[i-1] + sum(values[i,j]*sell[i,j]))\n",
    "#             @constraint(m, buy[i,j] ==0)\n",
    "#             @constraint(m, sell[i,j] == hold[i-1,j])\n",
    "#             \n",
    "        else\n",
    "            @constraint(m, hold[i,j] <= hold[i-1, j] + buy[i, j] - sell[i, j])\n",
    "            @constraint(m, sell[i,j] <= hold[i-1,j])\n",
    "            @constraint(m, cash[i] == cash[i-1] + sum(values[i,j]*sell[i,j]) - (values[i,j]*buy[i,j]))\n",
    "            #if i == 5\n",
    "                #@constraint(m,sell[i,j] == hold[i-1,j])\n",
    "                #@constraint(m,sell[i,j] == hold[i,j])\n",
    "            #end\n",
    "            \n",
    "        end\n",
    "    end\n",
    "end\n",
    "\n",
    "@objective(m, Max, cash[5] +sum(values[5,j] *hold[5,j] for j in stocks))\n",
    "solve(m)\n",
    "\n",
    "returnVal = getobjectivevalue(m)\n",
    "\n",
    "println(returnVal)"
   ]
  },
  {
   "cell_type": "code",
   "execution_count": null,
   "metadata": {},
   "outputs": [],
   "source": []
  },
  {
   "cell_type": "code",
   "execution_count": 80,
   "metadata": {},
   "outputs": [
    {
     "data": {
      "text/plain": [
       "buy: 2 dimensions:\n",
       "[1,:]\n",
       "  [1,am] = 55.27702078968752\n",
       "  [1, f] = 594.3183168905266\n",
       "  [1, m] = 842.034355001684\n",
       "  [1, g] = 84.17225009258948\n",
       "  [1,ap] = 525.3480430785396\n",
       "[2,:]\n",
       "  [2,am] = 9.243182712256787e-15\n",
       "  [2, f] = 9.798672069705136e-14\n",
       "  [2, m] = 1.4060789806628638e-13\n",
       "  [2, g] = 1.413155443816237e-14\n",
       "  [2,ap] = 8.691779384984627e-14\n",
       "[3,:]\n",
       "  [3,am] = 8.415051028713134e-15\n",
       "  [3, f] = 8.843512690044885e-14\n",
       "  [3, m] = 1.2848485371540183e-13\n",
       "  [3, g] = 1.2861836013308559e-14\n",
       "  [3,ap] = 7.8740063740019e-14\n",
       "[4,:]\n",
       "  [4,am] = 9.304740871201615e-15\n",
       "  [4, f] = 9.590252320163765e-14\n",
       "  [4, m] = 0.0\n",
       "  [4, g] = 1.4077799316925162e-14\n",
       "  [4,ap] = 8.674142193544116e-14\n",
       "[5,:]\n",
       "  [5,am] = -2.6794631408350725e-14\n",
       "  [5, f] = -2.7806434350112366e-13\n",
       "  [5, m] = -4.0890452046648276e-13\n",
       "  [5, g] = -4.039290464218828e-14\n",
       "  [5,ap] = -2.496029577797897e-13"
      ]
     },
     "execution_count": 80,
     "metadata": {},
     "output_type": "execute_result"
    }
   ],
   "source": [
    "getvalue(buy)"
   ]
  },
  {
   "cell_type": "code",
   "execution_count": 34,
   "metadata": {},
   "outputs": [
    {
     "data": {
      "text/plain": [
       "cash: 1 dimensions:\n",
       "[1] = 100000.0\n",
       "[2] = 23.20000000000589\n",
       "[3] = 23.200000000005886\n",
       "[4] = 23.200000000005893\n",
       "[5] = 23.20000000000589"
      ]
     },
     "execution_count": 34,
     "metadata": {},
     "output_type": "execute_result"
    }
   ],
   "source": [
    "getvalue(cash)"
   ]
  },
  {
   "cell_type": "code",
   "execution_count": 81,
   "metadata": {},
   "outputs": [
    {
     "data": {
      "text/plain": [
       "sell: 2 dimensions:\n",
       "[1,:]\n",
       "  [1,am] = 0.0\n",
       "  [1, f] = 0.0\n",
       "  [1, m] = 0.0\n",
       "  [1, g] = 0.0\n",
       "  [1,ap] = 0.0\n",
       "[2,:]\n",
       "  [2,am] = 0.0\n",
       "  [2, f] = 0.0\n",
       "  [2, m] = 0.0\n",
       "  [2, g] = 0.0\n",
       "  [2,ap] = 0.0\n",
       "[3,:]\n",
       "  [3,am] = 0.0\n",
       "  [3, f] = 0.0\n",
       "  [3, m] = 0.0\n",
       "  [3, g] = 0.0\n",
       "  [3,ap] = 0.0\n",
       "[4,:]\n",
       "  [4,am] = 0.0\n",
       "  [4, f] = 0.0\n",
       "  [4, m] = -1.4144523746840456e-13\n",
       "  [4, g] = 0.0\n",
       "  [4,ap] = 0.0\n",
       "[5,:]\n",
       "  [5,am] = 0.0\n",
       "  [5, f] = 0.0\n",
       "  [5, m] = 0.0\n",
       "  [5, g] = 0.0\n",
       "  [5,ap] = 0.0"
      ]
     },
     "execution_count": 81,
     "metadata": {},
     "output_type": "execute_result"
    }
   ],
   "source": [
    "getvalue(sell)"
   ]
  },
  {
   "cell_type": "code",
   "execution_count": 82,
   "metadata": {},
   "outputs": [
    {
     "data": {
      "text/plain": [
       "hold: 2 dimensions:\n",
       "[1,:]\n",
       "  [1,am] = 55.27702078968752\n",
       "  [1, f] = 594.3183168905266\n",
       "  [1, m] = 842.034355001684\n",
       "  [1, g] = 84.17225009258948\n",
       "  [1,ap] = 525.3480430785396\n",
       "[2,:]\n",
       "  [2,am] = 55.277020789687526\n",
       "  [2, f] = 594.3183168905267\n",
       "  [2, m] = 842.0343550016842\n",
       "  [2, g] = 84.1722500925895\n",
       "  [2,ap] = 525.3480430785397\n",
       "[3,:]\n",
       "  [3,am] = 55.27702078968753\n",
       "  [3, f] = 594.3183168905267\n",
       "  [3, m] = 842.0343550016843\n",
       "  [3, g] = 84.17225009258951\n",
       "  [3,ap] = 525.3480430785398\n",
       "[4,:]\n",
       "  [4,am] = 55.27702078968754\n",
       "  [4, f] = 594.3183168905268\n",
       "  [4, m] = 842.0343550016844\n",
       "  [4, g] = 84.17225009258952\n",
       "  [4,ap] = 525.34804307854\n",
       "[5,:]\n",
       "  [5,am] = 55.27702078968751\n",
       "  [5, f] = 594.3183168905266\n",
       "  [5, m] = 842.0343550016839\n",
       "  [5, g] = 84.17225009258948\n",
       "  [5,ap] = 525.3480430785397"
      ]
     },
     "execution_count": 82,
     "metadata": {},
     "output_type": "execute_result"
    }
   ],
   "source": [
    "getvalue(hold)"
   ]
  },
  {
   "cell_type": "code",
   "execution_count": null,
   "metadata": {},
   "outputs": [],
   "source": []
  }
 ],
 "metadata": {
  "kernelspec": {
   "display_name": "Julia 1.0.3",
   "language": "julia",
   "name": "julia-1.0"
  },
  "language_info": {
   "file_extension": ".jl",
   "mimetype": "application/julia",
   "name": "julia",
   "version": "1.0.3"
  }
 },
 "nbformat": 4,
 "nbformat_minor": 2
}
