{
 "cells": [
  {
   "cell_type": "code",
   "execution_count": 58,
   "metadata": {},
   "outputs": [],
   "source": [
    "cash0 = 100000\n",
    "#lambda = 10\n",
    "\n",
    "using JuMP, Cbc, NamedArrays, CSV\n",
    "\n",
    "raw1 = CSV.read(\"AMZN.csv\")\n",
    "\n",
    "days = [1, 2, 3, 4, 5, 6, 7, 8, 9, 10, 11, 12, 13, 14, 15, 16, 17, 18, 19, 20, 21]\n",
    "\n",
    "values = raw1[:,2]\n",
    "\n",
    "function solveOpt(lambda)\n",
    "    m = Model(solver=CbcSolver())\n",
    "\n",
    "    @variable(m, sell[days] >= 0, Int)\n",
    "    @variable(m, buy[days] >= 0, Int)\n",
    "    @variable(m, hold[days] >= 0, Int)\n",
    "    @variable(m, cash[days] >= 0)\n",
    "    @variable(m, sellCount[days], Bin)\n",
    "    @variable(m, buyCount[days], Bin)\n",
    "\n",
    "    tradeCount = 0\n",
    "\n",
    "    for i in days\n",
    "            if i == 1\n",
    "                @constraint(m, cash[1] == cash0 - (values[1]*buy[1]))\n",
    "                @constraint(m, hold[1] == buy[1])\n",
    "                @constraint(m, sell[1] == 0)\n",
    "            else\n",
    "                @constraint(m, hold[i] <= hold[i-1] + buy[i] - sell[i])\n",
    "                @constraint(m, sell[i] <= hold[i-1])\n",
    "                @constraint(m, cash[i] == cash[i-1] + (values[i]*sell[i]) - (values[i]*buy[i]))\n",
    "            end\n",
    "    end\n",
    "\n",
    "    for i in days\n",
    "        @constraint(m, sell[i] <= sellCount[i]*100)\n",
    "        @constraint(m, buy[i] <= buyCount[i]*100)\n",
    "    end\n",
    "\n",
    "\n",
    "    @objective(m, Max, cash[21] - lambda*(sum(sellCount) + sum(buyCount)))\n",
    "    solve(m)\n",
    "\n",
    "    returnVal = getobjectivevalue(m)\n",
    "    sellVal = getvalue(sell)\n",
    "    buyVal = getvalue(buy)\n",
    "    holdVal = getvalue(hold)\n",
    "    \n",
    "    \n",
    "    tradeCount = getvalue(sum(sellCount))+getvalue(sum(buyCount))\n",
    "    \n",
    "    #cash at end of 21 days\n",
    "    J1 = getvalue(cash[21])\n",
    "    \n",
    "    #total number of trades in 21 days\n",
    "    J2 = getvalue(sum(sellCount))+getvalue(sum(buyCount))\n",
    "    return (J1, J2, returnVal)\n",
    "end\n",
    ";\n",
    "\n",
    "\n",
    "#tradeCount = getvalue(sum(sellCount))+getvalue(sum(buyCount))\n",
    "#println(\"Cash at end of month \", returnVal)\n",
    "#println(\"Total trades made: \", tradeCount)\n",
    "#println(\"Stock sell values\", sellVal)\n",
    "#println(\"Stock buy values\", buyVal)\n",
    "#println(\"Stock hold values\", holdVal)\n"
   ]
  },
  {
   "cell_type": "code",
   "execution_count": 63,
   "metadata": {},
   "outputs": [
    {
     "data": {
      "image/png": "[encoded data removed]",
      "text/plain": [
       "Figure(PyObject <Figure size 640x480 with 1 Axes>)"
      ]
     },
     "metadata": {},
     "output_type": "display_data"
    }
   ],
   "source": [
    "Npts = 30\n",
    "J1 = zeros(Npts)\n",
    "J2 = zeros(Npts)\n",
    "\n",
    "using PyPlot\n",
    "for (i,λ) in enumerate(10.0.^range(-5,1,length=Npts))\n",
    "    (J1[i],J2[i],uu) = solveOpt(λ)\n",
    "    plot(J2, J1, \"b.\")\n",
    "end;\n",
    "\n",
    "\n",
    "\n",
    "\n",
    "    "
   ]
  },
  {
   "cell_type": "code",
   "execution_count": null,
   "metadata": {},
   "outputs": [],
   "source": []
  }
 ],
 "metadata": {
  "kernelspec": {
   "display_name": "Julia 1.1.0",
   "language": "julia",
   "name": "julia-1.1"
  },
  "language_info": {
   "file_extension": ".jl",
   "mimetype": "application/julia",
   "name": "julia",
   "version": "1.1.0"
  }
 },
 "nbformat": 4,
 "nbformat_minor": 2
}
