{
 "cells": [
  {
   "cell_type": "markdown",
   "metadata": {},
   "source": [
    "### CS/ECE/ISyE 524 &mdash; Introduction to Optimization &mdash; Spring 2019 ###\n",
    "\n",
    "# Stock Trading Optimization#\n",
    "\n",
    "#### Jacob Makola (makola@wisc.edu), Finley Myers (fmyers@wisc.edu), Aaron (email address), and Lucas Laibly (laibly@wisc.edu)\n",
    "\n",
    "*****\n",
    "\n",
    "### Table of Contents\n",
    "\n",
    "1. [Introduction](#1.-Introduction)\n",
    "1. [General Model](#2.-General)\n",
    "     1. [Mathematical Model](#9.-Mathematical)\n",
    "     1. [Solution](#b.-Solution)\n",
    "     1. [Results](#c.-Results)\n",
    "1. [Moving Average](#3.-General)\n",
    "     1. [Mathematical Model](#a.-Mathematical)\n",
    "     1. [Solution](#b.-Solution)\n",
    "     1. [Results](#c.-Results)\n",
    "1. [Regularization](#4.-Results-and-discussion)\n",
    "    1. [Mathematical Model](#a.-Mathematical)\n",
    "    1. [Solution](#b.-Solution)\n",
    "    1. [Results](#c.-Results)\n",
    "1. [Conclusion](#5.-Conclusion)"
   ]
  },
  {
   "cell_type": "markdown",
   "metadata": {
    "collapsed": true
   },
   "source": [
    "## 1. Introduction ##\n",
    "\n",
    "The first few sentences should give a quick overview of the entire project. Then, elaborate with a description of the problem that will be solved, a brief history (with [citations](https://en.wikipedia.org/wiki/Citation) where appropriate) of how the problem came about, why it's important/interesting, and any other interesting facts you'd like to talk about. You should address and explain where the problem data is coming from (research? the internet? synthetically generated? something you have collected personally, or by surveying your friends?) Also give an outline of the rest of the report.\n",
    "\n",
    "This section should be 300-600 words long, and **should be accessible to a general audience** (don't assume your reader has taken the class!). Although you should include references, you should also make sure that it is possible to understand the main ideas of the project and the context without clicking on any of the links or reading any of the references. Feel free to include images if you think it'll be helpful:\n",
    "\n",
    "![fixit flowchart][flow]\n",
    "\n",
    "For more help on using Markdown, see [this reference](https://github.com/adam-p/markdown-here/wiki/Markdown-Cheatsheet).\n",
    "\n",
    "[flow]: https://s-media-cache-ak0.pinimg.com/736x/f5/75/c5/f575c53b93724808c6f0211890a54900.jpg"
   ]
  },
  {
   "cell_type": "markdown",
   "metadata": {
    "collapsed": true
   },
   "source": [
    "## 2. General Model ##\n",
    "\n",
    "\n",
    "A discussion of the modeling assumptions made in the problem (e.g. is it from physics? economics? something else?). Explain the decision variables, the constraints, and the objective function. Finally, show the optimization problem written in standard form. Discuss the model type (LP, QP, MIP, etc.). Equations should be formatted in $\\LaTeX$ within the IJulia notebook. For this section you may **assume the reader is familiar with the material covered in class**.\n",
    "\n",
    "Here is an example of an equation:\n",
    "\n",
    "$$\n",
    "\\begin{bmatrix}\n",
    "  1 & 2 \\\\\n",
    "  3 & 4\n",
    "\\end{bmatrix}\n",
    "\\begin{bmatrix} x \\\\ y \\end{bmatrix} =\n",
    "\\begin{bmatrix} 5 \\\\ 6 \\end{bmatrix}\n",
    "$$\n",
    "\n",
    "And here is an example of an optimization problem in standard form:\n",
    "\n",
    "$$\n",
    "\\begin{aligned}\n",
    "\\underset{x \\in \\mathbb{R^n}}{\\text{maximize}}\\qquad& f_0(x) \\\\\n",
    "\\text{subject to:}\\qquad& f_i(x) \\le 0 && i=1,\\dots,m\\\\\n",
    "& h_j(x) = 0 && j=1,\\dots,r\n",
    "\\end{aligned}\n",
    "$$\n",
    "\n",
    "For some quick tips on using $\\LaTeX$, see [this cheat sheet](http://users.dickinson.edu/~richesod/latex/latexcheatsheet.pdf).\n",
    "## a. Mathematical Model ##\n",
    "\n",
    "## b. Solution ##\n",
    "\n",
    "\n",
    "## c. Results ##"
   ]
  },
  {
   "cell_type": "markdown",
   "metadata": {
    "collapsed": true
   },
   "source": [
    "## 3. Moving Average##\n",
    "\n",
    "Here, you should code up your model in Julia + JuMP and solve it. Your code should be clean, easy to read, well annotated and commented, and it should compile! You are not allowed to use other programming languages or DCP packages such as `convex.jl`. **We will be running your code**. Having multiple code blocks separated by text blocks that explain the various parts of your solution will make it much easier for us to understand your project. You may also solve several versions of your problem with different models/assumptions. **Remember that if you do not write your description of the project and commeent your code well, we cannot understand what you have done. Even if it is technically brilliant, you will loose points if you do not write well and comment your code well.**\n",
    "\n",
    "It's fine to call external packages such as `Gurobi`, but try to minimize the use of other packages. We want to be able to understand what is happening in your code without looking up additional references.\n",
    "\n",
    "## a. Mathematical Model ##\n",
    "\n",
    "\n",
    "## b. Solution ##\n",
    "\n",
    "\n",
    "## c. Results ##"
   ]
  },
  {
   "cell_type": "code",
   "execution_count": null,
   "metadata": {},
   "outputs": [],
   "source": [
    "# this is a code block\n",
    "using JuMP, Clp\n",
    "m = Model(solver = ClpSolver())\n",
    "\n",
    "things = [:horses, :donkeys, :goats]  # these are the things \n",
    "@variable(m, x[things] >= 0)          # the quantities of each of the things (can't be negative)\n",
    "@constraint(m, sum(x) <= 10)          # we can't have any more than 10 things total\n",
    "@objective(m, Max, x[:horses])        # we want to maximize the number of horses\n",
    "solve(m)\n",
    "\n",
    "for i in things\n",
    "    println(\"The total number of \", i, \" is: \", getvalue(x[i]))     # print result\n",
    "end"
   ]
  },
  {
   "cell_type": "markdown",
   "metadata": {},
   "source": [
    "Remember to make sure your code compiles! I will be running your code!"
   ]
  },
  {
   "cell_type": "markdown",
   "metadata": {
    "collapsed": true
   },
   "source": [
    "## 4. Regularization Model ##\n",
    "\n",
    "\n",
    "## 4a. Regularization Mathematical Model ##\n",
    "\n",
    "Following the creation of a general model for buying and purchasing stocks, it became clear that the model could be made more realistic by accounting for the trading fees that are generally charged for buying and selling stock. To do so, we created a regularization model in which the tradeoff parameter, lambda, represented the cost of buying or selling a given stock. As with the moving average model, this model was on a month of closing price data from Amazon.\n",
    "\n",
    "In addition to converting the model to a regularization problem, two arrays of integer decision variables, buyCount and sellCount were added to the model. These track whether or not stock was purchased or sold on a given day within the month.The regularization program's general model is shown below.\n",
    "\n",
    "$$\n",
    "\\begin{aligned}\n",
    "\\underset{x \\in \\mathbb{R^n}}{\\text{minimize}}\\qquad& f_0(x) + lambda*(sellCount + buyCount)\\\\\n",
    "\\text{Decision Variables:}\\\\\n",
    "& hold[i] >= 0\\\\\n",
    "& cash[i] >= 0\\\\\n",
    "& sell[i] >= 0\\\\\n",
    "& sellCount[i] = 0,1\\\\\n",
    "& buyCount[i] = 0,1\\\\\n",
    "\\text{subject to:}\\\\\n",
    "& hold[1] == buy [1], \\\\\n",
    "& cash[1] == initialCash - (values[1]*buy[1])\\\\\n",
    "& sell[1] == 0 ,\\\\\n",
    "& values[1] * buy[1] <= initialCash ,\\\\\n",
    "& hold[i] == hold[i-1] + buy[i] - sell[i],\\\\\n",
    "& cash[i] == cash[i-1] + sum(values[i] * sell[i]) - sum(values[i] * buy[i])),\\\\\n",
    "& sum(buy[i] * values[i]) <= cash[i],\\\\\n",
    "& sell[i] <= hold[i - 1],\\\\\n",
    "& sell[i] <= sellCount[i]*100,\\\\\n",
    "& buy[i] <= buyCount[i]*100\\\\\n",
    "&i=1,\\dots,d\n",
    "\\text{        (Where d is the number of trading days in the month)}\n",
    "&\n",
    "\\end{aligned}\n",
    "$$\n",
    "\n",
    "\n",
    "Finally, the program results at different values of lambda were used to create a Pareto plot. This plot and other results will be further described in the results section."
   ]
  },
  {
   "cell_type": "markdown",
   "metadata": {
    "collapsed": true
   },
   "source": [
    "## 4b. Regularization Solution ##\n",
    "\n",
    "Below is the expanded model, programmed in Julia. The model has been programmed as a function, to allow multiple instances to be run when creating a Pareto curve for the regularization problem. Using Pyplot, the objective value is plotted for a range of values from 0 to 10,000. This leads to a graph of discrete point groupings, as the model is an integer program. Although a maximum lambda value of $10,000 may be unrealistic for the price of completing a trade, values up to this level are included to illustrate the mathematical concept, and to represent the cost of acquiring information."
   ]
  },
  {
   "cell_type": "code",
   "execution_count": 1,
   "metadata": {},
   "outputs": [],
   "source": [
    "\"\"\"Below is code to import Amazon stock data for March 2019\"\"\"\n",
    "\n",
    "using JuMP, Cbc, NamedArrays, CSV\n",
    "\n",
    "#Daily Amazon stock closing values for an entire month.\n",
    "raw1 = CSV.read(\"AMZN.csv\")\n",
    "values = raw1[:,2]\n",
    "\n",
    "\n",
    "\"\"\" Below is a function containing the regularization model.\"\"\"\n",
    "#array for each day that Amazon stock was traded over the course of the month.\n",
    "days = [1, 2, 3, 4, 5, 6, 7, 8, 9, 10, 11, 12, 13, 14, 15, 16, 17, 18, 19, 20, 21]\n",
    "\n",
    "#Initial starting cash value of $100,000.\n",
    "initialCash = 100000\n",
    "\n",
    "function solveOpt(lambda)\n",
    "    m = Model(solver=CbcSolver())\n",
    "    \n",
    "    #Amount of Amazon stock sold for each day of the month.\n",
    "    @variable(m, sell[days] >= 0, Int)\n",
    "    \n",
    "    #Amount of Amazon stock bought for each day of the month.\n",
    "    @variable(m, buy[days] >= 0, Int)\n",
    "    \n",
    "    #Amount of Amazon stock held for each day of the month.\n",
    "    @variable(m, hold[days] >= 0, Int)\n",
    "    \n",
    "    #Amount of cash held for each day of the month\n",
    "    @variable(m, cash[days] >= 0)\n",
    "    \n",
    "    #tracks whether or not stock sales were made in a given day of the month\n",
    "    @variable(m, sellCount[days], Bin)\n",
    "    \n",
    "    #tracks whether or not stocks were bought on a given day of the month\n",
    "    @variable(m, buyCount[days], Bin)\n",
    "    \n",
    "    #ensures that the amount of stock held after day one is equal to the amount of stock bought on day one\n",
    "    @constraint(m, hold_initial, hold[1] == buy[1])\n",
    "    #constrains the amount of cash held after day 1\n",
    "    @constraint(m, cash[1] == initialCash - (values[1] * buy[1]))\n",
    "    #sets the amount of stock sold on day one to zero\n",
    "    @constraint(m, sell_initial, sell[1] == 0)\n",
    "    #ensures that the stock bought on day one doesn't exceed the initial amount of cash held\n",
    "    @constraint(m, values[1] * buy[1] <= initialCash)\n",
    "    #constrains the amount of stock held on each day of the month\n",
    "    @constraint(m, hold_constraint[i in 2:21], hold[i] == hold[i - 1] + buy[i] - sell[i])\n",
    "    #constrains the amount of cash held on each day of the month\n",
    "    @constraint(m, cash_constraint[i in 2:21], \n",
    "                cash[i] == cash[i - 1] \n",
    "                        + sum(values[i] * sell[i])\n",
    "                        - sum(values[i] * buy[i]))\n",
    "    #ensures that value of stock bought on a given day doesn't exceed the amount of cash held\n",
    "    @constraint(m, buy_constraint[i in 2:21], sum(buy[i] * values[i]) <= cash[i])\n",
    "    #ensures that the value of stock sold on a given day doesn't exceed the amount of stock held\n",
    "    @constraint(m, sell_constraint[i in 2:21], sell[i] <= hold[i - 1])\n",
    "    \n",
    "    #sets sellCount and buyCount to show if the stock was bought or sold on each day\n",
    "    for i in days\n",
    "        @constraint(m, sell[i] <= sellCount[i]*100)\n",
    "        @constraint(m, buy[i] <= buyCount[i]*100)\n",
    "    end\n",
    "\n",
    "    #maximizes value of cash held at end of month minus fees for buying and selling stock\n",
    "    @objective(m, Max, cash[21] - lambda*(sum(sellCount) + sum(buyCount)))\n",
    "    solve(m)\n",
    "\n",
    "    returnVal = getobjectivevalue(m)\n",
    "    sellVal = getvalue(sell)\n",
    "    buyVal = getvalue(buy)\n",
    "    holdVal = getvalue(hold)\n",
    "    \n",
    "    #cash at end of 21 days\n",
    "    J1 = getvalue(cash[21])\n",
    "    \n",
    "    #total number of trades in 21 days\n",
    "    J2 = getvalue(sum(sellCount))+getvalue(sum(buyCount))\n",
    "    return (J1, J2)\n",
    "end\n",
    ";\n"
   ]
  },
  {
   "cell_type": "code",
   "execution_count": 3,
   "metadata": {},
   "outputs": [
    {
     "data": {
      "image/png": "[encoded data removed]",
      "text/plain": [
       "Figure(PyObject <Figure size 640x480 with 1 Axes>)"
      ]
     },
     "metadata": {},
     "output_type": "display_data"
    },
    {
     "data": {
      "text/plain": [
       "PyObject Text(0.5, 24.0, 'Trades Made')"
      ]
     },
     "execution_count": 3,
     "metadata": {},
     "output_type": "execute_result"
    }
   ],
   "source": [
    "Npts = 50\n",
    "J1 = zeros(Npts)\n",
    "J2 = zeros(Npts)\n",
    "\n",
    "using PyPlot\n",
    "for (i,λ) in enumerate(range(0,10000,length=Npts))\n",
    "    (J1[i],J2[i]) = solveOpt(λ)\n",
    "    plot(J2, J1, \"b.\")\n",
    "end\n",
    "\n",
    "axis((-5,50, 80000, 130000))\n",
    "\n",
    "title(\"Investment Values After One Month\")\n",
    "ylabel(\"Investment Value\")\n",
    "xlabel(\"Trades Made\")\n"
   ]
  },
  {
   "cell_type": "markdown",
   "metadata": {
    "collapsed": true
   },
   "source": [
    "## 4c. Regularization Results ##\n",
    "\n",
    "As previously mentioned, a Julia function was used to run the repeatedly run the optimization model with different lambda values. Doing so led to the above Pareto diagram, which displays the ending investment value on the y-axis, and the total number of trades made on the x-axis. The values furthest to the right correspond with the lowest lambda values, and those on the left correspond with the highest lambda values. This is due to higher values of lambda lead to less trades being made, and a resultingly lower final investment value."
   ]
  },
  {
   "cell_type": "markdown",
   "metadata": {
    "collapsed": true
   },
   "source": [
    "## 5. Conclusion ##\n",
    "\n",
    "Summarize your findings and your results, and talk about at least one possible future direction; something that might be interesting to pursue as a follow-up to your project."
   ]
  },
  {
   "cell_type": "code",
   "execution_count": null,
   "metadata": {
    "collapsed": true
   },
   "outputs": [],
   "source": []
  }
 ],
 "metadata": {
  "kernelspec": {
   "display_name": "Julia 1.0.3",
   "language": "julia",
   "name": "julia-1.0"
  },
  "language_info": {
   "file_extension": ".jl",
   "mimetype": "application/julia",
   "name": "julia",
   "version": "1.0.3"
  }
 },
 "nbformat": 4,
 "nbformat_minor": 1
}
