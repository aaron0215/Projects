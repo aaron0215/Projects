{
 "cells": [
  {
   "cell_type": "code",
   "execution_count": 1,
   "metadata": {},
   "outputs": [
    {
     "data": {
      "text/plain": [
       "'Connected: @PS1.db'"
      ]
     },
     "execution_count": 1,
     "metadata": {},
     "output_type": "execute_result"
    }
   ],
   "source": [
    "%load_ext sql\n",
    "%sql sqlite:///PS1.db"
   ]
  },
  {
   "cell_type": "markdown",
   "metadata": {},
   "source": [
    "Problem Set 1 [100 points]\n",
    "=======\n",
    "\n",
    "### Deliverables:\n",
    "\n",
    "Submit your queries (and only those) using the `submission_template.txt` file that is posted on the class website. Follow the instructions on the file! Upload the file at Canvas (under PS1).\n",
    "\n",
    "\n",
    "### Instructions / Notes:\n",
    "\n",
    "* Run the top cell above to load the database `PS1.db` (make sure the database file, `PS1.db`, is in the same directory as this IPython notebook is running in)\n",
    "* Some of the problems involve _changing_ this database (e.g. deleting rows)- you can always re-download `PS1.db` or make a copy if you want to start fresh!\n",
    "* You **may** create new IPython notebook cells to use for e.g. testing, debugging, exploring, etc.- this is encouraged in fact!- **just make sure that your final answer for each question is _in its own cell_ and _clearly indicated_**\n",
    "* When you see `In [*]:` to the left of the cell you are executing, this means that the code / query is _running_.\n",
    "    * **If the cell is hanging- i.e. running for too long: To restart the SQL connection, you must restart the entire python kernel**\n",
    "    * To restart kernel using the menu bar: \"Kernel >> Restart >> Clear all outputs & restart\"), then re-execute the sql connection cell at top\n",
    "    * You will also need to restart the connection if you want to load a different version of the database file\n",
    "* Remember:\n",
    "    * `%sql [SQL]` is for _single line_ SQL queries\n",
    "    * `%%sql [SQL]` is for _multi line_ SQL queries\n",
    "* _Have fun!_"
   ]
  },
  {
   "cell_type": "markdown",
   "metadata": {},
   "source": [
    "Problem 1: Linear Algebra [25 points]\n",
    "------------------------\n",
    "\n",
    "Two random 3x3 ($N=3$) matrices have been provided in tables `A` and `B`, having the following schema:\n",
    "> * `i INT`:   Row index\n",
    "> * `j INT`:   Column index\n",
    "> * `val INT`: Cell value\n",
    "\n",
    "**Note: all of your answers below _must_ work for any _square_ matrix sizes, i.e. any value of $N$**.\n",
    "\n",
    "Note how the matrices are represented- why do we choose this format?  Run the following queries to see the matrices in a nice format:"
   ]
  },
  {
   "cell_type": "code",
   "execution_count": 3,
   "metadata": {},
   "outputs": [
    {
     "name": "stdout",
     "output_type": "stream",
     "text": [
      " * sqlite:///PS1.db\n",
      "Done.\n"
     ]
    },
    {
     "data": {
      "text/html": [
       "<table>\n",
       "    <tr>\n",
       "        <th>A</th>\n",
       "    </tr>\n",
       "    <tr>\n",
       "        <td>7 , 5 , 8</td>\n",
       "    </tr>\n",
       "    <tr>\n",
       "        <td>10 , 7 , 7</td>\n",
       "    </tr>\n",
       "    <tr>\n",
       "        <td>2 , 0 , 5</td>\n",
       "    </tr>\n",
       "</table>"
      ],
      "text/plain": [
       "[('7 , 5 , 8',), ('10 , 7 , 7',), ('2 , 0 , 5',)]"
      ]
     },
     "execution_count": 3,
     "metadata": {},
     "output_type": "execute_result"
    }
   ],
   "source": [
    "%sql SELECT group_concat(val, \" , \") AS \"A\" FROM A GROUP BY i;"
   ]
  },
  {
   "cell_type": "code",
   "execution_count": 4,
   "metadata": {},
   "outputs": [
    {
     "name": "stdout",
     "output_type": "stream",
     "text": [
      " * sqlite:///PS1.db\n",
      "Done.\n"
     ]
    },
    {
     "data": {
      "text/html": [
       "<table>\n",
       "    <tr>\n",
       "        <th>B</th>\n",
       "    </tr>\n",
       "    <tr>\n",
       "        <td>9 , 6 , 10</td>\n",
       "    </tr>\n",
       "    <tr>\n",
       "        <td>7 , 6 , 9</td>\n",
       "    </tr>\n",
       "    <tr>\n",
       "        <td>1 , 1 , 7</td>\n",
       "    </tr>\n",
       "</table>"
      ],
      "text/plain": [
       "[('9 , 6 , 10',), ('7 , 6 , 9',), ('1 , 1 , 7',)]"
      ]
     },
     "execution_count": 4,
     "metadata": {},
     "output_type": "execute_result"
    }
   ],
   "source": [
    "%sql SELECT group_concat(val, \" , \") AS \"B\" FROM B GROUP BY i;"
   ]
  },
  {
   "cell_type": "markdown",
   "metadata": {},
   "source": [
    "### Part (a): Matrix transpose [5 points]\n",
    "\n",
    "_Transposing_ a matrix $A$ is the operation of switching its rows with its columns- written $A^T$.  For example, if we have:\n",
    "\n",
    "$A=\\begin{bmatrix}a & b & c\\\\ d & e & f\\\\ g & h & i\\end{bmatrix}$\n",
    "\n",
    "Then:\n",
    "\n",
    "$A^T=\\begin{bmatrix}a & d & g\\\\ b & e & h\\\\ c & f & i\\end{bmatrix}$\n",
    "\n",
    "Write a _single SQL query_ to get the matrix transpose $A^T$ (in the same format as $A$- output tuples should be of format `(i,j,val)` where `i` is row, `j` is column, and the output is ordered by row then column index)\n",
    "\n",
    "Write your query here:"
   ]
  },
  {
   "cell_type": "code",
   "execution_count": 3,
   "metadata": {},
   "outputs": [
    {
     "name": "stdout",
     "output_type": "stream",
     "text": [
      " * sqlite:///PS1.db\n",
      "Done.\n"
     ]
    },
    {
     "data": {
      "text/html": [
       "<table>\n",
       "    <tr>\n",
       "        <th>i</th>\n",
       "        <th>j</th>\n",
       "        <th>val</th>\n",
       "    </tr>\n",
       "    <tr>\n",
       "        <td>0</td>\n",
       "        <td>0</td>\n",
       "        <td>7</td>\n",
       "    </tr>\n",
       "    <tr>\n",
       "        <td>0</td>\n",
       "        <td>1</td>\n",
       "        <td>10</td>\n",
       "    </tr>\n",
       "    <tr>\n",
       "        <td>0</td>\n",
       "        <td>2</td>\n",
       "        <td>2</td>\n",
       "    </tr>\n",
       "    <tr>\n",
       "        <td>1</td>\n",
       "        <td>0</td>\n",
       "        <td>5</td>\n",
       "    </tr>\n",
       "    <tr>\n",
       "        <td>1</td>\n",
       "        <td>1</td>\n",
       "        <td>7</td>\n",
       "    </tr>\n",
       "    <tr>\n",
       "        <td>1</td>\n",
       "        <td>2</td>\n",
       "        <td>0</td>\n",
       "    </tr>\n",
       "    <tr>\n",
       "        <td>2</td>\n",
       "        <td>0</td>\n",
       "        <td>8</td>\n",
       "    </tr>\n",
       "    <tr>\n",
       "        <td>2</td>\n",
       "        <td>1</td>\n",
       "        <td>7</td>\n",
       "    </tr>\n",
       "    <tr>\n",
       "        <td>2</td>\n",
       "        <td>2</td>\n",
       "        <td>5</td>\n",
       "    </tr>\n",
       "</table>"
      ],
      "text/plain": [
       "[(0, 0, 7),\n",
       " (0, 1, 10),\n",
       " (0, 2, 2),\n",
       " (1, 0, 5),\n",
       " (1, 1, 7),\n",
       " (1, 2, 0),\n",
       " (2, 0, 8),\n",
       " (2, 1, 7),\n",
       " (2, 2, 5)]"
      ]
     },
     "execution_count": 3,
     "metadata": {},
     "output_type": "execute_result"
    }
   ],
   "source": [
    "%sql SELECT A.j AS \"i\", A.i AS \"j\", A.val From A GROUP BY i,j ORDER BY i;"
   ]
  },
  {
   "cell_type": "code",
   "execution_count": 4,
   "metadata": {},
   "outputs": [
    {
     "name": "stdout",
     "output_type": "stream",
     "text": [
      "Done.\n"
     ]
    },
    {
     "data": {
      "text/html": [
       "<table>\n",
       "    <tr>\n",
       "        <th>i</th>\n",
       "        <th>j</th>\n",
       "        <th>val</th>\n",
       "    </tr>\n",
       "    <tr>\n",
       "        <td>0</td>\n",
       "        <td>0</td>\n",
       "        <td>7</td>\n",
       "    </tr>\n",
       "    <tr>\n",
       "        <td>0</td>\n",
       "        <td>1</td>\n",
       "        <td>10</td>\n",
       "    </tr>\n",
       "    <tr>\n",
       "        <td>0</td>\n",
       "        <td>2</td>\n",
       "        <td>2</td>\n",
       "    </tr>\n",
       "    <tr>\n",
       "        <td>1</td>\n",
       "        <td>0</td>\n",
       "        <td>5</td>\n",
       "    </tr>\n",
       "    <tr>\n",
       "        <td>1</td>\n",
       "        <td>1</td>\n",
       "        <td>7</td>\n",
       "    </tr>\n",
       "    <tr>\n",
       "        <td>1</td>\n",
       "        <td>2</td>\n",
       "        <td>0</td>\n",
       "    </tr>\n",
       "    <tr>\n",
       "        <td>2</td>\n",
       "        <td>0</td>\n",
       "        <td>8</td>\n",
       "    </tr>\n",
       "    <tr>\n",
       "        <td>2</td>\n",
       "        <td>1</td>\n",
       "        <td>7</td>\n",
       "    </tr>\n",
       "    <tr>\n",
       "        <td>2</td>\n",
       "        <td>2</td>\n",
       "        <td>5</td>\n",
       "    </tr>\n",
       "</table>"
      ],
      "text/plain": [
       "[(0, 0, 7),\n",
       " (0, 1, 10),\n",
       " (0, 2, 2),\n",
       " (1, 0, 5),\n",
       " (1, 1, 7),\n",
       " (1, 2, 0),\n",
       " (2, 0, 8),\n",
       " (2, 1, 7),\n",
       " (2, 2, 5)]"
      ]
     },
     "execution_count": 4,
     "metadata": {},
     "output_type": "execute_result"
    }
   ],
   "source": [
    "\"\"\"\n",
    "Expected output below- don't re-evaluate this cell!\n",
    "\n",
    "NOTE: A valid answer must work for ALL inputs of the given type,\n",
    "not just this example.  I.e. do not hardcode around this answer / etc!\n",
    "\"\"\""
   ]
  },
  {
   "cell_type": "markdown",
   "metadata": {},
   "source": [
    "### Part (b): Dot product I [5 points]\n",
    "\n",
    "The _dot product_ of two vectors\n",
    "\n",
    "$a = \\begin{bmatrix}a_1 & a_2 & \\dots & a_n\\end{bmatrix}$\n",
    "\n",
    "and\n",
    "\n",
    "$b = \\begin{bmatrix}b_1 & b_2 & \\dots & b_n\\end{bmatrix}$\n",
    "\n",
    "is\n",
    "\n",
    "$a\\cdot b = \\sum_{i=1}^n a_ib_i = a_1b_1 + a_2b_2 + \\dots + a_nb_n$\n",
    "\n",
    "Write a _single SQL query_ to take the dot product of the **second column of $A$** and the **third column of $B$.**\n",
    "\n",
    "Write your query here:"
   ]
  },
  {
   "cell_type": "code",
   "execution_count": 11,
   "metadata": {},
   "outputs": [
    {
     "name": "stdout",
     "output_type": "stream",
     "text": [
      " * sqlite:///PS1.db\n",
      "Done.\n"
     ]
    },
    {
     "data": {
      "text/html": [
       "<table>\n",
       "    <tr>\n",
       "        <th>SUM(A.val*B.val)</th>\n",
       "    </tr>\n",
       "    <tr>\n",
       "        <td>113</td>\n",
       "    </tr>\n",
       "</table>"
      ],
      "text/plain": [
       "[(113,)]"
      ]
     },
     "execution_count": 11,
     "metadata": {},
     "output_type": "execute_result"
    }
   ],
   "source": [
    "%sql SELECT SUM(A.val*B.val) FROM A,B WHERE A.j = 1 AND B.j = 2 AND A.i = B.i;"
   ]
  },
  {
   "cell_type": "code",
   "execution_count": 5,
   "metadata": {},
   "outputs": [
    {
     "name": "stdout",
     "output_type": "stream",
     "text": [
      "Done.\n"
     ]
    },
    {
     "data": {
      "text/html": [
       "<table>\n",
       "    <tr>\n",
       "        <th>SUM(A.val * B.val)</th>\n",
       "    </tr>\n",
       "    <tr>\n",
       "        <td>113</td>\n",
       "    </tr>\n",
       "</table>"
      ],
      "text/plain": [
       "[(113,)]"
      ]
     },
     "execution_count": 5,
     "metadata": {},
     "output_type": "execute_result"
    }
   ],
   "source": [
    "\"\"\"\n",
    "Expected output below- don't re-evaluate this cell!\n",
    "\n",
    "NOTE: A valid answer must work for ALL inputs of the given type,\n",
    "not just this example.  I.e. do not hardcode around this answer / etc!\n",
    "\"\"\""
   ]
  },
  {
   "cell_type": "markdown",
   "metadata": {},
   "source": [
    "### Part (c): Dot product II [5 points]\n",
    "\n",
    "Write a _single SQL query_ to take the dot product of the **second _row_ of $A$** and the **third column of $B$.**\n",
    "\n",
    "Write your query here:"
   ]
  },
  {
   "cell_type": "code",
   "execution_count": 12,
   "metadata": {},
   "outputs": [
    {
     "name": "stdout",
     "output_type": "stream",
     "text": [
      " * sqlite:///PS1.db\n",
      "Done.\n"
     ]
    },
    {
     "data": {
      "text/html": [
       "<table>\n",
       "    <tr>\n",
       "        <th>SUM(A.val*B.val)</th>\n",
       "    </tr>\n",
       "    <tr>\n",
       "        <td>212</td>\n",
       "    </tr>\n",
       "</table>"
      ],
      "text/plain": [
       "[(212,)]"
      ]
     },
     "execution_count": 12,
     "metadata": {},
     "output_type": "execute_result"
    }
   ],
   "source": [
    "%sql SELECT SUM(A.val*B.val) FROM A,B WHERE A.i = 1 AND B.j = 2 AND A.j = B.i;"
   ]
  },
  {
   "cell_type": "code",
   "execution_count": 6,
   "metadata": {},
   "outputs": [
    {
     "name": "stdout",
     "output_type": "stream",
     "text": [
      "Done.\n"
     ]
    },
    {
     "data": {
      "text/html": [
       "<table>\n",
       "    <tr>\n",
       "        <th>SUM(A.val * B.val)</th>\n",
       "    </tr>\n",
       "    <tr>\n",
       "        <td>212</td>\n",
       "    </tr>\n",
       "</table>"
      ],
      "text/plain": [
       "[(212,)]"
      ]
     },
     "execution_count": 6,
     "metadata": {},
     "output_type": "execute_result"
    }
   ],
   "source": [
    " \"\"\"\n",
    "Expected output below- don't re-evaluate this cell!\n",
    "\n",
    "NOTE: A valid answer must work for ALL inputs of the given type,\n",
    "not just this example.  I.e. do not hardcode around this answer / etc!\n",
    "\"\"\""
   ]
  },
  {
   "cell_type": "markdown",
   "metadata": {},
   "source": [
    "### Part (d): Matrix multiplication [10 points]\n",
    "\n",
    "The product of a matrix $A$ (having dimensions $n\\times m$) and a matrix $B$ (having dimensions $m\\times p$) is the matrix $C$ (of dimension $n\\times p$) having cell at row $i$ and column $j$ equal to:\n",
    "\n",
    "$C_{ij} = \\sum_{k=1}^m A_{ik}B_{kj}$\n",
    "\n",
    "In other words, to multiply two matrices, get each cell of the resulting matrix $C$, $C_{ij}$, by taking the _dot product_ of the $i$th row of $A$ and the $j$th column of $B$.\n",
    "\n",
    "Write a single SQL query to get the matrix product of $A$ and $B$ (in the same format as $A$ and $B$).\n",
    "\n",
    "Write your query here:"
   ]
  },
  {
   "cell_type": "code",
   "execution_count": 7,
   "metadata": {},
   "outputs": [
    {
     "name": "stdout",
     "output_type": "stream",
     "text": [
      " * sqlite:///PS1.db\n",
      "Done.\n"
     ]
    },
    {
     "data": {
      "text/html": [
       "<table>\n",
       "    <tr>\n",
       "        <th>i</th>\n",
       "        <th>j</th>\n",
       "        <th>val</th>\n",
       "    </tr>\n",
       "    <tr>\n",
       "        <td>0</td>\n",
       "        <td>0</td>\n",
       "        <td>106</td>\n",
       "    </tr>\n",
       "    <tr>\n",
       "        <td>0</td>\n",
       "        <td>1</td>\n",
       "        <td>80</td>\n",
       "    </tr>\n",
       "    <tr>\n",
       "        <td>0</td>\n",
       "        <td>2</td>\n",
       "        <td>171</td>\n",
       "    </tr>\n",
       "    <tr>\n",
       "        <td>1</td>\n",
       "        <td>0</td>\n",
       "        <td>146</td>\n",
       "    </tr>\n",
       "    <tr>\n",
       "        <td>1</td>\n",
       "        <td>1</td>\n",
       "        <td>109</td>\n",
       "    </tr>\n",
       "    <tr>\n",
       "        <td>1</td>\n",
       "        <td>2</td>\n",
       "        <td>212</td>\n",
       "    </tr>\n",
       "    <tr>\n",
       "        <td>2</td>\n",
       "        <td>0</td>\n",
       "        <td>23</td>\n",
       "    </tr>\n",
       "    <tr>\n",
       "        <td>2</td>\n",
       "        <td>1</td>\n",
       "        <td>17</td>\n",
       "    </tr>\n",
       "    <tr>\n",
       "        <td>2</td>\n",
       "        <td>2</td>\n",
       "        <td>55</td>\n",
       "    </tr>\n",
       "</table>"
      ],
      "text/plain": [
       "[(0, 0, 106),\n",
       " (0, 1, 80),\n",
       " (0, 2, 171),\n",
       " (1, 0, 146),\n",
       " (1, 1, 109),\n",
       " (1, 2, 212),\n",
       " (2, 0, 23),\n",
       " (2, 1, 17),\n",
       " (2, 2, 55)]"
      ]
     },
     "execution_count": 7,
     "metadata": {},
     "output_type": "execute_result"
    }
   ],
   "source": [
    "%sql SELECT A.i, B.j, SUM(A.val*B.val) AS \"val\" FROM A,B WHERE A.j = B.i GROUP BY A.i, B.j ORDER BY A.i;"
   ]
  },
  {
   "cell_type": "code",
   "execution_count": 7,
   "metadata": {},
   "outputs": [
    {
     "name": "stdout",
     "output_type": "stream",
     "text": [
      "Done.\n"
     ]
    },
    {
     "data": {
      "text/html": [
       "<table>\n",
       "    <tr>\n",
       "        <th>i</th>\n",
       "        <th>j</th>\n",
       "        <th>val</th>\n",
       "    </tr>\n",
       "    <tr>\n",
       "        <td>0</td>\n",
       "        <td>0</td>\n",
       "        <td>106</td>\n",
       "    </tr>\n",
       "    <tr>\n",
       "        <td>0</td>\n",
       "        <td>1</td>\n",
       "        <td>80</td>\n",
       "    </tr>\n",
       "    <tr>\n",
       "        <td>0</td>\n",
       "        <td>2</td>\n",
       "        <td>171</td>\n",
       "    </tr>\n",
       "    <tr>\n",
       "        <td>1</td>\n",
       "        <td>0</td>\n",
       "        <td>146</td>\n",
       "    </tr>\n",
       "    <tr>\n",
       "        <td>1</td>\n",
       "        <td>1</td>\n",
       "        <td>109</td>\n",
       "    </tr>\n",
       "    <tr>\n",
       "        <td>1</td>\n",
       "        <td>2</td>\n",
       "        <td>212</td>\n",
       "    </tr>\n",
       "    <tr>\n",
       "        <td>2</td>\n",
       "        <td>0</td>\n",
       "        <td>23</td>\n",
       "    </tr>\n",
       "    <tr>\n",
       "        <td>2</td>\n",
       "        <td>1</td>\n",
       "        <td>17</td>\n",
       "    </tr>\n",
       "    <tr>\n",
       "        <td>2</td>\n",
       "        <td>2</td>\n",
       "        <td>55</td>\n",
       "    </tr>\n",
       "</table>"
      ],
      "text/plain": [
       "[(0, 0, 106),\n",
       " (0, 1, 80),\n",
       " (0, 2, 171),\n",
       " (1, 0, 146),\n",
       " (1, 1, 109),\n",
       " (1, 2, 212),\n",
       " (2, 0, 23),\n",
       " (2, 1, 17),\n",
       " (2, 2, 55)]"
      ]
     },
     "execution_count": 7,
     "metadata": {},
     "output_type": "execute_result"
    }
   ],
   "source": [
    "\"\"\"\n",
    "Expected output below- don't re-evaluate this cell!\n",
    "\n",
    "NOTE: A valid answer must work for ALL inputs of the given type,\n",
    "not just this example.  I.e. do not hardcode around this answer / etc!\n",
    "\"\"\""
   ]
  },
  {
   "cell_type": "markdown",
   "metadata": {},
   "source": [
    "Problem 2: The Sales Database [35 points]\n",
    "----------------------------------------------\n",
    "\n",
    "We've prepared and loaded a dataset related to sales data from a company. The dataset has the following schema:\n",
    "\n",
    "> `Holidays (WeekDate, IsHoliday)`\n",
    "\n",
    "> `Stores (Store, Type, Size)`\n",
    "\n",
    "> `TemporalData(Store,WeekDate,Temperature,FuelPrice,CPI,UnemploymentRate)`\n",
    "\n",
    "> `Sales (Store, Dept, WeekDate, WeeklySales)`\n",
    "\n",
    "Before you start writing queries on the database, find the schema and the constraints (keys, foreign keys). "
   ]
  },
  {
   "cell_type": "markdown",
   "metadata": {},
   "source": [
    "### Part (a): Sales during Holidays [5 points]\n",
    "\n",
    "Using a single SQL query, find the stores with the largest and smallest overall sales during holiday weeks. Further requirements:\n",
    "* Use the `WITH` clause before the main body of the query to compute a subquery if necessary.\n",
    "* Return a relation with schema `(Store, AllSales)`.\n",
    "\n",
    "Write your query here:"
   ]
  },
  {
   "cell_type": "code",
   "execution_count": 12,
   "metadata": {},
   "outputs": [
    {
     "name": "stdout",
     "output_type": "stream",
     "text": [
      " * sqlite:///PS1.db\n",
      "Done.\n"
     ]
    },
    {
     "data": {
      "text/html": [
       "<table>\n",
       "    <tr>\n",
       "        <th>Store</th>\n",
       "        <th>AllSales</th>\n",
       "    </tr>\n",
       "    <tr>\n",
       "        <td>20</td>\n",
       "        <td>22490350.81</td>\n",
       "    </tr>\n",
       "    <tr>\n",
       "        <td>33</td>\n",
       "        <td>2625945.19</td>\n",
       "    </tr>\n",
       "</table>"
      ],
      "text/plain": [
       "[(20, 22490350.81), (33, 2625945.19)]"
      ]
     },
     "execution_count": 12,
     "metadata": {},
     "output_type": "execute_result"
    }
   ],
   "source": [
    "%%sql \n",
    "WITH tempTable AS (\n",
    "    SELECT Sales.Store AS \"Store\", SUM(Sales.WeeklySales) AS \"AllSales\" \n",
    "    FROM Sales, Holidays WHERE Sales.WeekDate = Holidays.WeekDate AND Holidays.IsHoliday = \"TRUE\"\n",
    "    GROUP BY Sales.Store \n",
    "    ORDER BY AllSales) \n",
    "SELECT tempTable.Store, ROUND(MAX(tempTable.AllSales),2) AS \"AllSales\" FROM tempTable\n",
    "UNION \n",
    "SELECT tempTable.Store, ROUND(MIN(tempTable.AllSales),2) AS \"AllSales\" FROM tempTable"
   ]
  },
  {
   "cell_type": "code",
   "execution_count": 15,
   "metadata": {},
   "outputs": [
    {
     "name": "stdout",
     "output_type": "stream",
     "text": [
      "Done.\n"
     ]
    },
    {
     "data": {
      "text/html": [
       "<table>\n",
       "    <tr>\n",
       "        <th>Store</th>\n",
       "        <th>AllSales</th>\n",
       "    </tr>\n",
       "    <tr>\n",
       "        <td>20</td>\n",
       "        <td>22490350.81</td>\n",
       "    </tr>\n",
       "    <tr>\n",
       "        <td>33</td>\n",
       "        <td>2625945.19</td>\n",
       "    </tr>\n",
       "</table>"
      ],
      "text/plain": [
       "[(20, 22490350.81000001), (33, 2625945.1900000004)]"
      ]
     },
     "execution_count": 15,
     "metadata": {},
     "output_type": "execute_result"
    }
   ],
   "source": [
    "\"\"\"\n",
    "Expected output below- don't re-evaluate this cell!\n",
    "\n",
    "NOTE: A valid answer must work for ALL inputs of the given type,\n",
    "not just this example.  I.e. do not hardcode around this answer / etc!\n",
    "\"\"\""
   ]
  },
  {
   "cell_type": "markdown",
   "metadata": {},
   "source": [
    "### Part (b): When Holidays do not help Sales [10 points]\n",
    "\n",
    "Using a single SQL query, compute the **number** of non-holiday weeks that had larger sales than the overall average sales during holiday weeks. Further requirements:\n",
    "* Use the `WITH` clause before the main body of the query to compute a subquery if necessary.\n",
    "* Return a relation with schema `(NumNonHolidays)`.\n",
    "\n",
    "Write your query here:"
   ]
  },
  {
   "cell_type": "code",
   "execution_count": 53,
   "metadata": {},
   "outputs": [
    {
     "name": "stdout",
     "output_type": "stream",
     "text": [
      " * sqlite:///PS1.db\n",
      "Done.\n"
     ]
    },
    {
     "data": {
      "text/html": [
       "<table>\n",
       "    <tr>\n",
       "        <th>NumNonHolidays</th>\n",
       "    </tr>\n",
       "    <tr>\n",
       "        <td>8</td>\n",
       "    </tr>\n",
       "</table>"
      ],
      "text/plain": [
       "[(8,)]"
      ]
     },
     "execution_count": 53,
     "metadata": {},
     "output_type": "execute_result"
    }
   ],
   "source": [
    "%%sql \n",
    "WITH tempTable AS (\n",
    "    SELECT Holidays.WeekDate, Holidays.IsHoliday, SUM (Sales.WeeklySales) AS \"total\"\n",
    "    FROM Sales, Holidays WHERE Sales.WeekDate = Holidays.WeekDate\n",
    "    GROUP BY Holidays.WeekDate, Holidays.IsHoliday)\n",
    "SELECT COUNT(*) AS \"NumNonHolidays\" FROM tempTable\n",
    "WHERE IsHoliday = \"FALSE\" AND total > (SELECT AVG(total) FROM tempTable WHERE IsHoliday = \"TRUE\");"
   ]
  },
  {
   "cell_type": "code",
   "execution_count": 33,
   "metadata": {},
   "outputs": [
    {
     "name": "stdout",
     "output_type": "stream",
     "text": [
      " * sqlite:///PS1.db\n",
      "(sqlite3.OperationalError) misuse of aggregate function AVG()\n",
      "[SQL: WITH nonholidaysale AS (\n",
      "    SELECT Holidays.WeekDate AS \"date\", Holidays.IsHoliday, SUM (Sales.WeeklySales) AS \"total\"\n",
      "    FROM Sales, Holidays WHERE Sales.WeekDate = Holidays.WeekDate AND IsHoliday = \"False\"\n",
      "    GROUP BY Holidays.WeekDate, Holidays.IsHoliday),\n",
      "\n",
      "holidaysale AS (\n",
      "    SELECT Holidays.WeekDate AS \"date\", Holidays.IsHoliday, SUM (Sales.WeeklySales) AS \"total\"\n",
      "    FROM Sales, Holidays WHERE Sales.WeekDate = Holidays.WeekDate AND IsHoliday = \"True\"\n",
      "    GROUP BY Holidays.WeekDate, Holidays.IsHoliday)\n",
      "\n",
      "SELECT COUNT(*) AS \"NumNonHolidays\" FROM (SELECT nonholidaysale.date, holidaysale.date FROM nonholidaysale,holidaysale\n",
      "                                         WHERE nonholidaysale.total > AVG(holidaysale.total))]\n",
      "(Background on this error at: http://sqlalche.me/e/e3q8)\n"
     ]
    }
   ],
   "source": [
    "%%sql\n",
    "WITH nonholidaysale AS (\n",
    "    SELECT Holidays.WeekDate AS \"date\", Holidays.IsHoliday, SUM (Sales.WeeklySales) AS \"total\"\n",
    "    FROM Sales, Holidays WHERE Sales.WeekDate = Holidays.WeekDate AND IsHoliday = \"False\"\n",
    "    GROUP BY Holidays.WeekDate, Holidays.IsHoliday),\n",
    "\n",
    "holidaysale AS (\n",
    "    SELECT Holidays.WeekDate AS \"date\", Holidays.IsHoliday, SUM (Sales.WeeklySales) AS \"total\"\n",
    "    FROM Sales, Holidays WHERE Sales.WeekDate = Holidays.WeekDate AND IsHoliday = \"True\"\n",
    "    GROUP BY Holidays.WeekDate, Holidays.IsHoliday)\n",
    "\n",
    "SELECT COUNT(*) AS \"NumNonHolidays\" FROM (SELECT nonholidaysale.date, holidaysale.date FROM nonholidaysale,holidaysale\n",
    "                                         WHERE nonholidaysale.total > AVG(holidaysale.total))"
   ]
  },
  {
   "cell_type": "code",
   "execution_count": 19,
   "metadata": {},
   "outputs": [
    {
     "name": "stdout",
     "output_type": "stream",
     "text": [
      "Done.\n"
     ]
    },
    {
     "data": {
      "text/html": [
       "<table>\n",
       "    <tr>\n",
       "        <th>NumNonHolidays</th>\n",
       "    </tr>\n",
       "    <tr>\n",
       "        <td>8</td>\n",
       "    </tr>\n",
       "</table>"
      ],
      "text/plain": [
       "[(8,)]"
      ]
     },
     "execution_count": 19,
     "metadata": {},
     "output_type": "execute_result"
    }
   ],
   "source": [
    "\"\"\"\n",
    "Expected output below- don't re-evaluate this cell!\n",
    "\n",
    "NOTE: A valid answer must work for ALL inputs of the given type,\n",
    "not just this example.  I.e. do not hardcode around this answer / etc!\n",
    "\"\"\""
   ]
  },
  {
   "cell_type": "markdown",
   "metadata": {},
   "source": [
    "### Part (c): Total Sales [5 points]\n",
    "\n",
    "Using a single SQL query, compute the total sales per month overall for each type of store. Further requirements:\n",
    "* Return a relation with schema `(type, Month, TotalSales)`.\n",
    "\n",
    "*Hint:* SQLite3 does not support native operations on the DATE datatype. To create a workaround, you can use the `LIKE` predicate and the string concatenation operator (||). You can also use the substring operator that SQLite3 supports (`substr`).\n",
    "\n",
    "Write your query here:"
   ]
  },
  {
   "cell_type": "code",
   "execution_count": 64,
   "metadata": {},
   "outputs": [
    {
     "name": "stdout",
     "output_type": "stream",
     "text": [
      " * sqlite:///PS1.db\n",
      "Done.\n"
     ]
    },
    {
     "data": {
      "text/html": [
       "<table>\n",
       "    <tr>\n",
       "        <th>type</th>\n",
       "        <th>Month</th>\n",
       "        <th>TotalSales</th>\n",
       "    </tr>\n",
       "    <tr>\n",
       "        <td>A</td>\n",
       "        <td>01</td>\n",
       "        <td>214176168.1</td>\n",
       "    </tr>\n",
       "    <tr>\n",
       "        <td>A</td>\n",
       "        <td>02</td>\n",
       "        <td>366507672.38</td>\n",
       "    </tr>\n",
       "    <tr>\n",
       "        <td>A</td>\n",
       "        <td>03</td>\n",
       "        <td>380774533.1</td>\n",
       "    </tr>\n",
       "    <tr>\n",
       "        <td>A</td>\n",
       "        <td>04</td>\n",
       "        <td>416180129.88</td>\n",
       "    </tr>\n",
       "    <tr>\n",
       "        <td>A</td>\n",
       "        <td>05</td>\n",
       "        <td>359086595.84</td>\n",
       "    </tr>\n",
       "    <tr>\n",
       "        <td>A</td>\n",
       "        <td>06</td>\n",
       "        <td>399448005.77</td>\n",
       "    </tr>\n",
       "    <tr>\n",
       "        <td>A</td>\n",
       "        <td>07</td>\n",
       "        <td>417243210.39</td>\n",
       "    </tr>\n",
       "    <tr>\n",
       "        <td>A</td>\n",
       "        <td>08</td>\n",
       "        <td>394863683.69</td>\n",
       "    </tr>\n",
       "    <tr>\n",
       "        <td>A</td>\n",
       "        <td>09</td>\n",
       "        <td>373118622.19</td>\n",
       "    </tr>\n",
       "    <tr>\n",
       "        <td>A</td>\n",
       "        <td>10</td>\n",
       "        <td>377131480.28</td>\n",
       "    </tr>\n",
       "    <tr>\n",
       "        <td>A</td>\n",
       "        <td>11</td>\n",
       "        <td>264721386.61</td>\n",
       "    </tr>\n",
       "    <tr>\n",
       "        <td>A</td>\n",
       "        <td>12</td>\n",
       "        <td>367763234.52</td>\n",
       "    </tr>\n",
       "    <tr>\n",
       "        <td>B</td>\n",
       "        <td>01</td>\n",
       "        <td>95446454.8</td>\n",
       "    </tr>\n",
       "    <tr>\n",
       "        <td>B</td>\n",
       "        <td>02</td>\n",
       "        <td>167671723.74</td>\n",
       "    </tr>\n",
       "    <tr>\n",
       "        <td>B</td>\n",
       "        <td>03</td>\n",
       "        <td>175136037.61</td>\n",
       "    </tr>\n",
       "    <tr>\n",
       "        <td>B</td>\n",
       "        <td>04</td>\n",
       "        <td>190880594.59</td>\n",
       "    </tr>\n",
       "    <tr>\n",
       "        <td>B</td>\n",
       "        <td>05</td>\n",
       "        <td>163455609.25</td>\n",
       "    </tr>\n",
       "    <tr>\n",
       "        <td>B</td>\n",
       "        <td>06</td>\n",
       "        <td>186362500.36</td>\n",
       "    </tr>\n",
       "    <tr>\n",
       "        <td>B</td>\n",
       "        <td>07</td>\n",
       "        <td>193743232.0</td>\n",
       "    </tr>\n",
       "    <tr>\n",
       "        <td>B</td>\n",
       "        <td>08</td>\n",
       "        <td>181504990.04</td>\n",
       "    </tr>\n",
       "    <tr>\n",
       "        <td>B</td>\n",
       "        <td>09</td>\n",
       "        <td>168953941.76</td>\n",
       "    </tr>\n",
       "    <tr>\n",
       "        <td>B</td>\n",
       "        <td>10</td>\n",
       "        <td>170604194.6</td>\n",
       "    </tr>\n",
       "    <tr>\n",
       "        <td>B</td>\n",
       "        <td>11</td>\n",
       "        <td>125545696.87</td>\n",
       "    </tr>\n",
       "    <tr>\n",
       "        <td>B</td>\n",
       "        <td>12</td>\n",
       "        <td>181395761.2</td>\n",
       "    </tr>\n",
       "    <tr>\n",
       "        <td>C</td>\n",
       "        <td>01</td>\n",
       "        <td>22975815.59</td>\n",
       "    </tr>\n",
       "    <tr>\n",
       "        <td>C</td>\n",
       "        <td>02</td>\n",
       "        <td>34548494.33</td>\n",
       "    </tr>\n",
       "    <tr>\n",
       "        <td>C</td>\n",
       "        <td>03</td>\n",
       "        <td>36875330.57</td>\n",
       "    </tr>\n",
       "    <tr>\n",
       "        <td>C</td>\n",
       "        <td>04</td>\n",
       "        <td>39799060.5</td>\n",
       "    </tr>\n",
       "    <tr>\n",
       "        <td>C</td>\n",
       "        <td>05</td>\n",
       "        <td>34583366.86</td>\n",
       "    </tr>\n",
       "    <tr>\n",
       "        <td>C</td>\n",
       "        <td>06</td>\n",
       "        <td>36819380.71</td>\n",
       "    </tr>\n",
       "    <tr>\n",
       "        <td>C</td>\n",
       "        <td>07</td>\n",
       "        <td>39014534.86</td>\n",
       "    </tr>\n",
       "    <tr>\n",
       "        <td>C</td>\n",
       "        <td>08</td>\n",
       "        <td>36721535.09</td>\n",
       "    </tr>\n",
       "    <tr>\n",
       "        <td>C</td>\n",
       "        <td>09</td>\n",
       "        <td>36688615.31</td>\n",
       "    </tr>\n",
       "    <tr>\n",
       "        <td>C</td>\n",
       "        <td>10</td>\n",
       "        <td>37049112.71</td>\n",
       "    </tr>\n",
       "    <tr>\n",
       "        <td>C</td>\n",
       "        <td>11</td>\n",
       "        <td>22748641.53</td>\n",
       "    </tr>\n",
       "    <tr>\n",
       "        <td>C</td>\n",
       "        <td>12</td>\n",
       "        <td>27679639.48</td>\n",
       "    </tr>\n",
       "</table>"
      ],
      "text/plain": [
       "[('A', '01', 214176168.1),\n",
       " ('A', '02', 366507672.38),\n",
       " ('A', '03', 380774533.1),\n",
       " ('A', '04', 416180129.88),\n",
       " ('A', '05', 359086595.84),\n",
       " ('A', '06', 399448005.77),\n",
       " ('A', '07', 417243210.39),\n",
       " ('A', '08', 394863683.69),\n",
       " ('A', '09', 373118622.19),\n",
       " ('A', '10', 377131480.28),\n",
       " ('A', '11', 264721386.61),\n",
       " ('A', '12', 367763234.52),\n",
       " ('B', '01', 95446454.8),\n",
       " ('B', '02', 167671723.74),\n",
       " ('B', '03', 175136037.61),\n",
       " ('B', '04', 190880594.59),\n",
       " ('B', '05', 163455609.25),\n",
       " ('B', '06', 186362500.36),\n",
       " ('B', '07', 193743232.0),\n",
       " ('B', '08', 181504990.04),\n",
       " ('B', '09', 168953941.76),\n",
       " ('B', '10', 170604194.6),\n",
       " ('B', '11', 125545696.87),\n",
       " ('B', '12', 181395761.2),\n",
       " ('C', '01', 22975815.59),\n",
       " ('C', '02', 34548494.33),\n",
       " ('C', '03', 36875330.57),\n",
       " ('C', '04', 39799060.5),\n",
       " ('C', '05', 34583366.86),\n",
       " ('C', '06', 36819380.71),\n",
       " ('C', '07', 39014534.86),\n",
       " ('C', '08', 36721535.09),\n",
       " ('C', '09', 36688615.31),\n",
       " ('C', '10', 37049112.71),\n",
       " ('C', '11', 22748641.53),\n",
       " ('C', '12', 27679639.48)]"
      ]
     },
     "execution_count": 64,
     "metadata": {},
     "output_type": "execute_result"
    }
   ],
   "source": [
    "%%sql \n",
    "SELECT Stores.Type AS \"type\", substr(Sales.WeekDate, 6, 2) AS \"Month\", ROUND(SUM(Sales.WeeklySales),2) AS \"TotalSales\"\n",
    "FROM Stores, Sales WHERE Sales.Store = Stores.Store GROUP BY Stores.Type, Month"
   ]
  },
  {
   "cell_type": "code",
   "execution_count": 21,
   "metadata": {},
   "outputs": [
    {
     "name": "stdout",
     "output_type": "stream",
     "text": [
      "Done.\n"
     ]
    },
    {
     "data": {
      "text/html": [
       "<table>\n",
       "    <tr>\n",
       "        <th>type</th>\n",
       "        <th>Month</th>\n",
       "        <th>TotalSales</th>\n",
       "    </tr>\n",
       "    <tr>\n",
       "        <td>A</td>\n",
       "        <td>01</td>\n",
       "        <td>214176168.1</td>\n",
       "    </tr>\n",
       "    <tr>\n",
       "        <td>A</td>\n",
       "        <td>02</td>\n",
       "        <td>366507672.38</td>\n",
       "    </tr>\n",
       "    <tr>\n",
       "        <td>A</td>\n",
       "        <td>03</td>\n",
       "        <td>380774533.1</td>\n",
       "    </tr>\n",
       "    <tr>\n",
       "        <td>A</td>\n",
       "        <td>04</td>\n",
       "        <td>416180129.88</td>\n",
       "    </tr>\n",
       "    <tr>\n",
       "        <td>A</td>\n",
       "        <td>05</td>\n",
       "        <td>359086595.84</td>\n",
       "    </tr>\n",
       "    <tr>\n",
       "        <td>A</td>\n",
       "        <td>06</td>\n",
       "        <td>399448005.77</td>\n",
       "    </tr>\n",
       "    <tr>\n",
       "        <td>A</td>\n",
       "        <td>07</td>\n",
       "        <td>417243210.39</td>\n",
       "    </tr>\n",
       "    <tr>\n",
       "        <td>A</td>\n",
       "        <td>08</td>\n",
       "        <td>394863683.69</td>\n",
       "    </tr>\n",
       "    <tr>\n",
       "        <td>A</td>\n",
       "        <td>09</td>\n",
       "        <td>373118622.19</td>\n",
       "    </tr>\n",
       "    <tr>\n",
       "        <td>A</td>\n",
       "        <td>10</td>\n",
       "        <td>377131480.28</td>\n",
       "    </tr>\n",
       "    <tr>\n",
       "        <td>A</td>\n",
       "        <td>11</td>\n",
       "        <td>264721386.61</td>\n",
       "    </tr>\n",
       "    <tr>\n",
       "        <td>A</td>\n",
       "        <td>12</td>\n",
       "        <td>367763234.52</td>\n",
       "    </tr>\n",
       "    <tr>\n",
       "        <td>B</td>\n",
       "        <td>01</td>\n",
       "        <td>95446454.8</td>\n",
       "    </tr>\n",
       "    <tr>\n",
       "        <td>B</td>\n",
       "        <td>02</td>\n",
       "        <td>167671723.74</td>\n",
       "    </tr>\n",
       "    <tr>\n",
       "        <td>B</td>\n",
       "        <td>03</td>\n",
       "        <td>175136037.61</td>\n",
       "    </tr>\n",
       "    <tr>\n",
       "        <td>B</td>\n",
       "        <td>04</td>\n",
       "        <td>190880594.59</td>\n",
       "    </tr>\n",
       "    <tr>\n",
       "        <td>B</td>\n",
       "        <td>05</td>\n",
       "        <td>163455609.25</td>\n",
       "    </tr>\n",
       "    <tr>\n",
       "        <td>B</td>\n",
       "        <td>06</td>\n",
       "        <td>186362500.36</td>\n",
       "    </tr>\n",
       "    <tr>\n",
       "        <td>B</td>\n",
       "        <td>07</td>\n",
       "        <td>193743232.0</td>\n",
       "    </tr>\n",
       "    <tr>\n",
       "        <td>B</td>\n",
       "        <td>08</td>\n",
       "        <td>181504990.04</td>\n",
       "    </tr>\n",
       "    <tr>\n",
       "        <td>B</td>\n",
       "        <td>09</td>\n",
       "        <td>168953941.76</td>\n",
       "    </tr>\n",
       "    <tr>\n",
       "        <td>B</td>\n",
       "        <td>10</td>\n",
       "        <td>170604194.6</td>\n",
       "    </tr>\n",
       "    <tr>\n",
       "        <td>B</td>\n",
       "        <td>11</td>\n",
       "        <td>125545696.87</td>\n",
       "    </tr>\n",
       "    <tr>\n",
       "        <td>B</td>\n",
       "        <td>12</td>\n",
       "        <td>181395761.2</td>\n",
       "    </tr>\n",
       "    <tr>\n",
       "        <td>C</td>\n",
       "        <td>01</td>\n",
       "        <td>22975815.59</td>\n",
       "    </tr>\n",
       "    <tr>\n",
       "        <td>C</td>\n",
       "        <td>02</td>\n",
       "        <td>34548494.33</td>\n",
       "    </tr>\n",
       "    <tr>\n",
       "        <td>C</td>\n",
       "        <td>03</td>\n",
       "        <td>36875330.57</td>\n",
       "    </tr>\n",
       "    <tr>\n",
       "        <td>C</td>\n",
       "        <td>04</td>\n",
       "        <td>39799060.5</td>\n",
       "    </tr>\n",
       "    <tr>\n",
       "        <td>C</td>\n",
       "        <td>05</td>\n",
       "        <td>34583366.86</td>\n",
       "    </tr>\n",
       "    <tr>\n",
       "        <td>C</td>\n",
       "        <td>06</td>\n",
       "        <td>36819380.71</td>\n",
       "    </tr>\n",
       "    <tr>\n",
       "        <td>C</td>\n",
       "        <td>07</td>\n",
       "        <td>39014534.86</td>\n",
       "    </tr>\n",
       "    <tr>\n",
       "        <td>C</td>\n",
       "        <td>08</td>\n",
       "        <td>36721535.09</td>\n",
       "    </tr>\n",
       "    <tr>\n",
       "        <td>C</td>\n",
       "        <td>09</td>\n",
       "        <td>36688615.31</td>\n",
       "    </tr>\n",
       "    <tr>\n",
       "        <td>C</td>\n",
       "        <td>10</td>\n",
       "        <td>37049112.71</td>\n",
       "    </tr>\n",
       "    <tr>\n",
       "        <td>C</td>\n",
       "        <td>11</td>\n",
       "        <td>22748641.53</td>\n",
       "    </tr>\n",
       "    <tr>\n",
       "        <td>C</td>\n",
       "        <td>12</td>\n",
       "        <td>27679639.48</td>\n",
       "    </tr>\n",
       "</table>"
      ],
      "text/plain": [
       "[(u'A', u'01', 214176168.09999868),\n",
       " (u'A', u'02', 366507672.3800041),\n",
       " (u'A', u'03', 380774533.0999994),\n",
       " (u'A', u'04', 416180129.8799989),\n",
       " (u'A', u'05', 359086595.83999956),\n",
       " (u'A', u'06', 399448005.7700002),\n",
       " (u'A', u'07', 417243210.38999707),\n",
       " (u'A', u'08', 394863683.68999743),\n",
       " (u'A', u'09', 373118622.1900005),\n",
       " (u'A', u'10', 377131480.28000176),\n",
       " (u'A', u'11', 264721386.60999998),\n",
       " (u'A', u'12', 367763234.5200006),\n",
       " (u'B', u'01', 95446454.79999965),\n",
       " (u'B', u'02', 167671723.73999923),\n",
       " (u'B', u'03', 175136037.61000007),\n",
       " (u'B', u'04', 190880594.58999932),\n",
       " (u'B', u'05', 163455609.2500001),\n",
       " (u'B', u'06', 186362500.36000022),\n",
       " (u'B', u'07', 193743231.9999991),\n",
       " (u'B', u'08', 181504990.0400001),\n",
       " (u'B', u'09', 168953941.7599988),\n",
       " (u'B', u'10', 170604194.5999999),\n",
       " (u'B', u'11', 125545696.86999977),\n",
       " (u'B', u'12', 181395761.19999966),\n",
       " (u'C', u'01', 22975815.59),\n",
       " (u'C', u'02', 34548494.330000006),\n",
       " (u'C', u'03', 36875330.56999996),\n",
       " (u'C', u'04', 39799060.49999998),\n",
       " (u'C', u'05', 34583366.86000001),\n",
       " (u'C', u'06', 36819380.709999934),\n",
       " (u'C', u'07', 39014534.860000074),\n",
       " (u'C', u'08', 36721535.09000013),\n",
       " (u'C', u'09', 36688615.31000005),\n",
       " (u'C', u'10', 37049112.70999994),\n",
       " (u'C', u'11', 22748641.530000072),\n",
       " (u'C', u'12', 27679639.47999999)]"
      ]
     },
     "execution_count": 21,
     "metadata": {},
     "output_type": "execute_result"
    }
   ],
   "source": [
    "\"\"\"\n",
    "Expected output below- don't re-evaluate this cell!\n",
    "\n",
    "NOTE: A valid answer must work for ALL inputs of the given type,\n",
    "not just this example.  I.e. do not hardcode around this answer / etc!\n",
    "\"\"\""
   ]
  },
  {
   "cell_type": "markdown",
   "metadata": {},
   "source": [
    "### Part (d): Computing Correlations [15 points]\n",
    "\n",
    "The goal of this exercise is to find out whether each one of the 4 numeric attributes in `TemporalData` is\n",
    "positively or negatively correlated with sales.\n",
    "\n",
    "For our purposes, the intuitive notion of correlation is defined using a\n",
    "standard statistical quantity known as the *Pearson correlation coefficient*.\n",
    "Given two numeric random variables $X$ and $Y$, it is defined as follows:\n",
    "\n",
    "$$\\rho_{X,Y} = \\frac{E[XY] - E[X]E[Y]}{\\sqrt{E[X^2] - E[X]^2} \\sqrt{E[Y^2] - E[Y]^2}}$$\n",
    "\n",
    "On a given sample of data with $n$ examples each for $X$ and $Y$ (label them\n",
    "$x_i$ and $y_i$ respectively for $i = 1 \\dots n$), it is estimated as follows:\n",
    "\n",
    "\\begin{align*}\n",
    "\\rho_{X,Y} = \\frac{\\sum_{i=1}^n (x_i - \\bar{x})(y_i - \\bar{y})}{\\sqrt{\\sum_{i=1}^n (x_i - \\bar{x})^2} \\sqrt{\\sum_{i=1}^n (y_i - \\bar{y})^2}}\n",
    "\\end{align*}\n",
    "In the above, $\\bar{x}$ and $\\bar{y}$ are the sample means, i.e.,\n",
    "$\\bar{x} = \\frac{1}{n}\\sum_{i=1}^n x_i$, and $\\bar{x} = \\frac{1}{n}\\sum_{i=1}^n y_i$.\n",
    "\n",
    "Further requirements:\n",
    "* Return a relation with schema `(AttributeName VARCHAR(20), CorrelationSign Integer)`. \n",
    "* The values of AttributeName can be hardcoded string literals, but the values\n",
    "of `CorrelationSign` must be computed automatically using SQL queries over\n",
    "the given database instance.\n",
    "* You can use multiple SQL statements to compute the result. It might be of help to create and update your own tables.\n",
    "\n",
    "Write your query here:"
   ]
  },
  {
   "cell_type": "code",
   "execution_count": 67,
   "metadata": {},
   "outputs": [
    {
     "name": "stdout",
     "output_type": "stream",
     "text": [
      " * sqlite:///PS1.db\n",
      "Done.\n",
      "Done.\n",
      "Done.\n",
      "Done.\n",
      "1 rows affected.\n",
      "1 rows affected.\n",
      "1 rows affected.\n",
      "1 rows affected.\n",
      "4 rows affected.\n",
      "0 rows affected.\n",
      "Done.\n"
     ]
    },
    {
     "data": {
      "text/html": [
       "<table>\n",
       "    <tr>\n",
       "        <th>AttributeName</th>\n",
       "        <th>CorrelationSign</th>\n",
       "    </tr>\n",
       "    <tr>\n",
       "        <td>Temperature</td>\n",
       "        <td>-1</td>\n",
       "    </tr>\n",
       "    <tr>\n",
       "        <td>FuelPrice</td>\n",
       "        <td>-1</td>\n",
       "    </tr>\n",
       "    <tr>\n",
       "        <td>CPI</td>\n",
       "        <td>-1</td>\n",
       "    </tr>\n",
       "    <tr>\n",
       "        <td>UnemploymentRate</td>\n",
       "        <td>-1</td>\n",
       "    </tr>\n",
       "</table>"
      ],
      "text/plain": [
       "[('Temperature', -1), ('FuelPrice', -1), ('CPI', -1), ('UnemploymentRate', -1)]"
      ]
     },
     "execution_count": 67,
     "metadata": {},
     "output_type": "execute_result"
    }
   ],
   "source": [
    "%%sql\n",
    "DROP TABLE IF EXISTS avgs;\n",
    "DROP TABLE IF EXISTS relation;\n",
    "CREATE TABLE avgs AS\n",
    "    SELECT AVG(Sales.WeeklySales) AS \"Sales\",AVG(TemporalData.Temperature) AS \"Temp\",\n",
    "    AVG(TemporalData.FuelPrice) AS \"Fuel\",AVG(TemporalData.CPI) AS \"CPI\",\n",
    "    AVG(TemporalData.UnemploymentRate) AS \"Unemploy\"\n",
    "    FROM TemporalData, Sales WHERE TemporalData.Store = Sales.Store AND TemporalData.WeekDate = Sales.WeekDate;\n",
    "\n",
    "CREATE TABLE relation (AttributeName VARCHAR(20), CorrelationSign Integer);\n",
    "\n",
    "INSERT INTO relation VALUES \n",
    "(\"Temperature\",(SELECT SUM((Sales.WeeklySales - (SELECT avgs.Sales FROM avgs))\n",
    "                           *(TemporalData.Temperature - (SELECT avgs.Temp FROM avgs)))\n",
    "                FROM TemporalData, Sales\n",
    "                WHERE Sales.Store = TemporalData.Store AND Sales.WeekDate = TemporalData.WeekDate));\n",
    "\n",
    "INSERT INTO relation VALUES \n",
    "(\"FuelPrice\",(SELECT SUM((Sales.WeeklySales - (SELECT avgs.Sales FROM avgs))\n",
    "                         *(TemporalData.FuelPrice - (SELECT avgs.Fuel FROM avgs)))\n",
    "              FROM TemporalData, Sales\n",
    "              WHERE Sales.Store = TemporalData.Store AND Sales.WeekDate = TemporalData.WeekDate));\n",
    "\n",
    "INSERT INTO relation VALUES \n",
    "(\"CPI\",(SELECT SUM((Sales.WeeklySales - (SELECT avgs.Sales FROM avgs))\n",
    "                   *(TemporalData.CPI - (SELECT avgs.CPI FROM avgs)))\n",
    "        FROM TemporalData, Sales\n",
    "        WHERE Sales.Store = TemporalData.Store AND Sales.WeekDate = TemporalData.WeekDate));\n",
    "\n",
    "INSERT INTO relation VALUES \n",
    "(\"UnemploymentRate\",(SELECT SUM((Sales.WeeklySales - (SELECT avgs.Sales FROM avgs))\n",
    "                                *(TemporalData.UnemploymentRate - (SELECT avgs.Unemploy FROM avgs)))\n",
    "                     FROM TemporalData, Sales\n",
    "                     WHERE Sales.Store = TemporalData.Store AND Sales.WeekDate = TemporalData.WeekDate));\n",
    "\n",
    "UPDATE relation SET CorrelationSign = -1 WHERE CorrelationSign < 0;\n",
    "UPDATE relation SET CorrelationSign = 1 WHERE CorrelationSign > 0;\n",
    "                    \n",
    "SELECT AttributeName,CorrelationSign FROM relation;"
   ]
  },
  {
   "cell_type": "code",
   "execution_count": 27,
   "metadata": {},
   "outputs": [
    {
     "name": "stdout",
     "output_type": "stream",
     "text": [
      "Done.\n"
     ]
    },
    {
     "data": {
      "text/html": [
       "<table>\n",
       "    <tr>\n",
       "        <th>AttributeName</th>\n",
       "        <th>CorrelationSign</th>\n",
       "    </tr>\n",
       "    <tr>\n",
       "        <td>Temperature</td>\n",
       "        <td>-1</td>\n",
       "    </tr>\n",
       "    <tr>\n",
       "        <td>FuelPrice</td>\n",
       "        <td>-1</td>\n",
       "    </tr>\n",
       "    <tr>\n",
       "        <td>CPI</td>\n",
       "        <td>-1</td>\n",
       "    </tr>\n",
       "    <tr>\n",
       "        <td>UnemploymentRate</td>\n",
       "        <td>-1</td>\n",
       "    </tr>\n",
       "</table>"
      ],
      "text/plain": [
       "[(u'Temperature', -1),\n",
       " (u'FuelPrice', -1),\n",
       " (u'CPI', -1),\n",
       " (u'UnemploymentRate', -1)]"
      ]
     },
     "execution_count": 27,
     "metadata": {},
     "output_type": "execute_result"
    }
   ],
   "source": [
    "\"\"\"\n",
    "Expected output below- don't re-evaluate this cell!\n",
    "\n",
    "NOTE: A valid answer must work for ALL inputs of the given type,\n",
    "not just this example.  I.e. do not hardcode around this answer / etc!\n",
    "\"\"\""
   ]
  },
  {
   "cell_type": "markdown",
   "metadata": {},
   "source": [
    "Problem 3: The Traveling SQL Server Salesman Problem [40 points]\n",
    "--------------------------------------------------\n",
    "\n",
    "SQL Server salespeople are lucky as far as traveling salespeople go- they only have to sell one or two big enterprise contracts, at one or two offices in Wisconsin, in order to make their monthly quota!\n",
    "\n",
    "Answer the following questions using the table of streets connecting company office buildings.\n",
    "\n",
    "**Note that for convenience all streets are included _twice_, as $A \\rightarrow B$ and $B \\rightarrow A$.  This should make some parts of the problem easier, but remember to take it into account!**"
   ]
  },
  {
   "cell_type": "code",
   "execution_count": 30,
   "metadata": {},
   "outputs": [
    {
     "name": "stdout",
     "output_type": "stream",
     "text": [
      " * sqlite:///PS1.db\n",
      "Done.\n"
     ]
    },
    {
     "data": {
      "text/html": [
       "<table>\n",
       "    <tr>\n",
       "        <th>id</th>\n",
       "        <th>direction</th>\n",
       "        <th>A</th>\n",
       "        <th>B</th>\n",
       "        <th>d</th>\n",
       "    </tr>\n",
       "    <tr>\n",
       "        <td>0</td>\n",
       "        <td>F</td>\n",
       "        <td>UW-Madison</td>\n",
       "        <td>DooHickey Collective</td>\n",
       "        <td>7</td>\n",
       "    </tr>\n",
       "    <tr>\n",
       "        <td>0</td>\n",
       "        <td>R</td>\n",
       "        <td>DooHickey Collective</td>\n",
       "        <td>UW-Madison</td>\n",
       "        <td>7</td>\n",
       "    </tr>\n",
       "    <tr>\n",
       "        <td>1</td>\n",
       "        <td>F</td>\n",
       "        <td>DooHickey Collective</td>\n",
       "        <td>Gizmo Corp</td>\n",
       "        <td>2</td>\n",
       "    </tr>\n",
       "    <tr>\n",
       "        <td>1</td>\n",
       "        <td>R</td>\n",
       "        <td>Gizmo Corp</td>\n",
       "        <td>DooHickey Collective</td>\n",
       "        <td>2</td>\n",
       "    </tr>\n",
       "</table>"
      ],
      "text/plain": [
       "[(0, 'F', 'UW-Madison', 'DooHickey Collective', 7),\n",
       " (0, 'R', 'DooHickey Collective', 'UW-Madison', 7),\n",
       " (1, 'F', 'DooHickey Collective', 'Gizmo Corp', 2),\n",
       " (1, 'R', 'Gizmo Corp', 'DooHickey Collective', 2)]"
      ]
     },
     "execution_count": 30,
     "metadata": {},
     "output_type": "execute_result"
    }
   ],
   "source": [
    "%sql SELECT * FROM streets LIMIT 4;"
   ]
  },
  {
   "cell_type": "markdown",
   "metadata": {},
   "source": [
    "### Part (a): One-hop, two-hop, three-hop... [10 points]\n",
    "\n",
    "Our salesperson has stopped at UW-Madison, to steal some cool new RDBMS technology from CS564-ers, and now wants to go sell it to a company _within 10 miles of UW-Madison and _passing through no more than 3 distinct streets_.  Write a single query, not using `WITH` (see later on), to find all such companies.\n",
    "\n",
    "Your query should return the schema `(company, distance)` where distance is cumulative from UW-Madison.\n",
    "\n",
    "Write your query here:"
   ]
  },
  {
   "cell_type": "code",
   "execution_count": 65,
   "metadata": {},
   "outputs": [
    {
     "name": "stdout",
     "output_type": "stream",
     "text": [
      " * sqlite:///PS1.db\n",
      "Done.\n"
     ]
    },
    {
     "data": {
      "text/html": [
       "<table>\n",
       "    <tr>\n",
       "        <th>company</th>\n",
       "        <th>distance</th>\n",
       "    </tr>\n",
       "    <tr>\n",
       "        <td>DooHickey Collective</td>\n",
       "        <td>7</td>\n",
       "    </tr>\n",
       "    <tr>\n",
       "        <td>DooHickey Corp</td>\n",
       "        <td>9</td>\n",
       "    </tr>\n",
       "    <tr>\n",
       "        <td>Gadget Collective</td>\n",
       "        <td>9</td>\n",
       "    </tr>\n",
       "    <tr>\n",
       "        <td>Gadget Corp</td>\n",
       "        <td>6</td>\n",
       "    </tr>\n",
       "    <tr>\n",
       "        <td>Gizmo Corp</td>\n",
       "        <td>9</td>\n",
       "    </tr>\n",
       "    <tr>\n",
       "        <td>Widget Industries</td>\n",
       "        <td>10</td>\n",
       "    </tr>\n",
       "</table>"
      ],
      "text/plain": [
       "[('DooHickey Collective', 7),\n",
       " ('DooHickey Corp', 9),\n",
       " ('Gadget Collective', 9),\n",
       " ('Gadget Corp', 6),\n",
       " ('Gizmo Corp', 9),\n",
       " ('Widget Industries', 10)]"
      ]
     },
     "execution_count": 65,
     "metadata": {},
     "output_type": "execute_result"
    }
   ],
   "source": [
    "%%sql \n",
    "SELECT streets.B AS \"company\", streets.d as \"distance\" FROM streets\n",
    "WHERE streets.A = \"UW-Madison\" AND streets.d <= 10\n",
    "UNION\n",
    "SELECT DISTINCT st2.B AS \"company\", st1.d + st2.d as \"distance\" FROM streets st1, streets st2 \n",
    "WHERE st1.A = \"UW-Madison\" AND st1.d + st2.d <= 10 AND st1.B = st2.A AND st1.direction = \"F\" AND st2.direction = \"F\"\n",
    "UNION    \n",
    "SELECT DISTINCT st3.B AS \"company\", st1.d + st2.d + st3.d as \"distance\" FROM streets st1, streets st2, streets st3 \n",
    "WHERE st1.A = \"UW-Madison\" AND st1.d+st2.d+st3.d <= 10 AND st1.B = st2.A AND st2.B = st3.A AND st2.direction = \"F\" AND st3.direction = \"F\";"
   ]
  },
  {
   "cell_type": "code",
   "execution_count": 16,
   "metadata": {},
   "outputs": [
    {
     "name": "stdout",
     "output_type": "stream",
     "text": [
      "Done.\n"
     ]
    },
    {
     "data": {
      "text/html": [
       "<table>\n",
       "    <tr>\n",
       "        <th>company</th>\n",
       "        <th>distance</th>\n",
       "    </tr>\n",
       "    <tr>\n",
       "        <td>DooHickey Collective</td>\n",
       "        <td>7</td>\n",
       "    </tr>\n",
       "    <tr>\n",
       "        <td>DooHickey Corp</td>\n",
       "        <td>9</td>\n",
       "    </tr>\n",
       "    <tr>\n",
       "        <td>Gadget Collective</td>\n",
       "        <td>9</td>\n",
       "    </tr>\n",
       "    <tr>\n",
       "        <td>Gadget Corp</td>\n",
       "        <td>6</td>\n",
       "    </tr>\n",
       "    <tr>\n",
       "        <td>Gizmo Corp</td>\n",
       "        <td>9</td>\n",
       "    </tr>\n",
       "    <tr>\n",
       "        <td>Widget Industries</td>\n",
       "        <td>10</td>\n",
       "    </tr>\n",
       "</table>"
      ],
      "text/plain": [
       "[(u'DooHickey Collective', 7),\n",
       " (u'DooHickey Corp', 9),\n",
       " (u'Gadget Collective', 9),\n",
       " (u'Gadget Corp', 6),\n",
       " (u'Gizmo Corp', 9),\n",
       " (u'Widget Industries', 10)]"
      ]
     },
     "execution_count": 16,
     "metadata": {},
     "output_type": "execute_result"
    }
   ],
   "source": [
    "\"\"\"\n",
    "Expected output below- don't re-evaluate this cell!\n",
    "\n",
    "NOTE: A valid answer must work for ALL inputs of the given type,\n",
    "not just this example.  I.e. do not hardcode around this answer / etc!\n",
    "\"\"\""
   ]
  },
  {
   "cell_type": "markdown",
   "metadata": {},
   "source": [
    "### Part (b): A stop at the Farm [10 points]\n",
    "\n",
    "Now, our salesperson is out in the field, and wants to see all routes- and their distances- which will take him/her from a company $A$ to a company $B$, with the following constraints:\n",
    "* The route must _pass through UW-Madison (in order to pick up new RDBMS tech to sell!)\n",
    "* $A$ and $B$ must _each individually_ be _within 3 hops of UW-Madison\n",
    "* $A$ and $B$ must be different companies\n",
    "* _The total distance must be $<= 15$_\n",
    "* Do not use `WITH`\n",
    "* If you return a path $A \\rightarrow B$, _also include $B \\rightarrow A$ in your answer_\n",
    "\n",
    "In order to make your answer a bit cleaner, you may split into two queries, one of which creates a `VIEW`.  A view is a virtual table based on the output set of a SQL query.  A view can be used just like a normal table- the only difference under the hood is that the DBMS re-evaluates the query used to generate it each time a view is queried by a user (thus the data is always up-to date!)\n",
    "\n",
    "Here's a simple example of a view:"
   ]
  },
  {
   "cell_type": "code",
   "execution_count": 17,
   "metadata": {},
   "outputs": [
    {
     "name": "stdout",
     "output_type": "stream",
     "text": [
      "Done.\n",
      "Done.\n",
      "Done.\n"
     ]
    },
    {
     "data": {
      "text/html": [
       "<table>\n",
       "    <tr>\n",
       "        <th>A</th>\n",
       "        <th>B</th>\n",
       "        <th>d</th>\n",
       "    </tr>\n",
       "    <tr>\n",
       "        <td>DooHickey Collective</td>\n",
       "        <td>Gizmo Corp</td>\n",
       "        <td>2</td>\n",
       "    </tr>\n",
       "    <tr>\n",
       "        <td>Gizmo Corp</td>\n",
       "        <td>DooHickey Collective</td>\n",
       "        <td>2</td>\n",
       "    </tr>\n",
       "    <tr>\n",
       "        <td>Gizmo Corp</td>\n",
       "        <td>Widget Industries</td>\n",
       "        <td>1</td>\n",
       "    </tr>\n",
       "</table>"
      ],
      "text/plain": [
       "[(u'DooHickey Collective', u'Gizmo Corp', 2),\n",
       " (u'Gizmo Corp', u'DooHickey Collective', 2),\n",
       " (u'Gizmo Corp', u'Widget Industries', 1)]"
      ]
     },
     "execution_count": 17,
     "metadata": {},
     "output_type": "execute_result"
    }
   ],
   "source": [
    "%%sql \n",
    "DROP VIEW IF EXISTS short_streets;\n",
    "CREATE VIEW short_streets AS \n",
    "SELECT A, B, d FROM streets WHERE d < 3;\n",
    "SELECT * FROM short_streets LIMIT 3;"
   ]
  },
  {
   "cell_type": "markdown",
   "metadata": {},
   "source": [
    "Write your query or queries here:"
   ]
  },
  {
   "cell_type": "code",
   "execution_count": 64,
   "metadata": {},
   "outputs": [
    {
     "name": "stdout",
     "output_type": "stream",
     "text": [
      " * sqlite:///PS1.db\n",
      "Done.\n",
      "Done.\n",
      "Done.\n"
     ]
    },
    {
     "data": {
      "text/html": [
       "<table>\n",
       "    <tr>\n",
       "        <th>company_1</th>\n",
       "        <th>company_2</th>\n",
       "        <th>distance</th>\n",
       "    </tr>\n",
       "    <tr>\n",
       "        <td>DooHickey Collective</td>\n",
       "        <td>Gadget Corp</td>\n",
       "        <td>13</td>\n",
       "    </tr>\n",
       "    <tr>\n",
       "        <td>DooHickey Corp</td>\n",
       "        <td>Gadget Corp</td>\n",
       "        <td>15</td>\n",
       "    </tr>\n",
       "    <tr>\n",
       "        <td>Gadget Collective</td>\n",
       "        <td>Gadget Corp</td>\n",
       "        <td>15</td>\n",
       "    </tr>\n",
       "    <tr>\n",
       "        <td>Gadget Corp</td>\n",
       "        <td>DooHickey Collective</td>\n",
       "        <td>13</td>\n",
       "    </tr>\n",
       "    <tr>\n",
       "        <td>Gadget Corp</td>\n",
       "        <td>DooHickey Corp</td>\n",
       "        <td>15</td>\n",
       "    </tr>\n",
       "    <tr>\n",
       "        <td>Gadget Corp</td>\n",
       "        <td>Gadget Collective</td>\n",
       "        <td>15</td>\n",
       "    </tr>\n",
       "    <tr>\n",
       "        <td>Gadget Corp</td>\n",
       "        <td>Gizmo Corp</td>\n",
       "        <td>15</td>\n",
       "    </tr>\n",
       "    <tr>\n",
       "        <td>Gizmo Corp</td>\n",
       "        <td>Gadget Corp</td>\n",
       "        <td>15</td>\n",
       "    </tr>\n",
       "</table>"
      ],
      "text/plain": [
       "[('DooHickey Collective', 'Gadget Corp', 13),\n",
       " ('DooHickey Corp', 'Gadget Corp', 15),\n",
       " ('Gadget Collective', 'Gadget Corp', 15),\n",
       " ('Gadget Corp', 'DooHickey Collective', 13),\n",
       " ('Gadget Corp', 'DooHickey Corp', 15),\n",
       " ('Gadget Corp', 'Gadget Collective', 15),\n",
       " ('Gadget Corp', 'Gizmo Corp', 15),\n",
       " ('Gizmo Corp', 'Gadget Corp', 15)]"
      ]
     },
     "execution_count": 64,
     "metadata": {},
     "output_type": "execute_result"
    }
   ],
   "source": [
    "%%sql \n",
    "DROP VIEW IF EXISTS path;\n",
    "CREATE VIEW path AS\n",
    "    SELECT st1.A, st1.B, st1.d AS \"d\" FROM streets st1 \n",
    "    WHERE st1.A = \"UW-Madison\"\n",
    "    UNION\n",
    "    SELECT DISTINCT st1.A, st2.B, st1.d + st2.d AS \"d\" FROM streets st1, streets st2\n",
    "    WHERE st1.A = \"UW-Madison\" AND st1.B = st2.A\n",
    "    UNION\n",
    "    SELECT DISTINCT st1.A, st2.B, (st1.d + st2.d + st3.d) AS \"d\" FROM streets st1, streets st2, streets st3 \n",
    "    WHERE st1.A = \"UW-Madison\" AND st1.B = st2.A AND st2.B = st3.A;\n",
    "\n",
    "SELECT p1.B AS \"company_1\", p2.B AS \"company_2\", (p1.d+p2.d) AS \"distance\" FROM path p1, path p2\n",
    "WHERE p1.B != p2.B AND distance <= 15 GROUP BY company_1,company_2,distance;"
   ]
  },
  {
   "cell_type": "code",
   "execution_count": 18,
   "metadata": {},
   "outputs": [
    {
     "name": "stdout",
     "output_type": "stream",
     "text": [
      "Done.\n",
      "Done.\n",
      "Done.\n"
     ]
    },
    {
     "data": {
      "text/html": [
       "<table>\n",
       "    <tr>\n",
       "        <th>company_1</th>\n",
       "        <th>company_2</th>\n",
       "        <th>distance</th>\n",
       "    </tr>\n",
       "    <tr>\n",
       "        <td>DooHickey Collective</td>\n",
       "        <td>Gadget Corp</td>\n",
       "        <td>13</td>\n",
       "    </tr>\n",
       "    <tr>\n",
       "        <td>DooHickey Corp</td>\n",
       "        <td>Gadget Corp</td>\n",
       "        <td>15</td>\n",
       "    </tr>\n",
       "    <tr>\n",
       "        <td>Gadget Collective</td>\n",
       "        <td>Gadget Corp</td>\n",
       "        <td>15</td>\n",
       "    </tr>\n",
       "    <tr>\n",
       "        <td>Gadget Corp</td>\n",
       "        <td>DooHickey Collective</td>\n",
       "        <td>13</td>\n",
       "    </tr>\n",
       "    <tr>\n",
       "        <td>Gadget Corp</td>\n",
       "        <td>DooHickey Corp</td>\n",
       "        <td>15</td>\n",
       "    </tr>\n",
       "    <tr>\n",
       "        <td>Gadget Corp</td>\n",
       "        <td>Gadget Collective</td>\n",
       "        <td>15</td>\n",
       "    </tr>\n",
       "    <tr>\n",
       "        <td>Gadget Corp</td>\n",
       "        <td>Gizmo Corp</td>\n",
       "        <td>15</td>\n",
       "    </tr>\n",
       "    <tr>\n",
       "        <td>Gizmo Corp</td>\n",
       "        <td>Gadget Corp</td>\n",
       "        <td>15</td>\n",
       "    </tr>\n",
       "</table>"
      ],
      "text/plain": [
       "[(u'DooHickey Collective', u'Gadget Corp', 13),\n",
       " (u'DooHickey Corp', u'Gadget Corp', 15),\n",
       " (u'Gadget Collective', u'Gadget Corp', 15),\n",
       " (u'Gadget Corp', u'DooHickey Collective', 13),\n",
       " (u'Gadget Corp', u'DooHickey Corp', 15),\n",
       " (u'Gadget Corp', u'Gadget Collective', 15),\n",
       " (u'Gadget Corp', u'Gizmo Corp', 15),\n",
       " (u'Gizmo Corp', u'Gadget Corp', 15)]"
      ]
     },
     "execution_count": 18,
     "metadata": {},
     "output_type": "execute_result"
    }
   ],
   "source": [
    "\"\"\"\n",
    "Expected output below- don't re-evaluate this cell!\n",
    "\n",
    "NOTE: A valid answer must work for ALL inputs of the given type,\n",
    "not just this example.  I.e. do not hardcode around this answer / etc!\n",
    "\"\"\""
   ]
  },
  {
   "cell_type": "markdown",
   "metadata": {},
   "source": [
    "### Part (c): Ensuring acyclicity [10 points]\n",
    "\n",
    "You may have noticed at this point that the network, or **_graph_**, of streets in our `streets` table seems like it might be a **tree**.\n",
    "\n",
    "Recall that a **_tree_** is an undirected graph where each node has exactly one parent (or, is the root, and has none), but may have multiple children.  A slightly more formal definition of a tree is as follows: \n",
    "\n",
    "> An undirected graph $T$ is a **_tree_** if it is **connected**- meaning that there is a path between every pair of nodes- and has no **cycles** (informally, closed loops)\n",
    "\n",
    "Suppose that we guarantee the following about the graph of companies & streets determined by the `streets` table:\n",
    "* It is _connected_\n",
    "* It has no cycles of length $> 3$\n",
    "\n",
    "Write a _single SQL query_ which, if our graph is not a tree (i.e. if this isn't a [shaggy dog problem](https://en.wikipedia.org/wiki/Shaggy_dog_story)), **turns it into a tree** by deleting exactly _one_ street (*= two entries in our table!*).  Write your query here:"
   ]
  },
  {
   "cell_type": "code",
   "execution_count": 2,
   "metadata": {},
   "outputs": [
    {
     "data": {
      "text/plain": [
       "'Connected: @PS1.db'"
      ]
     },
     "execution_count": 2,
     "metadata": {},
     "output_type": "execute_result"
    }
   ],
   "source": [
    "%reload_ext sql\n",
    "%sql sqlite:///PS1.db"
   ]
  },
  {
   "cell_type": "code",
   "execution_count": 3,
   "metadata": {},
   "outputs": [
    {
     "name": "stdout",
     "output_type": "stream",
     "text": [
      " * sqlite:///PS1.db\n",
      "2 rows affected.\n"
     ]
    },
    {
     "data": {
      "text/plain": [
       "[]"
      ]
     },
     "execution_count": 3,
     "metadata": {},
     "output_type": "execute_result"
    }
   ],
   "source": [
    "%%sql \n",
    "DELETE FROM streets \n",
    "WHERE streets.id IN (SELECT st1.id FROM streets st1, streets st2, streets st3\n",
    "            WHERE st1.B = st2.A AND st2.B = st3.A AND st3.B = st1.A LIMIT 1);"
   ]
  },
  {
   "cell_type": "code",
   "execution_count": 19,
   "metadata": {},
   "outputs": [
    {
     "name": "stdout",
     "output_type": "stream",
     "text": [
      "2 rows affected.\n"
     ]
    },
    {
     "data": {
      "text/plain": [
       "[]"
      ]
     },
     "execution_count": 19,
     "metadata": {},
     "output_type": "execute_result"
    }
   ],
   "source": [
    "\"\"\"\n",
    "Expected output below- don't re-evaluate this cell!\n",
    "\n",
    "NOTE: A valid answer must work for ALL inputs of the given type,\n",
    "not just this example.  I.e. do not hardcode around this answer / etc!\n",
    "\"\"\""
   ]
  },
  {
   "cell_type": "markdown",
   "metadata": {},
   "source": [
    "### Part (d): The longest path [10 points]\n",
    "\n",
    "In this part, we want to find the distance of the _longest path between any two companies_.\n",
    "\n",
    "Note that you should probably have done Part (c) first so that the graph of streets is a _tree_- this will make it much easier to work with!\n",
    "\n",
    "If you've done the other parts above, you might be skeptical that SQL can find paths of arbitrary lengths (which is what we need to do for this problem); how can we do this?\n",
    "\n",
    "There are some non-standard SQL functions- i.e. not universally supported by all SQL DBMSs- which are often incredibly useful.  One of these is the `WITH RECURSIVE` clause, supported by SQLite.\n",
    "\n",
    "A `WITH` clause lets you define what is essentially a view within a clause, mainly to clean up your SQL code.  A trivial example, to illustrate `WITH`:"
   ]
  },
  {
   "cell_type": "code",
   "execution_count": 4,
   "metadata": {},
   "outputs": [
    {
     "name": "stdout",
     "output_type": "stream",
     "text": [
      " * sqlite:///PS1.db\n",
      "Done.\n"
     ]
    },
    {
     "data": {
      "text/html": [
       "<table>\n",
       "    <tr>\n",
       "        <th>name</th>\n",
       "    </tr>\n",
       "    <tr>\n",
       "        <td>Gizmo Corp</td>\n",
       "    </tr>\n",
       "    <tr>\n",
       "        <td>GizmoWorks</td>\n",
       "    </tr>\n",
       "    <tr>\n",
       "        <td>Gizmo Industries</td>\n",
       "    </tr>\n",
       "    <tr>\n",
       "        <td>Gizmo Collective</td>\n",
       "    </tr>\n",
       "    <tr>\n",
       "        <td>GizmoCo</td>\n",
       "    </tr>\n",
       "</table>"
      ],
      "text/plain": [
       "[('Gizmo Corp',),\n",
       " ('GizmoWorks',),\n",
       " ('Gizmo Industries',),\n",
       " ('Gizmo Collective',),\n",
       " ('GizmoCo',)]"
      ]
     },
     "execution_count": 4,
     "metadata": {},
     "output_type": "execute_result"
    }
   ],
   "source": [
    "%%sql\n",
    "WITH companies(name) AS (\n",
    "    SELECT DISTINCT A FROM streets)\n",
    "SELECT * \n",
    "FROM companies \n",
    "WHERE name LIKE '%Gizmo%';"
   ]
  },
  {
   "cell_type": "markdown",
   "metadata": {},
   "source": [
    "There is also a recursive variant, `WITH RECURSIVE`.  `WITH RECURSIVE` allows you to define a view just as above, except the table can be defined recursively.  A `WITH RECURSIVE` clause must be of the following form:\n",
    "\n",
    "```\n",
    "WITH RECURSIVE \n",
    "    R(...) AS (\n",
    "        SELECT ... \n",
    "        UNION [ALL] \n",
    "        SELECT ... FROM R, ...\n",
    "    )\n",
    "...\n",
    "```\n",
    "\n",
    "`R` is the _recursive table_.  The `AS` clause contains two `SELECT` statements, conjoined by a `UNION` or `UNION ALL`; the first `SELECT` statement provides the initial / base case values, and the second or _recursive_ `SELECT` statement must include the recursive table in its `FROM` clause.\n",
    "\n",
    "Basically, the recursive `SELECT` statement continues executing on the tuple _most recently inserted into `R`_, inserting output rows back into `R`, and proceeding recursively in this way, until it no longer outputs any rows, and then stops.  See the [SQLite documentation](https://www.sqlite.org/lang_with.html) for more detail.\n",
    "\n",
    "The following example computes $5! = 5*4*3*2*1$ using `WITH RECURSIVE`:"
   ]
  },
  {
   "cell_type": "code",
   "execution_count": 21,
   "metadata": {},
   "outputs": [
    {
     "name": "stdout",
     "output_type": "stream",
     "text": [
      "Done.\n"
     ]
    },
    {
     "data": {
      "text/html": [
       "<table>\n",
       "    <tr>\n",
       "        <th>x</th>\n",
       "    </tr>\n",
       "    <tr>\n",
       "        <td>120</td>\n",
       "    </tr>\n",
       "</table>"
      ],
      "text/plain": [
       "[(120,)]"
      ]
     },
     "execution_count": 21,
     "metadata": {},
     "output_type": "execute_result"
    }
   ],
   "source": [
    "%%sql\n",
    "WITH RECURSIVE\n",
    "    factorials(n,x) AS (\n",
    "        SELECT 1, 1\n",
    "        UNION\n",
    "        SELECT n+1, (n+1)*x FROM factorials WHERE n < 5)\n",
    "SELECT x FROM factorials WHERE n = 5;"
   ]
  },
  {
   "cell_type": "markdown",
   "metadata": {},
   "source": [
    "In this example:\n",
    "\n",
    "1. First, `(1,1)` is inserted into the table `factorials` (the base case).\n",
    "2. Next, this tuple is returned by the recursive select, as `(n, x)`, and we insert the result back into `factorials`: `(1+1, (1+1)*1) = (2,2)`\n",
    "3. Next, we do the same with the last tuple inserted into `factorials`- `(2,2)`- and insert `(2+1, (2+1)*2) = (3,6)`\n",
    "4. And again: get `(3,6)` from `factorials` and insert `(3+1, (3+1)*6) = (4,24)` back in\n",
    "5. And again: `(4,24)` -> `(4+1, (4+1)*24) = (5,120)`\n",
    "6. Now the last tuple inserted into `factorials` is `(5, 120)`, which fails the `WHERE n < 5` clause, and thus our recursive select returns an empty set, and our `WITH RECURSIVE` statement concludes\n",
    "7. Finally, now that our `WITH RECURSIVE` clause has concluded, we move on to the `SELECT x FROM factorials WHERE n=5` clause, which gets us our answer!"
   ]
  },
  {
   "cell_type": "markdown",
   "metadata": {},
   "source": [
    "#### Now, your turn!\n",
    "\n",
    "Write a single SQL query that uses `WITH RECURSIVE` to find the furthest (by distance) pair of companies that still have a path of streets connecting them.  Your query should return `(A, B, distance)`.\n",
    "\n",
    "Write your query here:"
   ]
  },
  {
   "cell_type": "code",
   "execution_count": 58,
   "metadata": {},
   "outputs": [
    {
     "name": "stdout",
     "output_type": "stream",
     "text": [
      " * sqlite:///PS1.db\n",
      "Done.\n"
     ]
    },
    {
     "data": {
      "text/html": [
       "<table>\n",
       "    <tr>\n",
       "        <th>A</th>\n",
       "        <th>B</th>\n",
       "        <th>distance</th>\n",
       "    </tr>\n",
       "    <tr>\n",
       "        <td>GadgetWorks</td>\n",
       "        <td>ThingWorks</td>\n",
       "        <td>63</td>\n",
       "    </tr>\n",
       "</table>"
      ],
      "text/plain": [
       "[('GadgetWorks', 'ThingWorks', 63)]"
      ]
     },
     "execution_count": 58,
     "metadata": {},
     "output_type": "execute_result"
    }
   ],
   "source": [
    "%%sql\n",
    "WITH RECURSIVE maxpath(start,curr,prev,d) AS (\n",
    "    SELECT streets.A, streets.B, streets.A, streets.d FROM streets\n",
    "    UNION\n",
    "    SELECT maxpath.start, streets.B, streets.A, maxpath.d+streets.d FROM maxpath, streets\n",
    "    WHERE maxpath.curr = streets.A AND maxpath.start != streets.B AND maxpath.prev != streets.B)\n",
    "SELECT start AS \"A\", curr AS \"B\", MAX(d) AS \"distance\" FROM maxpath;"
   ]
  },
  {
   "cell_type": "code",
   "execution_count": 57,
   "metadata": {},
   "outputs": [
    {
     "name": "stdout",
     "output_type": "stream",
     "text": [
      " * sqlite:///PS1.db\n",
      "Done.\n"
     ]
    },
    {
     "data": {
      "text/html": [
       "<table>\n",
       "    <tr>\n",
       "        <th>A</th>\n",
       "        <th>B</th>\n",
       "        <th>distance</th>\n",
       "    </tr>\n",
       "    <tr>\n",
       "        <td>GadgetWorks</td>\n",
       "        <td>ThingWorks</td>\n",
       "        <td>63</td>\n",
       "    </tr>\n",
       "</table>"
      ],
      "text/plain": [
       "[('GadgetWorks', 'ThingWorks', 63)]"
      ]
     },
     "execution_count": 57,
     "metadata": {},
     "output_type": "execute_result"
    }
   ],
   "source": [
    "%%sql\n",
    "WITH RECURSIVE\n",
    "LongestPath(a, b, prev, d) AS(\n",
    "    SELECT A, B, A, d \n",
    "    FROM streets\n",
    "    UNION ALL\n",
    "    \n",
    "    SELECT p.a, s.B, s.A, p.d + s.d\n",
    "    FROM LongestPath p, streets s\n",
    "    WHERE p.b = s.A AND s.B != p.a AND s.B != p.prev\n",
    ")\n",
    "\n",
    "SELECT a AS A, b AS B, MAX(d) AS distance\n",
    "FROM LongestPath;"
   ]
  },
  {
   "cell_type": "code",
   "execution_count": 22,
   "metadata": {},
   "outputs": [
    {
     "name": "stdout",
     "output_type": "stream",
     "text": [
      "Done.\n"
     ]
    },
    {
     "data": {
      "text/html": [
       "<table>\n",
       "    <tr>\n",
       "        <th>A</th>\n",
       "        <th>B</th>\n",
       "        <th>distance</th>\n",
       "    </tr>\n",
       "    <tr>\n",
       "        <td>GadgetWorks</td>\n",
       "        <td>ThingWorks</td>\n",
       "        <td>63</td>\n",
       "    </tr>\n",
       "</table>"
      ],
      "text/plain": [
       "[(u'GadgetWorks', u'ThingWorks', 63)]"
      ]
     },
     "execution_count": 22,
     "metadata": {},
     "output_type": "execute_result"
    }
   ],
   "source": [
    "\"\"\"\n",
    "Expected output below- don't re-evaluate this cell!\n",
    "\n",
    "NOTE: A valid answer must work for ALL inputs of the given type,\n",
    "not just this example.  I.e. do not hardcode around this answer / etc!\n",
    "\"\"\""
   ]
  },
  {
   "cell_type": "markdown",
   "metadata": {},
   "source": [
    "### Note on alternate output\n",
    "\n",
    "**NOTE:** The **_distance_** of the longest path could be **49 _OR_ 63** depending on which street you deleted in Part (c)!"
   ]
  }
 ],
 "metadata": {
  "kernelspec": {
   "display_name": "Python 3",
   "language": "python",
   "name": "python3"
  },
  "language_info": {
   "codemirror_mode": {
    "name": "ipython",
    "version": 3
   },
   "file_extension": ".py",
   "mimetype": "text/x-python",
   "name": "python",
   "nbconvert_exporter": "python",
   "pygments_lexer": "ipython3",
   "version": "3.7.0"
  }
 },
 "nbformat": 4,
 "nbformat_minor": 2
}
